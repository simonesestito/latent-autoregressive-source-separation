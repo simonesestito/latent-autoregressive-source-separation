{
  "nbformat": 4,
  "nbformat_minor": 0,
  "metadata": {
    "colab": {
      "provenance": [],
      "toc_visible": true
    },
    "kernelspec": {
      "name": "python3",
      "display_name": "Python 3"
    },
    "language_info": {
      "name": "python"
    }
  },
  "cells": [
    {
      "cell_type": "markdown",
      "source": [
        "# Imports and Drive mount"
      ],
      "metadata": {
        "id": "5wDWe09lE1mB"
      }
    },
    {
      "cell_type": "code",
      "source": [
        "import torch\n",
        "from torch import nn\n",
        "from torch.autograd import Function\n",
        "import torch.nn.functional as F\n",
        "import torchvision\n",
        "import torchvision.transforms as transforms\n",
        "from tqdm import tqdm\n",
        "import matplotlib.pyplot as plt\n",
        "import sys"
      ],
      "metadata": {
        "id": "h1YbnEU4E4U2"
      },
      "execution_count": null,
      "outputs": []
    },
    {
      "cell_type": "code",
      "source": [
        "# Google Drive will get mounted automatically\n",
        "# Then, cd into that directory\n",
        "%cd /content/drive/MyDrive/1s2/Deep Learning/Deep Project/checkpoints"
      ],
      "metadata": {
        "colab": {
          "base_uri": "https://localhost:8080/"
        },
        "id": "XzvmTdRaHB-9",
        "outputId": "32d9851d-6552-4c00-c8e3-9264d41fafae"
      },
      "execution_count": null,
      "outputs": [
        {
          "output_type": "stream",
          "name": "stdout",
          "text": [
            "/content/drive/MyDrive/1s2/Deep Learning/Deep Project/checkpoints\n"
          ]
        }
      ]
    },
    {
      "cell_type": "code",
      "source": [
        "#@title Checkpoints filename\n",
        "student_model_trained_encoder_checkpoint_filename = 'student_model_trained_encoder.pt'\n",
        "student_model_trained_enc_dec_checkpoint_filename = 'student_model_trained_enc_dec.pt'"
      ],
      "metadata": {
        "id": "T94ekDQIZy86"
      },
      "execution_count": null,
      "outputs": []
    },
    {
      "cell_type": "code",
      "source": [
        "#@title Utility functions\n",
        "def print_params(model: nn.Module):\n",
        "    print('Trainable parameters:', sum(p.numel() for p in model.parameters() if p.requires_grad))\n",
        "    print('Frozen parameters:', sum(p.numel() for p in model.parameters() if not p.requires_grad))\n",
        "    print('Parameters type:', model.parameters().__next__().dtype)\n",
        "    print('Parameters device:', model.parameters().__next__().device)\n",
        "    print()\n",
        "\n",
        "\n",
        "# Function to initialize the weights of our network\n",
        "def weights_init(m):\n",
        "    className = m.__class__.__name__\n",
        "    if className.find('Conv') != -1:\n",
        "        try:\n",
        "            nn.init.xavier_uniform_(m.weight.data)\n",
        "            m.bias.data.fill_(0)\n",
        "        except AttributeError:\n",
        "            print(\"Skipping initialization of \", className)\n",
        "\n",
        "\n",
        "def print_outputs(outputs):\n",
        "  if type(outputs) is list or type(outputs) is tuple:\n",
        "    for i in outputs:\n",
        "      print_outputs(i)\n",
        "  elif type(outputs) is torch.Tensor:\n",
        "    print(outputs.dtype, outputs.shape)\n",
        "  else:\n",
        "    print(outputs)\n",
        "\n",
        "\n",
        "def plot_losses_history(losses_history):\n",
        "  train_losses, test_losses = zip(*losses_history)\n",
        "\n",
        "  plt.plot(train_losses, label='Training Loss')\n",
        "  plt.plot(test_losses, label='Test Loss')\n",
        "  plt.xlabel('Epoch')\n",
        "  plt.ylabel('Loss')\n",
        "  plt.legend()\n",
        "  plt.title('Training and Test Losses')\n",
        "  plt.show()\n",
        "\n",
        "\n",
        "def show_image(image, title=None):\n",
        "  image = image.cpu()\n",
        "\n",
        "  if len(image.shape) == 4:\n",
        "    image = image.squeeze()\n",
        "\n",
        "  plt.imshow(image, cmap='gray')\n",
        "\n",
        "  if title is not None:\n",
        "    plt.title(title)\n",
        "\n",
        "  plt.axis('off')\n",
        "\n",
        "\n",
        "def show_images(images):\n",
        "  plt.figure()\n",
        "  for i, image in enumerate(images):\n",
        "    plt.subplot(1, len(images), i + 1)\n",
        "    if type(image) is tuple:\n",
        "      image, title = image\n",
        "      show_image(image, title)\n",
        "    else:\n",
        "      show_image(image)\n",
        "  plt.show()\n",
        "\n",
        "\n",
        "def test_model(encoder_model, decoder_model):\n",
        "  # Pick a random image from MNIST dataset\n",
        "  input_image, _ = testset[3]\n",
        "  input_image = input_image[None, ...].to(device)\n",
        "  input_image.dtype, input_image.shape\n",
        "\n",
        "  print('Using encoder:', encoder_model.__class__.__name__)\n",
        "  print('Using decoder:', decoder_model.__class__.__name__)\n",
        "\n",
        "  with torch.no_grad():\n",
        "    teacher_x_tilde, _, _ = teacher_vq_vae(input_image)\n",
        "\n",
        "    z_e_x = encoder_model.encoder(input_image)\n",
        "    codes = teacher_vq_vae.codeBook(z_e_x)\n",
        "    latents = teacher_vq_vae.codes_to_latents(codes)\n",
        "    student_x_tilde = decoder_model.decode_latents(latents)\n",
        "\n",
        "  show_images([\n",
        "      (input_image, 'Original image'),\n",
        "      (teacher_x_tilde, 'Teacher model'),\n",
        "      (student_x_tilde, 'Student model'),\n",
        "  ])\n",
        "\n",
        "  teacher_student_image_l2 = F.mse_loss(teacher_x_tilde, student_x_tilde)\n",
        "  print(f'L2 distance between teacher and student reconstructions: {teacher_student_image_l2:.4f}')"
      ],
      "metadata": {
        "id": "acG4jpStgsPQ"
      },
      "execution_count": null,
      "outputs": []
    },
    {
      "cell_type": "markdown",
      "source": [
        "# Define teacher model"
      ],
      "metadata": {
        "id": "KLiORqLNEOZs"
      }
    },
    {
      "cell_type": "code",
      "source": [
        "# finding the z_e_q given x (by comparing with z_e_x)\n",
        "class VectorQuantization(Function):\n",
        "\n",
        "    @staticmethod\n",
        "    def forward(ctx, inputs, codeBook):\n",
        "        with torch.no_grad():\n",
        "            # assigning the dimension of our embedding\n",
        "            embedding_size = codeBook.size(1)\n",
        "\n",
        "            inputs_size = inputs.size()\n",
        "            # Flatten input\n",
        "            inputs_flatten = inputs.view(-1, embedding_size)\n",
        "\n",
        "            codeBook_sqr = torch.sum(codeBook ** 2, dim=1)\n",
        "            inputs_sqr = torch.sum(inputs_flatten ** 2, dim=1, keepdim=True)\n",
        "\n",
        "            # Compute the distances of the inputs to the codeBook\n",
        "            distances = torch.addmm(codeBook_sqr + inputs_sqr,\n",
        "                                    inputs_flatten, codeBook.t(), alpha=-2.0, beta=1.0)\n",
        "\n",
        "            _, indices_flatten = torch.min(distances, dim=1)\n",
        "            indices = indices_flatten.view(*inputs_size[:-1])\n",
        "            ctx.mark_non_differentiable(indices)\n",
        "\n",
        "            return indices\n",
        "\n",
        "    @staticmethod\n",
        "    def backward(ctx, grad_output):\n",
        "        raise RuntimeError('Trying to call `.grad()` on graph containing '\n",
        "                           '`VectorQuantization`. The function `VectorQuantization` '\n",
        "                           'is not differentiable. Use `VectorQuantizationStraightThrough` '\n",
        "                           'if you want a straight-through estimator of the gradient.')\n",
        "\n",
        "\n",
        "# Required to pass gradients received by z_e_q to z_e_x as torch.min function makes the back-propagation gradient\n",
        "# impossible\n",
        "class VectorQuantizationStraightThrough(Function):\n",
        "    @staticmethod\n",
        "    def forward(ctx, inputs, codeBook):\n",
        "\n",
        "        # evaluating the indices with the least distance between inputs and codeBook\n",
        "        indices = vq(inputs, codeBook)\n",
        "        indices_flatten = indices.view(-1)\n",
        "        # saving indices for backward pass\n",
        "        ctx.save_for_backward(indices_flatten, codeBook)\n",
        "        ctx.mark_non_differentiable(indices_flatten)\n",
        "        codes_flatten = torch.index_select(codeBook, dim=0,\n",
        "                                           index=indices_flatten)\n",
        "        # get embedding corresponding to the inputs\n",
        "        codes = codes_flatten.view_as(inputs)\n",
        "\n",
        "        return codes, indices_flatten\n",
        "\n",
        "    @staticmethod\n",
        "    def backward(ctx, grad_output, grad_indices):\n",
        "        grad_inputs, grad_codeBook = None, None\n",
        "\n",
        "        if ctx.needs_input_grad[0]:\n",
        "            # Straight-through estimator\n",
        "            grad_inputs = grad_output.clone()\n",
        "        if ctx.needs_input_grad[1]:\n",
        "            # Gradient with respect to the codeBook\n",
        "            indices, codeBook = ctx.saved_tensors\n",
        "            embedding_size = codeBook.size(1)\n",
        "\n",
        "            grad_output_flatten = (grad_output.contiguous()\n",
        "                                   .view(-1, embedding_size))\n",
        "\n",
        "            # for passing gradient backwards\n",
        "            grad_codeBook = torch.zeros_like(codeBook)\n",
        "            grad_codeBook.index_add_(0, indices, grad_output_flatten)\n",
        "\n",
        "        return grad_inputs, grad_codeBook\n",
        "\n",
        "\n",
        "vq = VectorQuantization.apply\n",
        "vq_st = VectorQuantizationStraightThrough.apply"
      ],
      "metadata": {
        "id": "vGcE6IRVEuMI"
      },
      "execution_count": null,
      "outputs": []
    },
    {
      "cell_type": "code",
      "source": [
        "# Structure of the residual block\n",
        "\n",
        "class ResBlock(nn.Module):\n",
        "    def __init__(self, dim):\n",
        "        super().__init__()\n",
        "        self.block = nn.Sequential(\n",
        "            nn.LeakyReLU(),\n",
        "            nn.Conv2d(dim, dim, 3, 1, 1),\n",
        "            nn.BatchNorm2d(dim),\n",
        "            nn.LeakyReLU(),\n",
        "            nn.Conv2d(dim, dim, 1),\n",
        "            nn.BatchNorm2d(dim)\n",
        "        )\n",
        "\n",
        "    def forward(self, x):\n",
        "        return x + self.block(x)"
      ],
      "metadata": {
        "id": "Uq39dADfEweI"
      },
      "execution_count": null,
      "outputs": []
    },
    {
      "cell_type": "code",
      "source": [
        "# Structure of the embedding layer\n",
        "class VQEmbedding(nn.Module):\n",
        "    def __init__(self, K, D):\n",
        "        super().__init__()\n",
        "        # creating the embedding\n",
        "        self.embedding = nn.Embedding(K, D)\n",
        "        # weights belong to a uniform distribution\n",
        "        self.embedding.weight.data.uniform_(-1. / K, 1. / K)\n",
        "\n",
        "    # z_e_x --> latent code for the input image\n",
        "    def forward(self, z_e_x):\n",
        "        # converting BCHW --> BHWC\n",
        "        z_e_x_ = z_e_x.permute(0, 2, 3, 1).contiguous()\n",
        "        # Retrieving the indices corresponding to the input\n",
        "        latents = vq(z_e_x_, self.embedding.weight)\n",
        "        return latents\n",
        "\n",
        "    # z_e_x --> latent code for the input image\n",
        "    def straight_through(self, z_e_x):\n",
        "        # converting BCHW --> BHWC\n",
        "        z_e_x_ = z_e_x.permute(0, 2, 3, 1).contiguous()\n",
        "\n",
        "        # z_q_x --> latent code from the embedding nearest to the input code\n",
        "        z_q_x_, indices = vq_st(z_e_x_, self.embedding.weight.detach())\n",
        "        z_q_x = z_q_x_.permute(0, 3, 1, 2).contiguous()\n",
        "\n",
        "        # z_q_x_bar --> backprop possible\n",
        "        z_q_x_bar_flatten = torch.index_select(self.embedding.weight,\n",
        "                                               dim=0, index=indices)\n",
        "        z_q_x_bar_ = z_q_x_bar_flatten.view_as(z_e_x_)\n",
        "        z_q_x_bar = z_q_x_bar_.permute(0, 3, 1, 2).contiguous()\n",
        "\n",
        "        # used for generating the image (decoding)\n",
        "        return z_q_x, z_q_x_bar"
      ],
      "metadata": {
        "id": "FmnQpwGsEyV5"
      },
      "execution_count": null,
      "outputs": []
    },
    {
      "cell_type": "code",
      "source": [
        "# Architecture of VQ-VAE\n",
        "class VectorQuantizedVAE(nn.Module):\n",
        "    def __init__(self, input_dim, dim, K=512):\n",
        "        super().__init__()\n",
        "        self.encoder = nn.Sequential(\n",
        "            nn.Conv2d(input_dim, dim, 4, 2, 1),\n",
        "            nn.BatchNorm2d(dim),\n",
        "            nn.LeakyReLU(),\n",
        "            nn.Conv2d(dim, dim, 4, 2, 1),\n",
        "            ResBlock(dim),\n",
        "            ResBlock(dim),\n",
        "        )\n",
        "\n",
        "        self.codeBook = VQEmbedding(K, dim)\n",
        "\n",
        "        self.decoder = nn.Sequential(\n",
        "            ResBlock(dim),\n",
        "            ResBlock(dim),\n",
        "            nn.LeakyReLU(),\n",
        "            nn.ConvTranspose2d(dim, dim, 4, 2, 1),\n",
        "            nn.BatchNorm2d(dim),\n",
        "            nn.LeakyReLU(),\n",
        "            nn.ConvTranspose2d(dim, input_dim, 4, 2, 1),\n",
        "            nn.Sigmoid()\n",
        "        )\n",
        "\n",
        "        self.apply(weights_init)\n",
        "\n",
        "    def encode(self, x):\n",
        "        z_e_x = self.encoder(x)\n",
        "        codes = self.codeBook(z_e_x)\n",
        "        return codes\n",
        "\n",
        "    def decode(self, codes):\n",
        "        z_q_x = self.codeBook.embedding(codes).permute(0, 3, 1, 2)  # (B, C, H, W)\n",
        "        x_tilde = self.decoder(z_q_x)\n",
        "        return x_tilde\n",
        "\n",
        "    def codes_to_latents(self,codes):\n",
        "        return self.codeBook.embedding(codes).permute(0, 3, 1, 2)  # (B, C, H, W)\n",
        "\n",
        "    def decode_latents(self, z_q_x):\n",
        "        x_tilde = self.decoder(z_q_x)\n",
        "        return x_tilde\n",
        "\n",
        "    def forward(self, x):\n",
        "        z_e_x = self.encoder(x)\n",
        "        z_q_x_st, z_q_x = self.codeBook.straight_through(z_e_x)\n",
        "        x_tilde = self.decoder(z_q_x_st)\n",
        "        return x_tilde, z_e_x, z_q_x"
      ],
      "metadata": {
        "id": "bUq9dS5pEQYu"
      },
      "execution_count": null,
      "outputs": []
    },
    {
      "cell_type": "code",
      "source": [
        "# Parameters from EvaluateSeparationConfig.vqvae\n",
        "input_dim, dim, K, device = 1, 128, 256, \"cuda\" if torch.cuda.is_available() else \"cpu\"\n",
        "print('Using device:', device)\n",
        "\n",
        "teacher_vq_vae = VectorQuantizedVAE(input_dim, dim, K).to(device)\n",
        "with open('./256-sigmoid-big.pt', 'rb') as f:\n",
        "        teacher_vq_vae.load_state_dict(torch.load(f, map_location=device))\n",
        "\n",
        "print_params(teacher_vq_vae)"
      ],
      "metadata": {
        "colab": {
          "base_uri": "https://localhost:8080/"
        },
        "id": "r7v0Gst7FOGZ",
        "outputId": "8c47af7f-b0b3-4cba-9523-941251d7c5b6"
      },
      "execution_count": null,
      "outputs": [
        {
          "output_type": "stream",
          "name": "stdout",
          "text": [
            "Using device: cpu\n",
            "Trainable parameters: 1220481\n",
            "Frozen parameters: 0\n",
            "Parameters type: torch.float32\n",
            "Parameters device: cpu\n",
            "\n"
          ]
        }
      ]
    },
    {
      "cell_type": "markdown",
      "source": [
        "# Define a smaller student model\n",
        "It still has to follow a similar architecture as the teacher model,\n",
        "but drastically reducing the number of parameters involved."
      ],
      "metadata": {
        "id": "9ZqWy5XTH3k4"
      }
    },
    {
      "cell_type": "code",
      "source": [
        "class DistilResBlock(nn.Module):\n",
        "    def __init__(self, dim):\n",
        "        super().__init__()\n",
        "        self.block = nn.Sequential(\n",
        "            nn.LeakyReLU(),\n",
        "            nn.Conv2d(dim, dim, 3, 1, 1),  # Since it is a resblock, dimensionality of the output of self.block MUST be the same as the input X\n",
        "            nn.BatchNorm2d(dim),\n",
        "            # nn.LeakyReLU(),\n",
        "            # nn.Conv2d(dim, dim, 1),\n",
        "            # nn.BatchNorm2d(dim)\n",
        "        )\n",
        "\n",
        "    def forward(self, x):\n",
        "        return x + self.block(x)"
      ],
      "metadata": {
        "id": "LitUAI-OIu1-"
      },
      "execution_count": null,
      "outputs": []
    },
    {
      "cell_type": "code",
      "source": [
        "class DistilVectorQuantizedVAE(nn.Module):\n",
        "    def __init__(self, input_dim, _dim, K=512):\n",
        "        super().__init__()\n",
        "\n",
        "        kernel_size, stride, padding = 6, 4, 1  # Match the output size 28x28\n",
        "\n",
        "        self.encoder = nn.Sequential(\n",
        "            nn.Conv2d(input_dim, dim, kernel_size, stride, padding),\n",
        "            nn.BatchNorm2d(dim),\n",
        "            nn.LeakyReLU(),\n",
        "\n",
        "            # Use only 1 ResBlock instead of 2\n",
        "            DistilResBlock(dim),\n",
        "        )\n",
        "\n",
        "        # Still, keep K the same (determining the output shape)\n",
        "        self.codeBook = VQEmbedding(K, dim)\n",
        "\n",
        "        self.decoder = nn.Sequential(\n",
        "            # Use only 1 ResBlock instead of 2\n",
        "            DistilResBlock(dim),\n",
        "            nn.LeakyReLU(),\n",
        "\n",
        "            nn.ConvTranspose2d(dim, input_dim, kernel_size, stride, padding),\n",
        "            nn.Sigmoid()\n",
        "        )\n",
        "\n",
        "        self.apply(weights_init)\n",
        "\n",
        "    def encode(self, x):\n",
        "        z_e_x = self.encoder(x)\n",
        "        codes = self.codeBook(z_e_x)\n",
        "        return codes\n",
        "\n",
        "    def decode(self, codes):\n",
        "        z_q_x = self.codeBook.embedding(codes).permute(0, 3, 1, 2)  # (B, C, H, W)\n",
        "        x_tilde = self.decoder(z_q_x)\n",
        "        return x_tilde\n",
        "\n",
        "    def codes_to_latents(self,codes):\n",
        "        return self.codeBook.embedding(codes).permute(0, 3, 1, 2)  # (B, C, H, W)\n",
        "\n",
        "    def decode_latents(self, z_q_x):\n",
        "        x_tilde = self.decoder(z_q_x)\n",
        "        return x_tilde\n",
        "\n",
        "    def forward(self, x):\n",
        "        z_e_x = self.encoder(x)\n",
        "        z_q_x_st, z_q_x = self.codeBook.straight_through(z_e_x)\n",
        "        x_tilde = self.decoder(z_q_x_st)\n",
        "        return x_tilde, z_e_x, z_q_x"
      ],
      "metadata": {
        "id": "mc0vYpCxHdkt"
      },
      "execution_count": null,
      "outputs": []
    },
    {
      "cell_type": "code",
      "source": [
        "student_model = DistilVectorQuantizedVAE(input_dim, dim, K).to(device)\n",
        "print_params(student_model)"
      ],
      "metadata": {
        "colab": {
          "base_uri": "https://localhost:8080/"
        },
        "id": "p38gf6YqKFiW",
        "outputId": "c691eb55-c3a4-4ca9-9b0b-d1bc34b8c21a"
      },
      "execution_count": null,
      "outputs": [
        {
          "output_type": "stream",
          "name": "stdout",
          "text": [
            "Trainable parameters: 338049\n",
            "Frozen parameters: 0\n",
            "Parameters type: torch.float32\n",
            "Parameters device: cpu\n",
            "\n"
          ]
        }
      ]
    },
    {
      "cell_type": "code",
      "source": [
        "student_model"
      ],
      "metadata": {
        "colab": {
          "base_uri": "https://localhost:8080/"
        },
        "id": "EuNatcfGS1iD",
        "outputId": "cd3dae3c-413d-4646-aacd-c0e7af37272c"
      },
      "execution_count": null,
      "outputs": [
        {
          "output_type": "execute_result",
          "data": {
            "text/plain": [
              "DistilVectorQuantizedVAE(\n",
              "  (encoder): Sequential(\n",
              "    (0): Conv2d(1, 128, kernel_size=(6, 6), stride=(4, 4), padding=(1, 1))\n",
              "    (1): BatchNorm2d(128, eps=1e-05, momentum=0.1, affine=True, track_running_stats=True)\n",
              "    (2): LeakyReLU(negative_slope=0.01)\n",
              "    (3): DistilResBlock(\n",
              "      (block): Sequential(\n",
              "        (0): LeakyReLU(negative_slope=0.01)\n",
              "        (1): Conv2d(128, 128, kernel_size=(3, 3), stride=(1, 1), padding=(1, 1))\n",
              "        (2): BatchNorm2d(128, eps=1e-05, momentum=0.1, affine=True, track_running_stats=True)\n",
              "      )\n",
              "    )\n",
              "  )\n",
              "  (codeBook): VQEmbedding(\n",
              "    (embedding): Embedding(256, 128)\n",
              "  )\n",
              "  (decoder): Sequential(\n",
              "    (0): DistilResBlock(\n",
              "      (block): Sequential(\n",
              "        (0): LeakyReLU(negative_slope=0.01)\n",
              "        (1): Conv2d(128, 128, kernel_size=(3, 3), stride=(1, 1), padding=(1, 1))\n",
              "        (2): BatchNorm2d(128, eps=1e-05, momentum=0.1, affine=True, track_running_stats=True)\n",
              "      )\n",
              "    )\n",
              "    (1): LeakyReLU(negative_slope=0.01)\n",
              "    (2): ConvTranspose2d(128, 1, kernel_size=(6, 6), stride=(4, 4), padding=(1, 1))\n",
              "    (3): Sigmoid()\n",
              "  )\n",
              ")"
            ]
          },
          "metadata": {},
          "execution_count": 13
        }
      ]
    },
    {
      "cell_type": "code",
      "source": [
        "teacher_vq_vae"
      ],
      "metadata": {
        "colab": {
          "base_uri": "https://localhost:8080/"
        },
        "id": "9L3h4pB3S1gT",
        "outputId": "38d1963b-4974-4e61-eecb-100b701b455e"
      },
      "execution_count": null,
      "outputs": [
        {
          "output_type": "execute_result",
          "data": {
            "text/plain": [
              "VectorQuantizedVAE(\n",
              "  (encoder): Sequential(\n",
              "    (0): Conv2d(1, 128, kernel_size=(4, 4), stride=(2, 2), padding=(1, 1))\n",
              "    (1): BatchNorm2d(128, eps=1e-05, momentum=0.1, affine=True, track_running_stats=True)\n",
              "    (2): LeakyReLU(negative_slope=0.01)\n",
              "    (3): Conv2d(128, 128, kernel_size=(4, 4), stride=(2, 2), padding=(1, 1))\n",
              "    (4): ResBlock(\n",
              "      (block): Sequential(\n",
              "        (0): LeakyReLU(negative_slope=0.01)\n",
              "        (1): Conv2d(128, 128, kernel_size=(3, 3), stride=(1, 1), padding=(1, 1))\n",
              "        (2): BatchNorm2d(128, eps=1e-05, momentum=0.1, affine=True, track_running_stats=True)\n",
              "        (3): LeakyReLU(negative_slope=0.01)\n",
              "        (4): Conv2d(128, 128, kernel_size=(1, 1), stride=(1, 1))\n",
              "        (5): BatchNorm2d(128, eps=1e-05, momentum=0.1, affine=True, track_running_stats=True)\n",
              "      )\n",
              "    )\n",
              "    (5): ResBlock(\n",
              "      (block): Sequential(\n",
              "        (0): LeakyReLU(negative_slope=0.01)\n",
              "        (1): Conv2d(128, 128, kernel_size=(3, 3), stride=(1, 1), padding=(1, 1))\n",
              "        (2): BatchNorm2d(128, eps=1e-05, momentum=0.1, affine=True, track_running_stats=True)\n",
              "        (3): LeakyReLU(negative_slope=0.01)\n",
              "        (4): Conv2d(128, 128, kernel_size=(1, 1), stride=(1, 1))\n",
              "        (5): BatchNorm2d(128, eps=1e-05, momentum=0.1, affine=True, track_running_stats=True)\n",
              "      )\n",
              "    )\n",
              "  )\n",
              "  (codeBook): VQEmbedding(\n",
              "    (embedding): Embedding(256, 128)\n",
              "  )\n",
              "  (decoder): Sequential(\n",
              "    (0): ResBlock(\n",
              "      (block): Sequential(\n",
              "        (0): LeakyReLU(negative_slope=0.01)\n",
              "        (1): Conv2d(128, 128, kernel_size=(3, 3), stride=(1, 1), padding=(1, 1))\n",
              "        (2): BatchNorm2d(128, eps=1e-05, momentum=0.1, affine=True, track_running_stats=True)\n",
              "        (3): LeakyReLU(negative_slope=0.01)\n",
              "        (4): Conv2d(128, 128, kernel_size=(1, 1), stride=(1, 1))\n",
              "        (5): BatchNorm2d(128, eps=1e-05, momentum=0.1, affine=True, track_running_stats=True)\n",
              "      )\n",
              "    )\n",
              "    (1): ResBlock(\n",
              "      (block): Sequential(\n",
              "        (0): LeakyReLU(negative_slope=0.01)\n",
              "        (1): Conv2d(128, 128, kernel_size=(3, 3), stride=(1, 1), padding=(1, 1))\n",
              "        (2): BatchNorm2d(128, eps=1e-05, momentum=0.1, affine=True, track_running_stats=True)\n",
              "        (3): LeakyReLU(negative_slope=0.01)\n",
              "        (4): Conv2d(128, 128, kernel_size=(1, 1), stride=(1, 1))\n",
              "        (5): BatchNorm2d(128, eps=1e-05, momentum=0.1, affine=True, track_running_stats=True)\n",
              "      )\n",
              "    )\n",
              "    (2): LeakyReLU(negative_slope=0.01)\n",
              "    (3): ConvTranspose2d(128, 128, kernel_size=(4, 4), stride=(2, 2), padding=(1, 1))\n",
              "    (4): BatchNorm2d(128, eps=1e-05, momentum=0.1, affine=True, track_running_stats=True)\n",
              "    (5): LeakyReLU(negative_slope=0.01)\n",
              "    (6): ConvTranspose2d(128, 1, kernel_size=(4, 4), stride=(2, 2), padding=(1, 1))\n",
              "    (7): Sigmoid()\n",
              "  )\n",
              ")"
            ]
          },
          "metadata": {},
          "execution_count": 14
        }
      ]
    },
    {
      "cell_type": "markdown",
      "source": [
        "## Check the output size of the 2 models\n",
        "They must match, so that we can enforce the outputs logits similarity in the loss function"
      ],
      "metadata": {
        "id": "YOgppCfhhSl-"
      }
    },
    {
      "cell_type": "code",
      "source": [
        "# Do some sanity checks on the outputs dimensionality\n",
        "x = torch.rand((1, 1, 28, 28)).to(device)\n",
        "\n",
        "z_e_x = student_model.encoder(x)\n",
        "assert z_e_x.shape == (1, 128, 7, 7), f'Expected (1, 128, 7, 7), got {z_e_x.shape}'\n",
        "\n",
        "codes = student_model.codeBook(z_e_x)\n",
        "assert codes.shape == (1, 7, 7), f'Expected (1, 7, 7), got {codes.shape}'\n",
        "\n",
        "z_q_x = student_model.codeBook.embedding(codes).permute(0, 3, 1, 2)  # (B, C, H, W)\n",
        "print('z_q_x:', z_q_x.dtype, z_q_x.shape)\n",
        "\n",
        "x_tilde = student_model.decoder(z_q_x)\n",
        "assert x_tilde.shape == (1, 1, 28, 28), f'Expected (1, 1, 28, 28), got {x_tilde.shape}'"
      ],
      "metadata": {
        "id": "N3goi-v_N9TX",
        "colab": {
          "base_uri": "https://localhost:8080/"
        },
        "outputId": "9e22615b-e96a-4eef-a98b-517ff7766aca"
      },
      "execution_count": null,
      "outputs": [
        {
          "output_type": "stream",
          "name": "stdout",
          "text": [
            "z_q_x: torch.float32 torch.Size([1, 128, 7, 7])\n"
          ]
        }
      ]
    },
    {
      "cell_type": "code",
      "source": [
        "teacher_model_params_no = sum(p.numel() for p in teacher_vq_vae.parameters())\n",
        "student_model_params_no = sum(p.numel() for p in student_model.parameters())\n",
        "f'Parameters reduced of approx. {(teacher_model_params_no - student_model_params_no)/teacher_model_params_no*100:.0f}%'"
      ],
      "metadata": {
        "colab": {
          "base_uri": "https://localhost:8080/",
          "height": 35
        },
        "id": "1S5gQcW5KQVZ",
        "outputId": "c07eb0f5-64bb-44ac-95af-57641ca866ef"
      },
      "execution_count": null,
      "outputs": [
        {
          "output_type": "execute_result",
          "data": {
            "text/plain": [
              "'Parameters reduced of approx. 72%'"
            ],
            "application/vnd.google.colaboratory.intrinsic+json": {
              "type": "string"
            }
          },
          "metadata": {},
          "execution_count": 14
        }
      ]
    },
    {
      "cell_type": "code",
      "source": [
        "min_latent_code, max_latent_code = codes.min(), codes.max()\n",
        "f'For this random input batch, latent codes go from {min_latent_code.item()} to {max_latent_code.item()}. They are the indexes for the Embedding codebook!'"
      ],
      "metadata": {
        "colab": {
          "base_uri": "https://localhost:8080/",
          "height": 35
        },
        "id": "kGXY3AYaPVIN",
        "outputId": "09e6310f-dc92-4ea0-a78d-a518e231d031"
      },
      "execution_count": null,
      "outputs": [
        {
          "output_type": "execute_result",
          "data": {
            "text/plain": [
              "'For this random input batch, latent codes go from 5 to 236. They are the indexes for the Embedding codebook!'"
            ],
            "application/vnd.google.colaboratory.intrinsic+json": {
              "type": "string"
            }
          },
          "metadata": {},
          "execution_count": 15
        }
      ]
    },
    {
      "cell_type": "markdown",
      "source": [
        "## Next steps overview (Student Encoder)\n",
        "Train the student model on the MNIST dataset, with a loss function that aims to minimize the L2-distance between the float32 logits of the teacher model, before the codebook.\n",
        "\n",
        "We decided not to add to the loss also the reconstruction loss: we just want to mimic the teacher model's latent code, which is what LASS is built upon.\n",
        "\n",
        "To train the student, use the same parameters as the teacher:\n",
        "- batch_size: 64\n",
        "- lr: 1e-4\n",
        "- torchvision.datasets.MNIST(train=True)\n",
        "\n",
        "Parameters obtained from *configs/vqvae_training/mnist.yaml*"
      ],
      "metadata": {
        "id": "eKxUts-GR9mG"
      }
    },
    {
      "cell_type": "markdown",
      "source": [
        "Understand `P` training code [here](https://github.com/simonesestito/latent-autoregressive-source-separation/blob/main/lass_mnist/lass/train_sums.py#L24)\n",
        "    \n",
        "    Images mixture: torch.Size([32, 1, 28, 28])\n",
        "    Z_e_x1: torch.Size([32, 128, 7, 7])\n",
        "    Z_e_x2: torch.Size([32, 128, 7, 7])\n",
        "    Z_e_x_mixture: torch.Size([32, 128, 7, 7])\n",
        "    Codes1: torch.Size([32, 7, 7])\n",
        "    Codes2: torch.Size([32, 7, 7])\n",
        "    Codes mixture: torch.Size([32, 7, 7])\n",
        "    Codes1: torch.Size([1568])\n",
        "    Codes2: torch.Size([1568])\n",
        "    Codes mixture: torch.Size([1568])\n",
        "    Sums: torch.Size([256, 256, 256])"
      ],
      "metadata": {
        "id": "5RVbXT9RYSUO"
      }
    },
    {
      "cell_type": "code",
      "source": [
        "sums = torch.rand((256, 256, 256))\n",
        "codes1 = torch.randint(0, 100, (1568,), dtype=torch.int64)\n",
        "codes2 = torch.randint_like(codes1, 0, 100)\n",
        "codes_mix = torch.randint_like(codes1, 0, 100)\n",
        "\n",
        "print_outputs(sums[codes1, codes2, codes_mix])  # Pick indexes [i, j, k] for i, j, k in zip(codes1, codes2, codes_mix)"
      ],
      "metadata": {
        "colab": {
          "base_uri": "https://localhost:8080/"
        },
        "id": "W7CDMbioRwdB",
        "outputId": "7fca7d64-e965-43a8-c2b9-fa95a97642d2"
      },
      "execution_count": null,
      "outputs": [
        {
          "output_type": "stream",
          "name": "stdout",
          "text": [
            "torch.float32 torch.Size([1568])\n"
          ]
        }
      ]
    },
    {
      "cell_type": "code",
      "source": [
        "#@title Add Early Stopping in training\n",
        "class EarlyStopper:\n",
        "    def __init__(self, patience=1, min_delta=0):\n",
        "        self.patience = patience\n",
        "        self.min_delta = min_delta\n",
        "        self.counter = 0\n",
        "        self.min_validation_loss = float('inf')\n",
        "\n",
        "    def early_stop(self, validation_loss):\n",
        "        if validation_loss < self.min_validation_loss:\n",
        "            self.min_validation_loss = validation_loss\n",
        "            self.counter = 0\n",
        "        elif validation_loss > (self.min_validation_loss + self.min_delta):\n",
        "            self.counter += 1\n",
        "            if self.counter >= self.patience:\n",
        "                return True\n",
        "        return False"
      ],
      "metadata": {
        "id": "nGg000cDCPXQ"
      },
      "execution_count": null,
      "outputs": []
    },
    {
      "cell_type": "code",
      "source": [
        "#@title Training parameters\n",
        "\n",
        "batch_size = 64\n",
        "num_epochs = 50  # Instead of 500\n",
        "lr = 1e-4\n",
        "\n",
        "# Load MNIST dataset\n",
        "transform = transforms.Compose([transforms.ToTensor()])\n",
        "\n",
        "trainset = torchvision.datasets.MNIST(root='./data', train=True,\n",
        "                                        download=True, transform=transform)\n",
        "trainloader = torch.utils.data.DataLoader(trainset, batch_size=batch_size,\n",
        "                                          shuffle=True, num_workers=2)\n",
        "\n",
        "testset = torchvision.datasets.MNIST(root='./data', train=False,\n",
        "                                       download=True, transform=transform)\n",
        "testloader = torch.utils.data.DataLoader(testset, batch_size=batch_size,\n",
        "                                         shuffle=False, num_workers=2)"
      ],
      "metadata": {
        "id": "uWYQY9GOi4Je"
      },
      "execution_count": null,
      "outputs": []
    },
    {
      "cell_type": "code",
      "source": [
        "#@title Student model training loop\n",
        "student_model = DistilVectorQuantizedVAE(input_dim, dim, K).to(device)\n",
        "\n",
        "# Train the student model, but freeze the teacher model\n",
        "student_model.train()\n",
        "teacher_vq_vae.eval()\n",
        "\n",
        "optimizer = torch.optim.Adam(student_model.encoder.parameters(), lr=lr)\n",
        "early_stopper = EarlyStopper(patience=3, min_delta=0.001)\n",
        "\n",
        "losses_history = []\n",
        "\n",
        "\n",
        "def loop_forward_pass(inputs_batch):\n",
        "  inputs_batch = inputs_batch.to(device)\n",
        "\n",
        "  with torch.no_grad():\n",
        "    teacher_z_e_x_mixture = teacher_vq_vae.encoder(inputs_batch)\n",
        "  assert teacher_z_e_x_mixture.grad is None\n",
        "\n",
        "  student_z_e_x_mixture = student_model.encoder(inputs_batch)\n",
        "\n",
        "  # Calculate the loss as stated before\n",
        "  return F.mse_loss(student_z_e_x_mixture, teacher_z_e_x_mixture)\n",
        "\n",
        "\n",
        "for epoch in tqdm(range(num_epochs), file=sys.stdout):\n",
        "  train_loss, test_loss = 0.0, 0.0\n",
        "\n",
        "  # Training loop\n",
        "  for i, (inputs_batch, _) in enumerate(trainloader):\n",
        "    # Calculate the loss as stated before\n",
        "    loss = loop_forward_pass(inputs_batch)\n",
        "\n",
        "    optimizer.zero_grad()\n",
        "    loss.backward()\n",
        "    optimizer.step()\n",
        "\n",
        "    train_loss += loss.item()\n",
        "\n",
        "  train_loss /= len(trainloader)\n",
        "\n",
        "  # Measure how's going with test data\n",
        "  with torch.no_grad():\n",
        "    for i, (inputs_batch, _) in enumerate(testloader):\n",
        "      test_loss += loop_forward_pass(inputs_batch).item()\n",
        "\n",
        "  test_loss /= len(testloader)\n",
        "\n",
        "  losses_history.append((train_loss, test_loss))\n",
        "\n",
        "  print(f'\\rEpoch {epoch + 1}, Training Loss: {train_loss:.5f}, Test Loss: {test_loss:.5f}', flush=True)\n",
        "\n",
        "  # Early stopping\n",
        "  if early_stopper.early_stop(test_loss):\n",
        "    print(\"Early stopping triggered\")\n",
        "    break\n",
        "\n",
        "print('Finished Training')"
      ],
      "metadata": {
        "colab": {
          "base_uri": "https://localhost:8080/"
        },
        "id": "CoC79Miua3uK",
        "outputId": "f87337fa-e2fd-4fe5-948c-7ccd1c1edd2f"
      },
      "execution_count": null,
      "outputs": [
        {
          "output_type": "stream",
          "name": "stdout",
          "text": [
            "Epoch 1, Training Loss: 0.33344, Test Loss: 0.18553\n",
            "Epoch 2, Training Loss: 0.14082, Test Loss: 0.10501\n",
            "Epoch 3, Training Loss: 0.07991, Test Loss: 0.05963\n",
            "Epoch 4, Training Loss: 0.04512, Test Loss: 0.03375\n",
            "Epoch 5, Training Loss: 0.02565, Test Loss: 0.01986\n",
            "Epoch 6, Training Loss: 0.01545, Test Loss: 0.01270\n",
            "Epoch 7, Training Loss: 0.01011, Test Loss: 0.00894\n",
            "Epoch 8, Training Loss: 0.00730, Test Loss: 0.00700\n",
            "Epoch 9, Training Loss: 0.00581, Test Loss: 0.00592\n",
            "Epoch 10, Training Loss: 0.00494, Test Loss: 0.00527\n",
            "Epoch 11, Training Loss: 0.00436, Test Loss: 0.00478\n",
            "Epoch 12, Training Loss: 0.00398, Test Loss: 0.00446\n",
            "Epoch 13, Training Loss: 0.00371, Test Loss: 0.00427\n",
            "Epoch 14, Training Loss: 0.00353, Test Loss: 0.00413\n",
            "Epoch 15, Training Loss: 0.00342, Test Loss: 0.00407\n",
            "Epoch 16, Training Loss: 0.00336, Test Loss: 0.00398\n",
            "Epoch 17, Training Loss: 0.00331, Test Loss: 0.00402\n",
            "Epoch 18, Training Loss: 0.00326, Test Loss: 0.00394\n",
            "Epoch 19, Training Loss: 0.00323, Test Loss: 0.00386\n",
            "Epoch 20, Training Loss: 0.00320, Test Loss: 0.00390\n",
            "Epoch 21, Training Loss: 0.00316, Test Loss: 0.00385\n",
            "Epoch 22, Training Loss: 0.00314, Test Loss: 0.00382\n",
            "Epoch 23, Training Loss: 0.00310, Test Loss: 0.00376\n",
            "Epoch 24, Training Loss: 0.00308, Test Loss: 0.00374\n",
            "Epoch 25, Training Loss: 0.00306, Test Loss: 0.00371\n",
            "Epoch 26, Training Loss: 0.00304, Test Loss: 0.00369\n",
            "Epoch 27, Training Loss: 0.00302, Test Loss: 0.00368\n",
            "Epoch 28, Training Loss: 0.00300, Test Loss: 0.00365\n",
            "Epoch 29, Training Loss: 0.00298, Test Loss: 0.00365\n",
            "Epoch 30, Training Loss: 0.00296, Test Loss: 0.00363\n",
            "Epoch 31, Training Loss: 0.00294, Test Loss: 0.00359\n",
            "Epoch 32, Training Loss: 0.00292, Test Loss: 0.00361\n",
            "Epoch 33, Training Loss: 0.00291, Test Loss: 0.00356\n",
            "Epoch 34, Training Loss: 0.00289, Test Loss: 0.00356\n",
            "Epoch 35, Training Loss: 0.00288, Test Loss: 0.00355\n",
            "Epoch 36, Training Loss: 0.00286, Test Loss: 0.00354\n",
            "Epoch 37, Training Loss: 0.00285, Test Loss: 0.00350\n",
            "Epoch 38, Training Loss: 0.00284, Test Loss: 0.00354\n",
            "Epoch 39, Training Loss: 0.00283, Test Loss: 0.00349\n",
            "Epoch 40, Training Loss: 0.00282, Test Loss: 0.00353\n",
            "Epoch 41, Training Loss: 0.00280, Test Loss: 0.00352\n",
            "Epoch 42, Training Loss: 0.00279, Test Loss: 0.00346\n",
            "Epoch 43, Training Loss: 0.00279, Test Loss: 0.00346\n",
            "Epoch 44, Training Loss: 0.00277, Test Loss: 0.00345\n",
            "Epoch 45, Training Loss: 0.00275, Test Loss: 0.00343\n",
            "Epoch 46, Training Loss: 0.00275, Test Loss: 0.00346\n",
            "Epoch 47, Training Loss: 0.00273, Test Loss: 0.00338\n",
            "Epoch 48, Training Loss: 0.00271, Test Loss: 0.00341\n",
            "Epoch 49, Training Loss: 0.00271, Test Loss: 0.00338\n",
            "Epoch 50, Training Loss: 0.00270, Test Loss: 0.00338\n",
            "100%|██████████| 50/50 [10:17<00:00, 12.34s/it]\n",
            "Finished Training\n"
          ]
        }
      ]
    },
    {
      "cell_type": "code",
      "source": [
        "plot_losses_history(losses_history)"
      ],
      "metadata": {
        "colab": {
          "base_uri": "https://localhost:8080/",
          "height": 472
        },
        "id": "b_a39dvwfYLZ",
        "outputId": "4cabb7cc-1eec-4748-9228-9fd756fb815c"
      },
      "execution_count": null,
      "outputs": [
        {
          "output_type": "display_data",
          "data": {
            "text/plain": [
              "<Figure size 640x480 with 1 Axes>"
            ],
            "image/png": "[encoded data removed]"
          },
          "metadata": {}
        }
      ]
    },
    {
      "cell_type": "code",
      "source": [
        "torch.save(student_model.state_dict(), student_model_trained_encoder_checkpoint_filename)"
      ],
      "metadata": {
        "id": "ji7qCJzjV7k_"
      },
      "execution_count": null,
      "outputs": []
    },
    {
      "cell_type": "markdown",
      "source": [
        "## Test the reconstruction replacing only the Encoder\n",
        "Reconstruct the image using the teacher pre-trained model, but with the student Encoder"
      ],
      "metadata": {
        "id": "dLbFnG1PFqHJ"
      }
    },
    {
      "cell_type": "code",
      "source": [
        "test_model(encoder_model=student_model, decoder_model=teacher_vq_vae)"
      ],
      "metadata": {
        "colab": {
          "base_uri": "https://localhost:8080/",
          "height": 260
        },
        "id": "qSCzJEaZGqS6",
        "outputId": "5c8d2dfc-81c9-4725-9b04-c42bec0b12fa"
      },
      "execution_count": null,
      "outputs": [
        {
          "output_type": "stream",
          "name": "stdout",
          "text": [
            "Using encoder: DistilVectorQuantizedVAE\n",
            "Using decoder: VectorQuantizedVAE\n"
          ]
        },
        {
          "output_type": "display_data",
          "data": {
            "text/plain": [
              "<Figure size 640x480 with 3 Axes>"
            ],
            "image/png": "[encoded data removed]"
          },
          "metadata": {}
        },
        {
          "output_type": "stream",
          "name": "stdout",
          "text": [
            "L2 distance between teacher and student reconstructions: 0.0098\n"
          ]
        }
      ]
    },
    {
      "cell_type": "markdown",
      "source": [
        "## Train the student decoder\n",
        "Repeat what we did with the Encoder, this time with the Decoder.\n",
        "\n",
        "For now, the codebook will stay the same"
      ],
      "metadata": {
        "id": "rkSnWBpxL5xv"
      }
    },
    {
      "cell_type": "code",
      "source": [
        "# Restore the saved model\n",
        "student_model = DistilVectorQuantizedVAE(input_dim, dim, K).to(device)\n",
        "with open(student_model_trained_encoder_checkpoint_filename, 'rb') as f:\n",
        "  student_model.load_state_dict(torch.load(f, map_location=device))\n",
        "student_model.train()\n",
        "teacher_vq_vae.eval()\n",
        "\n",
        "student_model.decoder.apply(weights_init)\n",
        "\n",
        "optimizer = torch.optim.Adam(student_model.decoder.parameters(), lr=lr)\n",
        "early_stopper = EarlyStopper(patience=3, min_delta=0.001)\n",
        "\n",
        "losses_history = []\n",
        "\n",
        "\n",
        "def loop_forward_pass(inputs_batch):\n",
        "  inputs_batch = inputs_batch.to(device)\n",
        "\n",
        "  with torch.no_grad():\n",
        "    z_e_x = teacher_vq_vae.encoder(inputs_batch)\n",
        "    codes = teacher_vq_vae.codeBook(z_e_x)\n",
        "    latents = teacher_vq_vae.codes_to_latents(codes)\n",
        "    teacher_x_tilde = teacher_vq_vae.decode_latents(latents)\n",
        "\n",
        "  student_x_tilde = student_model.decoder(latents)\n",
        "\n",
        "  # Calculate the loss on the reconstructed image\n",
        "  return F.mse_loss(student_x_tilde, teacher_x_tilde)\n",
        "\n",
        "\n",
        "for epoch in tqdm(range(num_epochs), file=sys.stdout):\n",
        "  train_loss, test_loss = 0.0, 0.0\n",
        "\n",
        "  # Training loop\n",
        "  for i, (inputs_batch, _) in enumerate(trainloader):\n",
        "    # Calculate the loss as stated before\n",
        "    loss = loop_forward_pass(inputs_batch)\n",
        "\n",
        "    optimizer.zero_grad()\n",
        "    loss.backward()\n",
        "    optimizer.step()\n",
        "\n",
        "    train_loss += loss.item()\n",
        "\n",
        "  train_loss /= len(trainloader)\n",
        "\n",
        "  # Measure how's going with test data\n",
        "  with torch.no_grad():\n",
        "    for i, (inputs_batch, _) in enumerate(testloader):\n",
        "      test_loss += loop_forward_pass(inputs_batch).item()\n",
        "\n",
        "  test_loss /= len(testloader)\n",
        "\n",
        "  losses_history.append((train_loss, test_loss))\n",
        "\n",
        "  print(f'\\rEpoch {epoch + 1}, Training Loss: {train_loss:.5f}, Test Loss: {test_loss:.5f}', flush=True)\n",
        "\n",
        "  # Early stopping\n",
        "  if early_stopper.early_stop(test_loss):\n",
        "    print(\"Early stopping triggered\")\n",
        "    break\n",
        "\n",
        "print('Finished Training')"
      ],
      "metadata": {
        "colab": {
          "base_uri": "https://localhost:8080/"
        },
        "id": "XHLO4QuWMDP9",
        "outputId": "0083d2ff-f990-4e5b-d366-9776c36b54d3"
      },
      "execution_count": null,
      "outputs": [
        {
          "output_type": "stream",
          "name": "stdout",
          "text": [
            "Epoch 1, Training Loss: 0.03794, Test Loss: 0.01076\n",
            "Epoch 2, Training Loss: 0.00742, Test Loss: 0.00539\n",
            "Epoch 3, Training Loss: 0.00443, Test Loss: 0.00375\n",
            "Epoch 4, Training Loss: 0.00330, Test Loss: 0.00301\n",
            "Epoch 5, Training Loss: 0.00273, Test Loss: 0.00259\n",
            "Epoch 6, Training Loss: 0.00239, Test Loss: 0.00233\n",
            "Epoch 7, Training Loss: 0.00217, Test Loss: 0.00219\n",
            "Epoch 8, Training Loss: 0.00201, Test Loss: 0.00202\n",
            "Epoch 9, Training Loss: 0.00190, Test Loss: 0.00194\n",
            "Epoch 10, Training Loss: 0.00181, Test Loss: 0.00187\n",
            "Epoch 11, Training Loss: 0.00174, Test Loss: 0.00179\n",
            "Epoch 12, Training Loss: 0.00170, Test Loss: 0.00174\n",
            "Epoch 13, Training Loss: 0.00166, Test Loss: 0.00173\n",
            "Epoch 14, Training Loss: 0.00162, Test Loss: 0.00166\n",
            "Epoch 15, Training Loss: 0.00158, Test Loss: 0.00163\n",
            "Epoch 16, Training Loss: 0.00156, Test Loss: 0.00160\n",
            "Epoch 17, Training Loss: 0.00154, Test Loss: 0.00157\n",
            "Epoch 18, Training Loss: 0.00152, Test Loss: 0.00156\n",
            "Epoch 19, Training Loss: 0.00150, Test Loss: 0.00154\n",
            "Epoch 20, Training Loss: 0.00149, Test Loss: 0.00153\n",
            "Epoch 21, Training Loss: 0.00147, Test Loss: 0.00153\n",
            "Epoch 22, Training Loss: 0.00146, Test Loss: 0.00149\n",
            "Epoch 23, Training Loss: 0.00145, Test Loss: 0.00150\n",
            "Epoch 24, Training Loss: 0.00144, Test Loss: 0.00147\n",
            "Epoch 25, Training Loss: 0.00143, Test Loss: 0.00146\n",
            "Epoch 26, Training Loss: 0.00142, Test Loss: 0.00146\n",
            "Epoch 27, Training Loss: 0.00142, Test Loss: 0.00147\n",
            "Epoch 28, Training Loss: 0.00141, Test Loss: 0.00144\n",
            "Epoch 29, Training Loss: 0.00140, Test Loss: 0.00143\n",
            "Epoch 30, Training Loss: 0.00140, Test Loss: 0.00144\n",
            "Epoch 31, Training Loss: 0.00139, Test Loss: 0.00143\n",
            "Epoch 32, Training Loss: 0.00138, Test Loss: 0.00142\n",
            "Epoch 33, Training Loss: 0.00138, Test Loss: 0.00141\n",
            "Epoch 34, Training Loss: 0.00138, Test Loss: 0.00140\n",
            "Epoch 35, Training Loss: 0.00137, Test Loss: 0.00140\n",
            "Epoch 36, Training Loss: 0.00137, Test Loss: 0.00139\n",
            "Epoch 37, Training Loss: 0.00136, Test Loss: 0.00140\n",
            "Epoch 38, Training Loss: 0.00136, Test Loss: 0.00138\n",
            "Epoch 39, Training Loss: 0.00136, Test Loss: 0.00139\n",
            "Epoch 40, Training Loss: 0.00135, Test Loss: 0.00138\n",
            "Epoch 41, Training Loss: 0.00135, Test Loss: 0.00138\n",
            "Epoch 42, Training Loss: 0.00135, Test Loss: 0.00138\n",
            "Epoch 43, Training Loss: 0.00134, Test Loss: 0.00137\n",
            "Epoch 44, Training Loss: 0.00134, Test Loss: 0.00136\n",
            "Epoch 45, Training Loss: 0.00134, Test Loss: 0.00136\n",
            "Epoch 46, Training Loss: 0.00133, Test Loss: 0.00136\n",
            "Epoch 47, Training Loss: 0.00133, Test Loss: 0.00136\n",
            "Epoch 48, Training Loss: 0.00133, Test Loss: 0.00135\n",
            "Epoch 49, Training Loss: 0.00133, Test Loss: 0.00135\n",
            "Epoch 50, Training Loss: 0.00133, Test Loss: 0.00135\n",
            "100%|██████████| 50/50 [11:39<00:00, 13.99s/it]\n",
            "Finished Training\n"
          ]
        }
      ]
    },
    {
      "cell_type": "code",
      "source": [
        "plot_losses_history(losses_history)"
      ],
      "metadata": {
        "colab": {
          "base_uri": "https://localhost:8080/",
          "height": 472
        },
        "id": "7rQ6rp-upiUz",
        "outputId": "743b3b99-44b9-4143-e5ac-59ef48c31594"
      },
      "execution_count": null,
      "outputs": [
        {
          "output_type": "display_data",
          "data": {
            "text/plain": [
              "<Figure size 640x480 with 1 Axes>"
            ],
            "image/png": "[encoded data removed]"
          },
          "metadata": {}
        }
      ]
    },
    {
      "cell_type": "code",
      "source": [
        "torch.save(student_model.state_dict(), student_model_trained_enc_dec_checkpoint_filename)"
      ],
      "metadata": {
        "id": "UpSMJkJRfFO8"
      },
      "execution_count": null,
      "outputs": []
    },
    {
      "cell_type": "markdown",
      "source": [
        "## Test both encoder and decoder from the Student model\n"
      ],
      "metadata": {
        "id": "5jcmLdBgiMGO"
      }
    },
    {
      "cell_type": "code",
      "source": [
        "test_model(encoder_model=student_model, decoder_model=student_model)"
      ],
      "metadata": {
        "colab": {
          "base_uri": "https://localhost:8080/",
          "height": 260
        },
        "id": "nSTKAzbLp261",
        "outputId": "37fd1e28-bc1d-4122-8230-e4197a8b2ca9"
      },
      "execution_count": null,
      "outputs": [
        {
          "output_type": "stream",
          "name": "stdout",
          "text": [
            "Using encoder: DistilVectorQuantizedVAE\n",
            "Using decoder: DistilVectorQuantizedVAE\n"
          ]
        },
        {
          "output_type": "display_data",
          "data": {
            "text/plain": [
              "<Figure size 640x480 with 3 Axes>"
            ],
            "image/png": "[encoded data removed]"
          },
          "metadata": {}
        },
        {
          "output_type": "stream",
          "name": "stdout",
          "text": [
            "L2 distance between teacher and student reconstructions: 0.0086\n"
          ]
        }
      ]
    },
    {
      "cell_type": "markdown",
      "source": [
        "## Benchmark the performance improvement"
      ],
      "metadata": {
        "id": "38YEr8gYKiiN"
      }
    },
    {
      "cell_type": "code",
      "source": [
        "benchmark_batch_size = 128  #@param{type: 'integer', min: 1}\n",
        "benchmark_device = 'cpu'\n",
        "\n",
        "print('Benchmark on', benchmark_device)\n",
        "print('Using', benchmark_batch_size, 'items')\n",
        "\n",
        "# Load test images\n",
        "input_images = testset.data[:benchmark_batch_size]\n",
        "input_images = input_images.unsqueeze(1).float() / 255.0\n",
        "input_images = input_images.to(benchmark_device)\n",
        "print(input_images.dtype, input_images.shape, input_images.device)\n",
        "\n",
        "# Run the benchmark!\n",
        "@torch.no_grad()\n",
        "def _benchmark_model(model, measure_end_to_end=False):\n",
        "  z_e_x = model.encoder(input_images)\n",
        "  # Always use the teacher model for the codebook\n",
        "  codes = teacher_vq_vae.codeBook(z_e_x)\n",
        "  latents = teacher_vq_vae.codes_to_latents(codes)\n",
        "  student_x_tilde = model.decode_latents(latents)\n",
        "  return student_x_tilde[0, 0, 0, 0]\n",
        "\n",
        "# Move the models on the CPU\n",
        "student_model = student_model.to(benchmark_device)\n",
        "teacher_vq_vae = teacher_vq_vae.to(benchmark_device)"
      ],
      "metadata": {
        "colab": {
          "base_uri": "https://localhost:8080/"
        },
        "id": "xnI-LMfpIlIl",
        "outputId": "3ee07a33-4469-4b25-90e0-1d98e211c82c"
      },
      "execution_count": null,
      "outputs": [
        {
          "output_type": "stream",
          "name": "stdout",
          "text": [
            "Benchmark on cpu\n",
            "Using 128 items\n",
            "torch.float32 torch.Size([128, 1, 28, 28]) cpu\n"
          ]
        }
      ]
    },
    {
      "cell_type": "code",
      "source": [
        "print('Benchmark of teacher encoder only')\n",
        "%timeit _benchmark_model(teacher_vq_vae, measure_end_to_end=False)"
      ],
      "metadata": {
        "colab": {
          "base_uri": "https://localhost:8080/"
        },
        "id": "oEWGc03QKoz7",
        "outputId": "70549e36-28fa-4fb5-d94b-3429fabd8fab"
      },
      "execution_count": null,
      "outputs": [
        {
          "output_type": "stream",
          "name": "stdout",
          "text": [
            "Benchmark of teacher encoder only\n",
            "323 ms ± 9.21 ms per loop (mean ± std. dev. of 7 runs, 1 loop each)\n"
          ]
        }
      ]
    },
    {
      "cell_type": "code",
      "source": [
        "print('Benchmark of student encoder only')\n",
        "%timeit _benchmark_model(student_model, measure_end_to_end=False)"
      ],
      "metadata": {
        "colab": {
          "base_uri": "https://localhost:8080/"
        },
        "id": "ozR1f4AIKotm",
        "outputId": "ab2e6ad0-e40c-4285-ea3f-67336c702c59"
      },
      "execution_count": null,
      "outputs": [
        {
          "output_type": "stream",
          "name": "stdout",
          "text": [
            "Benchmark of student encoder only\n",
            "86.3 ms ± 19.7 ms per loop (mean ± std. dev. of 7 runs, 10 loops each)\n"
          ]
        }
      ]
    },
    {
      "cell_type": "code",
      "source": [
        "print('Benchmark of teacher VQ-VAE end-to-end')\n",
        "%timeit _benchmark_model(teacher_vq_vae, measure_end_to_end=True)"
      ],
      "metadata": {
        "colab": {
          "base_uri": "https://localhost:8080/"
        },
        "id": "iAe6RTkiKonf",
        "outputId": "6ba7a662-56ab-4ccb-85c2-03b007cc840e"
      },
      "execution_count": null,
      "outputs": [
        {
          "output_type": "stream",
          "name": "stdout",
          "text": [
            "Benchmark of teacher VQ-VAE end-to-end\n",
            "309 ms ± 4.93 ms per loop (mean ± std. dev. of 7 runs, 1 loop each)\n"
          ]
        }
      ]
    },
    {
      "cell_type": "code",
      "source": [
        "print('Benchmark of student VQ-VAE end-to-end, using the teacher decoder')\n",
        "%timeit _benchmark_model(student_model, measure_end_to_end=True)"
      ],
      "metadata": {
        "colab": {
          "base_uri": "https://localhost:8080/"
        },
        "id": "CGG2KDe6Kof-",
        "outputId": "d03b8151-94a7-4057-f87e-e300ad3c527c"
      },
      "execution_count": null,
      "outputs": [
        {
          "output_type": "stream",
          "name": "stdout",
          "text": [
            "Benchmark of student VQ-VAE end-to-end, using the teacher decoder\n",
            "93.3 ms ± 19.7 ms per loop (mean ± std. dev. of 7 runs, 10 loops each)\n"
          ]
        }
      ]
    },
    {
      "cell_type": "code",
      "source": [
        "# Restore everything on the standard device (presumably a CUDA GPU)\n",
        "student_model = student_model.to(device)\n",
        "teacher_vq_vae = teacher_vq_vae.to(device)"
      ],
      "metadata": {
        "id": "VrZbiMaeX1-h"
      },
      "execution_count": null,
      "outputs": []
    },
    {
      "cell_type": "markdown",
      "source": [
        "It reduced:\n",
        "- parameters by **72%**\n",
        "- execution time by **67%** (from $\\approx$ 300 ms to $\\approx$ 100 ms)\n",
        "\n",
        "**Tested on CPU**, with a batch, to have a stronger difference in execution time"
      ],
      "metadata": {
        "id": "s251LPagLRdY"
      }
    },
    {
      "cell_type": "markdown",
      "source": [
        "# Train Student model alone\n",
        "With no teacher available, and see its performance.\n",
        "\n",
        "It is the training of a standalone VQ-VAE.\n",
        "\n",
        "The **loss** is *NOT ONLY* the reconstruction loss, but it is actually composed of three components:\n",
        "1. reconstruction loss\n",
        "2. codebook loss\n",
        "3. commitment loss\n",
        "\n",
        "More resources on how to train a VQ-VAE: [here](https://github.com/zalandoresearch/pytorch-vq-vae/blob/master/vq-vae.ipynb)"
      ],
      "metadata": {
        "id": "Ee9HjQyQQ7tT"
      }
    },
    {
      "cell_type": "code",
      "source": [],
      "metadata": {
        "id": "C8KgZ0aeRmwY"
      },
      "execution_count": null,
      "outputs": []
    }
  ]
}