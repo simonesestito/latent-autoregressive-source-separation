{
  "nbformat": 4,
  "nbformat_minor": 0,
  "metadata": {
    "colab": {
      "provenance": [],
      "toc_visible": true,
      "gpuType": "T4",
      "collapsed_sections": [
        "KLiORqLNEOZs"
      ]
    },
    "kernelspec": {
      "name": "python3",
      "display_name": "Python 3"
    },
    "language_info": {
      "name": "python"
    },
    "accelerator": "GPU"
  },
  "cells": [
    {
      "cell_type": "markdown",
      "source": [
        "# Imports and Drive mount"
      ],
      "metadata": {
        "id": "5wDWe09lE1mB"
      }
    },
    {
      "cell_type": "code",
      "source": [
        "!pip install torchmetrics"
      ],
      "metadata": {
        "colab": {
          "base_uri": "https://localhost:8080/"
        },
        "id": "6W2BMZq_VSzy",
        "outputId": "de4a2481-2379-4729-943b-b30751832859"
      },
      "execution_count": 3,
      "outputs": [
        {
          "output_type": "stream",
          "name": "stdout",
          "text": [
            "Collecting torchmetrics\n",
            "  Downloading torchmetrics-1.4.1-py3-none-any.whl.metadata (20 kB)\n",
            "Requirement already satisfied: numpy>1.20.0 in /usr/local/lib/python3.10/dist-packages (from torchmetrics) (1.26.4)\n",
            "Requirement already satisfied: packaging>17.1 in /usr/local/lib/python3.10/dist-packages (from torchmetrics) (24.1)\n",
            "Requirement already satisfied: torch>=1.10.0 in /usr/local/lib/python3.10/dist-packages (from torchmetrics) (2.3.1+cu121)\n",
            "Collecting lightning-utilities>=0.8.0 (from torchmetrics)\n",
            "  Downloading lightning_utilities-0.11.6-py3-none-any.whl.metadata (5.2 kB)\n",
            "Requirement already satisfied: setuptools in /usr/local/lib/python3.10/dist-packages (from lightning-utilities>=0.8.0->torchmetrics) (71.0.4)\n",
            "Requirement already satisfied: typing-extensions in /usr/local/lib/python3.10/dist-packages (from lightning-utilities>=0.8.0->torchmetrics) (4.12.2)\n",
            "Requirement already satisfied: filelock in /usr/local/lib/python3.10/dist-packages (from torch>=1.10.0->torchmetrics) (3.15.4)\n",
            "Requirement already satisfied: sympy in /usr/local/lib/python3.10/dist-packages (from torch>=1.10.0->torchmetrics) (1.13.1)\n",
            "Requirement already satisfied: networkx in /usr/local/lib/python3.10/dist-packages (from torch>=1.10.0->torchmetrics) (3.3)\n",
            "Requirement already satisfied: jinja2 in /usr/local/lib/python3.10/dist-packages (from torch>=1.10.0->torchmetrics) (3.1.4)\n",
            "Requirement already satisfied: fsspec in /usr/local/lib/python3.10/dist-packages (from torch>=1.10.0->torchmetrics) (2024.6.1)\n",
            "Collecting nvidia-cuda-nvrtc-cu12==12.1.105 (from torch>=1.10.0->torchmetrics)\n",
            "  Using cached nvidia_cuda_nvrtc_cu12-12.1.105-py3-none-manylinux1_x86_64.whl.metadata (1.5 kB)\n",
            "Collecting nvidia-cuda-runtime-cu12==12.1.105 (from torch>=1.10.0->torchmetrics)\n",
            "  Using cached nvidia_cuda_runtime_cu12-12.1.105-py3-none-manylinux1_x86_64.whl.metadata (1.5 kB)\n",
            "Collecting nvidia-cuda-cupti-cu12==12.1.105 (from torch>=1.10.0->torchmetrics)\n",
            "  Using cached nvidia_cuda_cupti_cu12-12.1.105-py3-none-manylinux1_x86_64.whl.metadata (1.6 kB)\n",
            "Collecting nvidia-cudnn-cu12==8.9.2.26 (from torch>=1.10.0->torchmetrics)\n",
            "  Using cached nvidia_cudnn_cu12-8.9.2.26-py3-none-manylinux1_x86_64.whl.metadata (1.6 kB)\n",
            "Collecting nvidia-cublas-cu12==12.1.3.1 (from torch>=1.10.0->torchmetrics)\n",
            "  Using cached nvidia_cublas_cu12-12.1.3.1-py3-none-manylinux1_x86_64.whl.metadata (1.5 kB)\n",
            "Collecting nvidia-cufft-cu12==11.0.2.54 (from torch>=1.10.0->torchmetrics)\n",
            "  Using cached nvidia_cufft_cu12-11.0.2.54-py3-none-manylinux1_x86_64.whl.metadata (1.5 kB)\n",
            "Collecting nvidia-curand-cu12==10.3.2.106 (from torch>=1.10.0->torchmetrics)\n",
            "  Using cached nvidia_curand_cu12-10.3.2.106-py3-none-manylinux1_x86_64.whl.metadata (1.5 kB)\n",
            "Collecting nvidia-cusolver-cu12==11.4.5.107 (from torch>=1.10.0->torchmetrics)\n",
            "  Using cached nvidia_cusolver_cu12-11.4.5.107-py3-none-manylinux1_x86_64.whl.metadata (1.6 kB)\n",
            "Collecting nvidia-cusparse-cu12==12.1.0.106 (from torch>=1.10.0->torchmetrics)\n",
            "  Using cached nvidia_cusparse_cu12-12.1.0.106-py3-none-manylinux1_x86_64.whl.metadata (1.6 kB)\n",
            "Collecting nvidia-nccl-cu12==2.20.5 (from torch>=1.10.0->torchmetrics)\n",
            "  Using cached nvidia_nccl_cu12-2.20.5-py3-none-manylinux2014_x86_64.whl.metadata (1.8 kB)\n",
            "Collecting nvidia-nvtx-cu12==12.1.105 (from torch>=1.10.0->torchmetrics)\n",
            "  Using cached nvidia_nvtx_cu12-12.1.105-py3-none-manylinux1_x86_64.whl.metadata (1.7 kB)\n",
            "Requirement already satisfied: triton==2.3.1 in /usr/local/lib/python3.10/dist-packages (from torch>=1.10.0->torchmetrics) (2.3.1)\n",
            "Collecting nvidia-nvjitlink-cu12 (from nvidia-cusolver-cu12==11.4.5.107->torch>=1.10.0->torchmetrics)\n",
            "  Downloading nvidia_nvjitlink_cu12-12.6.20-py3-none-manylinux2014_x86_64.whl.metadata (1.5 kB)\n",
            "Requirement already satisfied: MarkupSafe>=2.0 in /usr/local/lib/python3.10/dist-packages (from jinja2->torch>=1.10.0->torchmetrics) (2.1.5)\n",
            "Requirement already satisfied: mpmath<1.4,>=1.1.0 in /usr/local/lib/python3.10/dist-packages (from sympy->torch>=1.10.0->torchmetrics) (1.3.0)\n",
            "Downloading torchmetrics-1.4.1-py3-none-any.whl (866 kB)\n",
            "\u001b[2K   \u001b[90m━━━━━━━━━━━━━━━━━━━━━━━━━━━━━━━━━━━━━━━━\u001b[0m \u001b[32m866.2/866.2 kB\u001b[0m \u001b[31m49.8 MB/s\u001b[0m eta \u001b[36m0:00:00\u001b[0m\n",
            "\u001b[?25hDownloading lightning_utilities-0.11.6-py3-none-any.whl (26 kB)\n",
            "Using cached nvidia_cublas_cu12-12.1.3.1-py3-none-manylinux1_x86_64.whl (410.6 MB)\n",
            "Using cached nvidia_cuda_cupti_cu12-12.1.105-py3-none-manylinux1_x86_64.whl (14.1 MB)\n",
            "Using cached nvidia_cuda_nvrtc_cu12-12.1.105-py3-none-manylinux1_x86_64.whl (23.7 MB)\n",
            "Using cached nvidia_cuda_runtime_cu12-12.1.105-py3-none-manylinux1_x86_64.whl (823 kB)\n",
            "Using cached nvidia_cudnn_cu12-8.9.2.26-py3-none-manylinux1_x86_64.whl (731.7 MB)\n",
            "Using cached nvidia_cufft_cu12-11.0.2.54-py3-none-manylinux1_x86_64.whl (121.6 MB)\n",
            "Using cached nvidia_curand_cu12-10.3.2.106-py3-none-manylinux1_x86_64.whl (56.5 MB)\n",
            "Using cached nvidia_cusolver_cu12-11.4.5.107-py3-none-manylinux1_x86_64.whl (124.2 MB)\n",
            "Using cached nvidia_cusparse_cu12-12.1.0.106-py3-none-manylinux1_x86_64.whl (196.0 MB)\n",
            "Using cached nvidia_nccl_cu12-2.20.5-py3-none-manylinux2014_x86_64.whl (176.2 MB)\n",
            "Using cached nvidia_nvtx_cu12-12.1.105-py3-none-manylinux1_x86_64.whl (99 kB)\n",
            "Downloading nvidia_nvjitlink_cu12-12.6.20-py3-none-manylinux2014_x86_64.whl (19.7 MB)\n",
            "\u001b[2K   \u001b[90m━━━━━━━━━━━━━━━━━━━━━━━━━━━━━━━━━━━━━━━━\u001b[0m \u001b[32m19.7/19.7 MB\u001b[0m \u001b[31m26.7 MB/s\u001b[0m eta \u001b[36m0:00:00\u001b[0m\n",
            "\u001b[?25hInstalling collected packages: nvidia-nvtx-cu12, nvidia-nvjitlink-cu12, nvidia-nccl-cu12, nvidia-curand-cu12, nvidia-cufft-cu12, nvidia-cuda-runtime-cu12, nvidia-cuda-nvrtc-cu12, nvidia-cuda-cupti-cu12, nvidia-cublas-cu12, lightning-utilities, nvidia-cusparse-cu12, nvidia-cudnn-cu12, nvidia-cusolver-cu12, torchmetrics\n",
            "Successfully installed lightning-utilities-0.11.6 nvidia-cublas-cu12-12.1.3.1 nvidia-cuda-cupti-cu12-12.1.105 nvidia-cuda-nvrtc-cu12-12.1.105 nvidia-cuda-runtime-cu12-12.1.105 nvidia-cudnn-cu12-8.9.2.26 nvidia-cufft-cu12-11.0.2.54 nvidia-curand-cu12-10.3.2.106 nvidia-cusolver-cu12-11.4.5.107 nvidia-cusparse-cu12-12.1.0.106 nvidia-nccl-cu12-2.20.5 nvidia-nvjitlink-cu12-12.6.20 nvidia-nvtx-cu12-12.1.105 torchmetrics-1.4.1\n"
          ]
        }
      ]
    },
    {
      "cell_type": "code",
      "source": [
        "import torch\n",
        "from torch import nn\n",
        "from torch.autograd import Function\n",
        "import torch.nn.functional as F\n",
        "import torchmetrics\n",
        "import torchvision\n",
        "import torchvision.transforms as transforms\n",
        "from tqdm import tqdm\n",
        "import matplotlib.pyplot as plt\n",
        "import sys"
      ],
      "metadata": {
        "id": "h1YbnEU4E4U2"
      },
      "execution_count": 4,
      "outputs": []
    },
    {
      "cell_type": "code",
      "source": [
        "# Google Drive will get mounted automatically\n",
        "# Then, cd into that directory\n",
        "%cd /content/drive/MyDrive/1s2/Deep Learning/Deep Project/checkpoints"
      ],
      "metadata": {
        "colab": {
          "base_uri": "https://localhost:8080/"
        },
        "id": "XzvmTdRaHB-9",
        "outputId": "08c956e8-dfa1-4d73-ea81-bfb3fa2e4734"
      },
      "execution_count": 5,
      "outputs": [
        {
          "output_type": "stream",
          "name": "stdout",
          "text": [
            "/content/drive/MyDrive/1s2/Deep Learning/Deep Project/checkpoints\n"
          ]
        }
      ]
    },
    {
      "cell_type": "code",
      "source": [
        "#@title Checkpoints filename\n",
        "teacher_model_checkpoint_filename = './256-sigmoid-big.pt'\n",
        "student_model_trained_encoder_checkpoint_filename = 'student_model_trained_encoder.pt'\n",
        "student_model_trained_enc_dec_checkpoint_filename = 'student_model_trained_enc_dec.pt'\n",
        "student_model_trained_full_checkpoint_filename = 'student_model_trained_full.pt'\n",
        "alone_student_model_checkpoint_filename = 'alone_student_model.pt'"
      ],
      "metadata": {
        "id": "T94ekDQIZy86"
      },
      "execution_count": 6,
      "outputs": []
    },
    {
      "cell_type": "code",
      "source": [
        "#@title Utility functions\n",
        "def print_params(model: nn.Module):\n",
        "    print('Trainable parameters:', sum(p.numel() for p in model.parameters() if p.requires_grad))\n",
        "    print('Frozen parameters:', sum(p.numel() for p in model.parameters() if not p.requires_grad))\n",
        "    print('Parameters type:', model.parameters().__next__().dtype)\n",
        "    print('Parameters device:', model.parameters().__next__().device)\n",
        "    print()\n",
        "\n",
        "\n",
        "# Function to initialize the weights of our network\n",
        "def weights_init(m):\n",
        "    className = m.__class__.__name__\n",
        "    if className.find('Conv') != -1:\n",
        "        try:\n",
        "            nn.init.xavier_uniform_(m.weight.data)\n",
        "            m.bias.data.fill_(0)\n",
        "        except AttributeError:\n",
        "            print(\"Skipping initialization of \", className)\n",
        "\n",
        "\n",
        "def print_outputs(outputs):\n",
        "  if type(outputs) is list or type(outputs) is tuple:\n",
        "    for i in outputs:\n",
        "      print_outputs(i)\n",
        "  elif type(outputs) is torch.Tensor:\n",
        "    print(outputs.dtype, outputs.shape)\n",
        "  else:\n",
        "    print(outputs)\n",
        "\n",
        "\n",
        "def plot_losses_history(losses_history):\n",
        "  train_losses, test_losses = zip(*losses_history)\n",
        "\n",
        "  plt.plot(train_losses, label='Training Loss')\n",
        "  plt.plot(test_losses, label='Test Loss')\n",
        "  plt.xlabel('Epoch')\n",
        "  plt.ylabel('Loss')\n",
        "  plt.legend()\n",
        "  plt.title('Training and Test Losses')\n",
        "  plt.show()\n",
        "\n",
        "\n",
        "def show_image(image, title=None):\n",
        "  image = image.cpu()\n",
        "\n",
        "  if len(image.shape) == 4:\n",
        "    image = image.squeeze()\n",
        "\n",
        "  plt.imshow(image, cmap='gray')\n",
        "\n",
        "  if title is not None:\n",
        "    plt.title(title)\n",
        "\n",
        "  plt.axis('off')\n",
        "\n",
        "\n",
        "def show_images(images):\n",
        "  plt.figure()\n",
        "  for i, image in enumerate(images):\n",
        "    plt.subplot(1, len(images), i + 1)\n",
        "    if type(image) is tuple:\n",
        "      image, title = image\n",
        "      show_image(image, title)\n",
        "    else:\n",
        "      show_image(image)\n",
        "  plt.show()\n",
        "\n",
        "\n",
        "def test_model(encoder_model, decoder_model, embeddings_model=None):\n",
        "  if embeddings_model is None:\n",
        "    embeddings_model = teacher_vq_vae\n",
        "\n",
        "  # Pick a random image from MNIST dataset\n",
        "  input_image, _ = testset[3]\n",
        "  input_image = input_image[None, ...].to(device)\n",
        "  input_image.dtype, input_image.shape\n",
        "\n",
        "  print('Using encoder:', encoder_model.__class__.__name__)\n",
        "  print('Using decoder:', decoder_model.__class__.__name__)\n",
        "\n",
        "  with torch.no_grad():\n",
        "    teacher_x_tilde, _, _ = teacher_vq_vae(input_image)\n",
        "\n",
        "    z_e_x = encoder_model.encoder(input_image)\n",
        "    codes = embeddings_model.codeBook(z_e_x)\n",
        "    latents = embeddings_model.codes_to_latents(codes)\n",
        "    student_x_tilde = decoder_model.decode_latents(latents)\n",
        "\n",
        "  show_images([\n",
        "      (input_image, 'Original image'),\n",
        "      (teacher_x_tilde, 'Teacher model'),\n",
        "      (student_x_tilde, 'Student model'),\n",
        "  ])\n",
        "\n",
        "  teacher_student_image_l2 = F.mse_loss(teacher_x_tilde, student_x_tilde)\n",
        "  print(f'L2 distance between teacher and student reconstructions: {teacher_student_image_l2:.4f}')"
      ],
      "metadata": {
        "id": "acG4jpStgsPQ",
        "cellView": "form"
      },
      "execution_count": 7,
      "outputs": []
    },
    {
      "cell_type": "markdown",
      "source": [
        "# Define teacher model"
      ],
      "metadata": {
        "id": "KLiORqLNEOZs"
      }
    },
    {
      "cell_type": "code",
      "source": [
        "# finding the z_e_q given x (by comparing with z_e_x)\n",
        "class VectorQuantization(Function):\n",
        "\n",
        "    @staticmethod\n",
        "    def forward(ctx, inputs, codeBook):\n",
        "        with torch.no_grad():\n",
        "            # assigning the dimension of our embedding\n",
        "            embedding_size = codeBook.size(1)\n",
        "\n",
        "            inputs_size = inputs.size()\n",
        "            # Flatten input\n",
        "            inputs_flatten = inputs.view(-1, embedding_size)\n",
        "\n",
        "            codeBook_sqr = torch.sum(codeBook ** 2, dim=1)\n",
        "            inputs_sqr = torch.sum(inputs_flatten ** 2, dim=1, keepdim=True)\n",
        "\n",
        "            # Compute the distances of the inputs to the codeBook\n",
        "            distances = torch.addmm(codeBook_sqr + inputs_sqr,\n",
        "                                    inputs_flatten, codeBook.t(), alpha=-2.0, beta=1.0)\n",
        "\n",
        "            _, indices_flatten = torch.min(distances, dim=1)\n",
        "            indices = indices_flatten.view(*inputs_size[:-1])\n",
        "            ctx.mark_non_differentiable(indices)\n",
        "\n",
        "            return indices\n",
        "\n",
        "    @staticmethod\n",
        "    def backward(ctx, grad_output):\n",
        "        raise RuntimeError('Trying to call `.grad()` on graph containing '\n",
        "                           '`VectorQuantization`. The function `VectorQuantization` '\n",
        "                           'is not differentiable. Use `VectorQuantizationStraightThrough` '\n",
        "                           'if you want a straight-through estimator of the gradient.')\n",
        "\n",
        "\n",
        "# Required to pass gradients received by z_e_q to z_e_x as torch.min function makes the back-propagation gradient\n",
        "# impossible\n",
        "class VectorQuantizationStraightThrough(Function):\n",
        "    @staticmethod\n",
        "    def forward(ctx, inputs, codeBook):\n",
        "\n",
        "        # evaluating the indices with the least distance between inputs and codeBook\n",
        "        indices = vq(inputs, codeBook)\n",
        "        indices_flatten = indices.view(-1)\n",
        "        # saving indices for backward pass\n",
        "        ctx.save_for_backward(indices_flatten, codeBook)\n",
        "        ctx.mark_non_differentiable(indices_flatten)\n",
        "        codes_flatten = torch.index_select(codeBook, dim=0,\n",
        "                                           index=indices_flatten)\n",
        "        # get embedding corresponding to the inputs\n",
        "        codes = codes_flatten.view_as(inputs)\n",
        "\n",
        "        return codes, indices_flatten\n",
        "\n",
        "    @staticmethod\n",
        "    def backward(ctx, grad_output, grad_indices):\n",
        "        grad_inputs, grad_codeBook = None, None\n",
        "\n",
        "        if ctx.needs_input_grad[0]:\n",
        "            # Straight-through estimator\n",
        "            grad_inputs = grad_output.clone()\n",
        "        if ctx.needs_input_grad[1]:\n",
        "            # Gradient with respect to the codeBook\n",
        "            indices, codeBook = ctx.saved_tensors\n",
        "            embedding_size = codeBook.size(1)\n",
        "\n",
        "            grad_output_flatten = (grad_output.contiguous()\n",
        "                                   .view(-1, embedding_size))\n",
        "\n",
        "            # for passing gradient backwards\n",
        "            grad_codeBook = torch.zeros_like(codeBook)\n",
        "            grad_codeBook.index_add_(0, indices, grad_output_flatten)\n",
        "\n",
        "        return grad_inputs, grad_codeBook\n",
        "\n",
        "\n",
        "vq = VectorQuantization.apply\n",
        "vq_st = VectorQuantizationStraightThrough.apply"
      ],
      "metadata": {
        "id": "vGcE6IRVEuMI"
      },
      "execution_count": 8,
      "outputs": []
    },
    {
      "cell_type": "code",
      "source": [
        "# Structure of the residual block\n",
        "\n",
        "class ResBlock(nn.Module):\n",
        "    def __init__(self, dim):\n",
        "        super().__init__()\n",
        "        self.block = nn.Sequential(\n",
        "            nn.LeakyReLU(),\n",
        "            nn.Conv2d(dim, dim, 3, 1, 1),\n",
        "            nn.BatchNorm2d(dim),\n",
        "            nn.LeakyReLU(),\n",
        "            nn.Conv2d(dim, dim, 1),\n",
        "            nn.BatchNorm2d(dim)\n",
        "        )\n",
        "\n",
        "    def forward(self, x):\n",
        "        return x + self.block(x)"
      ],
      "metadata": {
        "id": "Uq39dADfEweI"
      },
      "execution_count": 9,
      "outputs": []
    },
    {
      "cell_type": "code",
      "source": [
        "# Structure of the embedding layer\n",
        "class VQEmbedding(nn.Module):\n",
        "    def __init__(self, K, D):\n",
        "        super().__init__()\n",
        "        # creating the embedding\n",
        "        self.embedding = nn.Embedding(K, D)\n",
        "        # weights belong to a uniform distribution\n",
        "        self.embedding.weight.data.uniform_(-1. / K, 1. / K)\n",
        "\n",
        "    # z_e_x --> latent code for the input image\n",
        "    def forward(self, z_e_x):\n",
        "        # converting BCHW --> BHWC\n",
        "        z_e_x_ = z_e_x.permute(0, 2, 3, 1).contiguous()\n",
        "        # Retrieving the indices corresponding to the input\n",
        "        latents = vq(z_e_x_, self.embedding.weight)\n",
        "        return latents\n",
        "\n",
        "    # z_e_x --> latent code for the input image\n",
        "    def straight_through(self, z_e_x):\n",
        "        # converting BCHW --> BHWC\n",
        "        z_e_x_ = z_e_x.permute(0, 2, 3, 1).contiguous()\n",
        "\n",
        "        # z_q_x --> latent code from the embedding nearest to the input code\n",
        "        z_q_x_, indices = vq_st(z_e_x_, self.embedding.weight.detach())\n",
        "        z_q_x = z_q_x_.permute(0, 3, 1, 2).contiguous()\n",
        "\n",
        "        # z_q_x_bar --> backprop possible\n",
        "        z_q_x_bar_flatten = torch.index_select(self.embedding.weight,\n",
        "                                               dim=0, index=indices)\n",
        "        z_q_x_bar_ = z_q_x_bar_flatten.view_as(z_e_x_)\n",
        "        z_q_x_bar = z_q_x_bar_.permute(0, 3, 1, 2).contiguous()\n",
        "\n",
        "        # used for generating the image (decoding)\n",
        "        return z_q_x, z_q_x_bar"
      ],
      "metadata": {
        "id": "FmnQpwGsEyV5"
      },
      "execution_count": 10,
      "outputs": []
    },
    {
      "cell_type": "code",
      "source": [
        "# Architecture of VQ-VAE\n",
        "class VectorQuantizedVAE(nn.Module):\n",
        "    def __init__(self, input_dim, dim, K=512):\n",
        "        super().__init__()\n",
        "        self.encoder = nn.Sequential(\n",
        "            nn.Conv2d(input_dim, dim, 4, 2, 1),\n",
        "            nn.BatchNorm2d(dim),\n",
        "            nn.LeakyReLU(),\n",
        "            nn.Conv2d(dim, dim, 4, 2, 1),\n",
        "            ResBlock(dim),\n",
        "            ResBlock(dim),\n",
        "        )\n",
        "\n",
        "        self.codeBook = VQEmbedding(K, dim)\n",
        "\n",
        "        self.decoder = nn.Sequential(\n",
        "            ResBlock(dim),\n",
        "            ResBlock(dim),\n",
        "            nn.LeakyReLU(),\n",
        "            nn.ConvTranspose2d(dim, dim, 4, 2, 1),\n",
        "            nn.BatchNorm2d(dim),\n",
        "            nn.LeakyReLU(),\n",
        "            nn.ConvTranspose2d(dim, input_dim, 4, 2, 1),\n",
        "            nn.Sigmoid()\n",
        "        )\n",
        "\n",
        "        self.apply(weights_init)\n",
        "\n",
        "    def encode(self, x):\n",
        "        z_e_x = self.encoder(x)\n",
        "        codes = self.codeBook(z_e_x)\n",
        "        return codes\n",
        "\n",
        "    def decode(self, codes):\n",
        "        z_q_x = self.codeBook.embedding(codes).permute(0, 3, 1, 2)  # (B, C, H, W)\n",
        "        x_tilde = self.decoder(z_q_x)\n",
        "        return x_tilde\n",
        "\n",
        "    def codes_to_latents(self,codes):\n",
        "        return self.codeBook.embedding(codes).permute(0, 3, 1, 2)  # (B, C, H, W)\n",
        "\n",
        "    def decode_latents(self, z_q_x):\n",
        "        x_tilde = self.decoder(z_q_x)\n",
        "        return x_tilde\n",
        "\n",
        "    def forward(self, x):\n",
        "        z_e_x = self.encoder(x)\n",
        "        z_q_x_st, z_q_x = self.codeBook.straight_through(z_e_x)\n",
        "        x_tilde = self.decoder(z_q_x_st)\n",
        "        return x_tilde, z_e_x, z_q_x"
      ],
      "metadata": {
        "id": "bUq9dS5pEQYu"
      },
      "execution_count": 11,
      "outputs": []
    },
    {
      "cell_type": "code",
      "source": [
        "# Parameters from EvaluateSeparationConfig.vqvae\n",
        "input_dim, dim, K, device = 1, 128, 256, \"cuda\" if torch.cuda.is_available() else \"cpu\"\n",
        "print('Using device:', device)\n",
        "\n",
        "teacher_vq_vae = VectorQuantizedVAE(input_dim, dim, K).to(device)\n",
        "with open(teacher_model_checkpoint_filename, 'rb') as f:\n",
        "        teacher_vq_vae.load_state_dict(torch.load(f, map_location=device))\n",
        "\n",
        "print_params(teacher_vq_vae)"
      ],
      "metadata": {
        "colab": {
          "base_uri": "https://localhost:8080/"
        },
        "id": "r7v0Gst7FOGZ",
        "outputId": "d3f1e4b0-bb2d-4d9a-d2e7-f37db9d70e1b"
      },
      "execution_count": 12,
      "outputs": [
        {
          "output_type": "stream",
          "name": "stdout",
          "text": [
            "Using device: cuda\n",
            "Trainable parameters: 1220481\n",
            "Frozen parameters: 0\n",
            "Parameters type: torch.float32\n",
            "Parameters device: cuda:0\n",
            "\n"
          ]
        }
      ]
    },
    {
      "cell_type": "markdown",
      "source": [
        "# Define a smaller student model\n",
        "It still has to follow a similar architecture as the teacher model,\n",
        "but drastically reducing the number of parameters involved."
      ],
      "metadata": {
        "id": "9ZqWy5XTH3k4"
      }
    },
    {
      "cell_type": "code",
      "source": [
        "class DistilResBlock(nn.Module):\n",
        "    def __init__(self, dim):\n",
        "        super().__init__()\n",
        "        self.block = nn.Sequential(\n",
        "            nn.LeakyReLU(),\n",
        "            nn.Conv2d(dim, dim, 3, 1, 1),  # Since it is a resblock, dimensionality of the output of self.block MUST be the same as the input X\n",
        "            nn.BatchNorm2d(dim),\n",
        "            # nn.LeakyReLU(),\n",
        "            # nn.Conv2d(dim, dim, 1),\n",
        "            # nn.BatchNorm2d(dim)\n",
        "        )\n",
        "\n",
        "    def forward(self, x):\n",
        "        return x + self.block(x)"
      ],
      "metadata": {
        "id": "LitUAI-OIu1-"
      },
      "execution_count": 13,
      "outputs": []
    },
    {
      "cell_type": "code",
      "source": [
        "class DistilVectorQuantizedVAE(nn.Module):\n",
        "    def __init__(self, input_dim, _dim, K=512):\n",
        "        super().__init__()\n",
        "\n",
        "        kernel_size, stride, padding = 6, 4, 1  # Match the output size 28x28\n",
        "\n",
        "        self.encoder = nn.Sequential(\n",
        "            nn.Conv2d(input_dim, dim, kernel_size, stride, padding),\n",
        "            nn.BatchNorm2d(dim),\n",
        "            nn.LeakyReLU(),\n",
        "\n",
        "            # Use only 1 ResBlock instead of 2\n",
        "            DistilResBlock(dim),\n",
        "        )\n",
        "\n",
        "        # Still, keep K the same (determining the output shape)\n",
        "        self.codeBook = VQEmbedding(K, dim)\n",
        "\n",
        "        self.decoder = nn.Sequential(\n",
        "            # Use only 1 ResBlock instead of 2\n",
        "            DistilResBlock(dim),\n",
        "            nn.LeakyReLU(),\n",
        "\n",
        "            nn.ConvTranspose2d(dim, input_dim, kernel_size, stride, padding),\n",
        "            nn.Sigmoid()\n",
        "        )\n",
        "\n",
        "        self.apply(weights_init)\n",
        "\n",
        "    def encode(self, x):\n",
        "        z_e_x = self.encoder(x)\n",
        "        codes = self.codeBook(z_e_x)\n",
        "        return codes\n",
        "\n",
        "    def decode(self, codes):\n",
        "        z_q_x = self.codeBook.embedding(codes).permute(0, 3, 1, 2)  # (B, C, H, W)\n",
        "        x_tilde = self.decoder(z_q_x)\n",
        "        return x_tilde\n",
        "\n",
        "    def codes_to_latents(self,codes):\n",
        "        return self.codeBook.embedding(codes).permute(0, 3, 1, 2)  # (B, C, H, W)\n",
        "\n",
        "    def decode_latents(self, z_q_x):\n",
        "        x_tilde = self.decoder(z_q_x)\n",
        "        return x_tilde\n",
        "\n",
        "    def forward(self, x):\n",
        "        z_e_x = self.encoder(x)\n",
        "        z_q_x_st, z_q_x = self.codeBook.straight_through(z_e_x)\n",
        "        x_tilde = self.decoder(z_q_x_st)\n",
        "        return x_tilde, z_e_x, z_q_x"
      ],
      "metadata": {
        "id": "mc0vYpCxHdkt"
      },
      "execution_count": 14,
      "outputs": []
    },
    {
      "cell_type": "code",
      "source": [
        "student_model = DistilVectorQuantizedVAE(input_dim, dim, K).to(device)\n",
        "print_params(student_model)"
      ],
      "metadata": {
        "colab": {
          "base_uri": "https://localhost:8080/"
        },
        "id": "p38gf6YqKFiW",
        "outputId": "0bc12c10-a173-486c-a708-6549c6781d88"
      },
      "execution_count": null,
      "outputs": [
        {
          "output_type": "stream",
          "name": "stdout",
          "text": [
            "Trainable parameters: 338049\n",
            "Frozen parameters: 0\n",
            "Parameters type: torch.float32\n",
            "Parameters device: cuda:0\n",
            "\n"
          ]
        }
      ]
    },
    {
      "cell_type": "code",
      "source": [
        "student_model"
      ],
      "metadata": {
        "colab": {
          "base_uri": "https://localhost:8080/"
        },
        "id": "EuNatcfGS1iD",
        "outputId": "12e68b46-36dd-49eb-8bff-e5ddda7f1976"
      },
      "execution_count": null,
      "outputs": [
        {
          "output_type": "execute_result",
          "data": {
            "text/plain": [
              "DistilVectorQuantizedVAE(\n",
              "  (encoder): Sequential(\n",
              "    (0): Conv2d(1, 128, kernel_size=(6, 6), stride=(4, 4), padding=(1, 1))\n",
              "    (1): BatchNorm2d(128, eps=1e-05, momentum=0.1, affine=True, track_running_stats=True)\n",
              "    (2): LeakyReLU(negative_slope=0.01)\n",
              "    (3): DistilResBlock(\n",
              "      (block): Sequential(\n",
              "        (0): LeakyReLU(negative_slope=0.01)\n",
              "        (1): Conv2d(128, 128, kernel_size=(3, 3), stride=(1, 1), padding=(1, 1))\n",
              "        (2): BatchNorm2d(128, eps=1e-05, momentum=0.1, affine=True, track_running_stats=True)\n",
              "      )\n",
              "    )\n",
              "  )\n",
              "  (codeBook): VQEmbedding(\n",
              "    (embedding): Embedding(256, 128)\n",
              "  )\n",
              "  (decoder): Sequential(\n",
              "    (0): DistilResBlock(\n",
              "      (block): Sequential(\n",
              "        (0): LeakyReLU(negative_slope=0.01)\n",
              "        (1): Conv2d(128, 128, kernel_size=(3, 3), stride=(1, 1), padding=(1, 1))\n",
              "        (2): BatchNorm2d(128, eps=1e-05, momentum=0.1, affine=True, track_running_stats=True)\n",
              "      )\n",
              "    )\n",
              "    (1): LeakyReLU(negative_slope=0.01)\n",
              "    (2): ConvTranspose2d(128, 1, kernel_size=(6, 6), stride=(4, 4), padding=(1, 1))\n",
              "    (3): Sigmoid()\n",
              "  )\n",
              ")"
            ]
          },
          "metadata": {},
          "execution_count": 13
        }
      ]
    },
    {
      "cell_type": "code",
      "source": [
        "teacher_vq_vae"
      ],
      "metadata": {
        "colab": {
          "base_uri": "https://localhost:8080/"
        },
        "id": "9L3h4pB3S1gT",
        "outputId": "01e10e8f-6848-4e30-ae72-5bc7826cfad9"
      },
      "execution_count": null,
      "outputs": [
        {
          "output_type": "execute_result",
          "data": {
            "text/plain": [
              "VectorQuantizedVAE(\n",
              "  (encoder): Sequential(\n",
              "    (0): Conv2d(1, 128, kernel_size=(4, 4), stride=(2, 2), padding=(1, 1))\n",
              "    (1): BatchNorm2d(128, eps=1e-05, momentum=0.1, affine=True, track_running_stats=True)\n",
              "    (2): LeakyReLU(negative_slope=0.01)\n",
              "    (3): Conv2d(128, 128, kernel_size=(4, 4), stride=(2, 2), padding=(1, 1))\n",
              "    (4): ResBlock(\n",
              "      (block): Sequential(\n",
              "        (0): LeakyReLU(negative_slope=0.01)\n",
              "        (1): Conv2d(128, 128, kernel_size=(3, 3), stride=(1, 1), padding=(1, 1))\n",
              "        (2): BatchNorm2d(128, eps=1e-05, momentum=0.1, affine=True, track_running_stats=True)\n",
              "        (3): LeakyReLU(negative_slope=0.01)\n",
              "        (4): Conv2d(128, 128, kernel_size=(1, 1), stride=(1, 1))\n",
              "        (5): BatchNorm2d(128, eps=1e-05, momentum=0.1, affine=True, track_running_stats=True)\n",
              "      )\n",
              "    )\n",
              "    (5): ResBlock(\n",
              "      (block): Sequential(\n",
              "        (0): LeakyReLU(negative_slope=0.01)\n",
              "        (1): Conv2d(128, 128, kernel_size=(3, 3), stride=(1, 1), padding=(1, 1))\n",
              "        (2): BatchNorm2d(128, eps=1e-05, momentum=0.1, affine=True, track_running_stats=True)\n",
              "        (3): LeakyReLU(negative_slope=0.01)\n",
              "        (4): Conv2d(128, 128, kernel_size=(1, 1), stride=(1, 1))\n",
              "        (5): BatchNorm2d(128, eps=1e-05, momentum=0.1, affine=True, track_running_stats=True)\n",
              "      )\n",
              "    )\n",
              "  )\n",
              "  (codeBook): VQEmbedding(\n",
              "    (embedding): Embedding(256, 128)\n",
              "  )\n",
              "  (decoder): Sequential(\n",
              "    (0): ResBlock(\n",
              "      (block): Sequential(\n",
              "        (0): LeakyReLU(negative_slope=0.01)\n",
              "        (1): Conv2d(128, 128, kernel_size=(3, 3), stride=(1, 1), padding=(1, 1))\n",
              "        (2): BatchNorm2d(128, eps=1e-05, momentum=0.1, affine=True, track_running_stats=True)\n",
              "        (3): LeakyReLU(negative_slope=0.01)\n",
              "        (4): Conv2d(128, 128, kernel_size=(1, 1), stride=(1, 1))\n",
              "        (5): BatchNorm2d(128, eps=1e-05, momentum=0.1, affine=True, track_running_stats=True)\n",
              "      )\n",
              "    )\n",
              "    (1): ResBlock(\n",
              "      (block): Sequential(\n",
              "        (0): LeakyReLU(negative_slope=0.01)\n",
              "        (1): Conv2d(128, 128, kernel_size=(3, 3), stride=(1, 1), padding=(1, 1))\n",
              "        (2): BatchNorm2d(128, eps=1e-05, momentum=0.1, affine=True, track_running_stats=True)\n",
              "        (3): LeakyReLU(negative_slope=0.01)\n",
              "        (4): Conv2d(128, 128, kernel_size=(1, 1), stride=(1, 1))\n",
              "        (5): BatchNorm2d(128, eps=1e-05, momentum=0.1, affine=True, track_running_stats=True)\n",
              "      )\n",
              "    )\n",
              "    (2): LeakyReLU(negative_slope=0.01)\n",
              "    (3): ConvTranspose2d(128, 128, kernel_size=(4, 4), stride=(2, 2), padding=(1, 1))\n",
              "    (4): BatchNorm2d(128, eps=1e-05, momentum=0.1, affine=True, track_running_stats=True)\n",
              "    (5): LeakyReLU(negative_slope=0.01)\n",
              "    (6): ConvTranspose2d(128, 1, kernel_size=(4, 4), stride=(2, 2), padding=(1, 1))\n",
              "    (7): Sigmoid()\n",
              "  )\n",
              ")"
            ]
          },
          "metadata": {},
          "execution_count": 14
        }
      ]
    },
    {
      "cell_type": "markdown",
      "source": [
        "## Check the output size of the 2 models\n",
        "They must match, so that we can enforce the outputs logits similarity in the loss function"
      ],
      "metadata": {
        "id": "YOgppCfhhSl-"
      }
    },
    {
      "cell_type": "code",
      "source": [
        "# Do some sanity checks on the outputs dimensionality\n",
        "x = torch.rand((1, 1, 28, 28)).to(device)\n",
        "\n",
        "z_e_x = student_model.encoder(x)\n",
        "assert z_e_x.shape == (1, 128, 7, 7), f'Expected (1, 128, 7, 7), got {z_e_x.shape}'\n",
        "\n",
        "codes = student_model.codeBook(z_e_x)\n",
        "assert codes.shape == (1, 7, 7), f'Expected (1, 7, 7), got {codes.shape}'\n",
        "\n",
        "z_q_x = student_model.codeBook.embedding(codes).permute(0, 3, 1, 2)  # (B, C, H, W)\n",
        "assert z_q_x.shape == (1, 128, 7, 7), f'Expected (1, 128, 7, 7), got {z_q_x.shape}'\n",
        "\n",
        "x_tilde = student_model.decoder(z_q_x)\n",
        "assert x_tilde.shape == (1, 1, 28, 28), f'Expected (1, 1, 28, 28), got {x_tilde.shape}'"
      ],
      "metadata": {
        "id": "N3goi-v_N9TX"
      },
      "execution_count": null,
      "outputs": []
    },
    {
      "cell_type": "code",
      "source": [
        "teacher_model_params_no = sum(p.numel() for p in teacher_vq_vae.parameters())\n",
        "student_model_params_no = sum(p.numel() for p in student_model.parameters())\n",
        "f'Parameters reduced of approx. {(teacher_model_params_no - student_model_params_no)/teacher_model_params_no*100:.0f}%'"
      ],
      "metadata": {
        "colab": {
          "base_uri": "https://localhost:8080/",
          "height": 35
        },
        "id": "1S5gQcW5KQVZ",
        "outputId": "af5ec176-9729-4ab7-f5cc-2562c74e0735"
      },
      "execution_count": null,
      "outputs": [
        {
          "output_type": "execute_result",
          "data": {
            "text/plain": [
              "'Parameters reduced of approx. 72%'"
            ],
            "application/vnd.google.colaboratory.intrinsic+json": {
              "type": "string"
            }
          },
          "metadata": {},
          "execution_count": 16
        }
      ]
    },
    {
      "cell_type": "code",
      "source": [
        "min_latent_code, max_latent_code = codes.min(), codes.max()\n",
        "assert min_latent_code >= 0, f'Expected min_latent_code >= 0, got {min_latent_code}'\n",
        "assert max_latent_code <= 255, f'Expected max_latent_code <= 255, got {max_latent_code}'\n",
        "f'For this random input batch, latent codes go from {min_latent_code.item()} to {max_latent_code.item()}. They are the indexes for the Embedding codebook!'"
      ],
      "metadata": {
        "colab": {
          "base_uri": "https://localhost:8080/",
          "height": 35
        },
        "id": "kGXY3AYaPVIN",
        "outputId": "31900613-55f6-43b0-91e1-c0219eb3a593"
      },
      "execution_count": null,
      "outputs": [
        {
          "output_type": "execute_result",
          "data": {
            "text/plain": [
              "'For this random input batch, latent codes go from 3 to 253. They are the indexes for the Embedding codebook!'"
            ],
            "application/vnd.google.colaboratory.intrinsic+json": {
              "type": "string"
            }
          },
          "metadata": {},
          "execution_count": 17
        }
      ]
    },
    {
      "cell_type": "markdown",
      "source": [
        "## Next steps overview (Student Encoder)\n",
        "Train the student model on the MNIST dataset, with a loss function that aims to minimize the L2-distance between the float32 logits of the teacher model, before the codebook.\n",
        "\n",
        "We decided not to add to the loss also the reconstruction loss: we just want to mimic the teacher model's latent code, which is what LASS is built upon.\n",
        "\n",
        "To train the student, use the same parameters as the teacher:\n",
        "- batch_size: 64\n",
        "- lr: 1e-4\n",
        "- torchvision.datasets.MNIST(train=True)\n",
        "\n",
        "Parameters obtained from *configs/vqvae_training/mnist.yaml*"
      ],
      "metadata": {
        "id": "eKxUts-GR9mG"
      }
    },
    {
      "cell_type": "markdown",
      "source": [
        "Understand `P` training code [here](https://github.com/simonesestito/latent-autoregressive-source-separation/blob/main/lass_mnist/lass/train_sums.py#L24)\n",
        "    \n",
        "    Images mixture: torch.Size([32, 1, 28, 28])\n",
        "    Z_e_x1: torch.Size([32, 128, 7, 7])\n",
        "    Z_e_x2: torch.Size([32, 128, 7, 7])\n",
        "    Z_e_x_mixture: torch.Size([32, 128, 7, 7])\n",
        "    Codes1: torch.Size([32, 7, 7])\n",
        "    Codes2: torch.Size([32, 7, 7])\n",
        "    Codes mixture: torch.Size([32, 7, 7])\n",
        "    Codes1: torch.Size([1568])\n",
        "    Codes2: torch.Size([1568])\n",
        "    Codes mixture: torch.Size([1568])\n",
        "    Sums: torch.Size([256, 256, 256])"
      ],
      "metadata": {
        "id": "5RVbXT9RYSUO"
      }
    },
    {
      "cell_type": "code",
      "source": [
        "sums = torch.rand((256, 256, 256))\n",
        "codes1 = torch.randint(0, 100, (1568,), dtype=torch.int64)\n",
        "codes2 = torch.randint_like(codes1, 0, 100)\n",
        "codes_mix = torch.randint_like(codes1, 0, 100)\n",
        "\n",
        "print_outputs(sums[codes1, codes2, codes_mix])  # Pick indexes [i, j, k] for i, j, k in zip(codes1, codes2, codes_mix)"
      ],
      "metadata": {
        "colab": {
          "base_uri": "https://localhost:8080/"
        },
        "id": "W7CDMbioRwdB",
        "outputId": "c60121ac-ed05-4645-9f61-2c452e877c53"
      },
      "execution_count": null,
      "outputs": [
        {
          "output_type": "stream",
          "name": "stdout",
          "text": [
            "torch.float32 torch.Size([1568])\n"
          ]
        }
      ]
    },
    {
      "cell_type": "code",
      "source": [
        "#@title Add Early Stopping in training\n",
        "class EarlyStopper:\n",
        "    def __init__(self, patience=1, min_delta=0):\n",
        "        self.patience = patience\n",
        "        self.min_delta = min_delta\n",
        "        self.counter = 0\n",
        "        self.min_validation_loss = float('inf')\n",
        "\n",
        "    def early_stop(self, validation_loss):\n",
        "        if validation_loss < self.min_validation_loss:\n",
        "            self.min_validation_loss = validation_loss\n",
        "            self.counter = 0\n",
        "        elif validation_loss > (self.min_validation_loss + self.min_delta):\n",
        "            self.counter += 1\n",
        "            if self.counter >= self.patience:\n",
        "                return True\n",
        "        return False"
      ],
      "metadata": {
        "id": "nGg000cDCPXQ"
      },
      "execution_count": 15,
      "outputs": []
    },
    {
      "cell_type": "code",
      "source": [
        "#@title Training parameters\n",
        "\n",
        "batch_size = 64\n",
        "num_epochs = 50  # Instead of 500\n",
        "lr = 1e-4\n",
        "\n",
        "# Load MNIST dataset\n",
        "transform = transforms.Compose([transforms.ToTensor()])\n",
        "\n",
        "trainset = torchvision.datasets.MNIST(root='./data', train=True,\n",
        "                                        download=True, transform=transform)\n",
        "trainloader = torch.utils.data.DataLoader(trainset, batch_size=batch_size,\n",
        "                                          shuffle=True, num_workers=2)\n",
        "\n",
        "testset = torchvision.datasets.MNIST(root='./data', train=False,\n",
        "                                       download=True, transform=transform)\n",
        "testloader = torch.utils.data.DataLoader(testset, batch_size=batch_size,\n",
        "                                         shuffle=False, num_workers=2)"
      ],
      "metadata": {
        "id": "uWYQY9GOi4Je"
      },
      "execution_count": 16,
      "outputs": []
    },
    {
      "cell_type": "code",
      "source": [
        "#@title Student model training loop\n",
        "student_model = DistilVectorQuantizedVAE(input_dim, dim, K).to(device)\n",
        "\n",
        "# Train the student model, but freeze the teacher model\n",
        "student_model.train()\n",
        "teacher_vq_vae.eval()\n",
        "\n",
        "optimizer = torch.optim.Adam(student_model.encoder.parameters(), lr=lr)\n",
        "early_stopper = EarlyStopper(patience=3, min_delta=0.001)\n",
        "\n",
        "losses_history = []\n",
        "\n",
        "\n",
        "def loop_forward_pass(inputs_batch):\n",
        "  inputs_batch = inputs_batch.to(device)\n",
        "\n",
        "  with torch.no_grad():\n",
        "    teacher_z_e_x_mixture = teacher_vq_vae.encoder(inputs_batch)\n",
        "  assert teacher_z_e_x_mixture.grad is None\n",
        "\n",
        "  student_z_e_x_mixture = student_model.encoder(inputs_batch)\n",
        "\n",
        "  # Calculate the loss as stated before\n",
        "  return F.mse_loss(student_z_e_x_mixture, teacher_z_e_x_mixture)\n",
        "\n",
        "\n",
        "for epoch in tqdm(range(num_epochs), file=sys.stdout):\n",
        "  train_loss, test_loss = 0.0, 0.0\n",
        "\n",
        "  # Training loop\n",
        "  for i, (inputs_batch, _) in enumerate(trainloader):\n",
        "    # Calculate the loss as stated before\n",
        "    loss = loop_forward_pass(inputs_batch)\n",
        "\n",
        "    optimizer.zero_grad()\n",
        "    loss.backward()\n",
        "    optimizer.step()\n",
        "\n",
        "    train_loss += loss.item()\n",
        "\n",
        "  train_loss /= len(trainloader)\n",
        "\n",
        "  # Measure how's going with test data\n",
        "  with torch.no_grad():\n",
        "    for i, (inputs_batch, _) in enumerate(testloader):\n",
        "      test_loss += loop_forward_pass(inputs_batch).item()\n",
        "\n",
        "  test_loss /= len(testloader)\n",
        "\n",
        "  losses_history.append((train_loss, test_loss))\n",
        "\n",
        "  print(f'\\rEpoch {epoch + 1}, Training Loss: {train_loss:.5f}, Test Loss: {test_loss:.5f}', flush=True)\n",
        "\n",
        "  # Early stopping\n",
        "  if early_stopper.early_stop(test_loss):\n",
        "    print(\"Early stopping triggered\")\n",
        "    break\n",
        "\n",
        "print('Finished Training')"
      ],
      "metadata": {
        "colab": {
          "base_uri": "https://localhost:8080/"
        },
        "id": "CoC79Miua3uK",
        "outputId": "f87337fa-e2fd-4fe5-948c-7ccd1c1edd2f"
      },
      "execution_count": null,
      "outputs": [
        {
          "output_type": "stream",
          "name": "stdout",
          "text": [
            "Epoch 1, Training Loss: 0.33344, Test Loss: 0.18553\n",
            "Epoch 2, Training Loss: 0.14082, Test Loss: 0.10501\n",
            "Epoch 3, Training Loss: 0.07991, Test Loss: 0.05963\n",
            "Epoch 4, Training Loss: 0.04512, Test Loss: 0.03375\n",
            "Epoch 5, Training Loss: 0.02565, Test Loss: 0.01986\n",
            "Epoch 6, Training Loss: 0.01545, Test Loss: 0.01270\n",
            "Epoch 7, Training Loss: 0.01011, Test Loss: 0.00894\n",
            "Epoch 8, Training Loss: 0.00730, Test Loss: 0.00700\n",
            "Epoch 9, Training Loss: 0.00581, Test Loss: 0.00592\n",
            "Epoch 10, Training Loss: 0.00494, Test Loss: 0.00527\n",
            "Epoch 11, Training Loss: 0.00436, Test Loss: 0.00478\n",
            "Epoch 12, Training Loss: 0.00398, Test Loss: 0.00446\n",
            "Epoch 13, Training Loss: 0.00371, Test Loss: 0.00427\n",
            "Epoch 14, Training Loss: 0.00353, Test Loss: 0.00413\n",
            "Epoch 15, Training Loss: 0.00342, Test Loss: 0.00407\n",
            "Epoch 16, Training Loss: 0.00336, Test Loss: 0.00398\n",
            "Epoch 17, Training Loss: 0.00331, Test Loss: 0.00402\n",
            "Epoch 18, Training Loss: 0.00326, Test Loss: 0.00394\n",
            "Epoch 19, Training Loss: 0.00323, Test Loss: 0.00386\n",
            "Epoch 20, Training Loss: 0.00320, Test Loss: 0.00390\n",
            "Epoch 21, Training Loss: 0.00316, Test Loss: 0.00385\n",
            "Epoch 22, Training Loss: 0.00314, Test Loss: 0.00382\n",
            "Epoch 23, Training Loss: 0.00310, Test Loss: 0.00376\n",
            "Epoch 24, Training Loss: 0.00308, Test Loss: 0.00374\n",
            "Epoch 25, Training Loss: 0.00306, Test Loss: 0.00371\n",
            "Epoch 26, Training Loss: 0.00304, Test Loss: 0.00369\n",
            "Epoch 27, Training Loss: 0.00302, Test Loss: 0.00368\n",
            "Epoch 28, Training Loss: 0.00300, Test Loss: 0.00365\n",
            "Epoch 29, Training Loss: 0.00298, Test Loss: 0.00365\n",
            "Epoch 30, Training Loss: 0.00296, Test Loss: 0.00363\n",
            "Epoch 31, Training Loss: 0.00294, Test Loss: 0.00359\n",
            "Epoch 32, Training Loss: 0.00292, Test Loss: 0.00361\n",
            "Epoch 33, Training Loss: 0.00291, Test Loss: 0.00356\n",
            "Epoch 34, Training Loss: 0.00289, Test Loss: 0.00356\n",
            "Epoch 35, Training Loss: 0.00288, Test Loss: 0.00355\n",
            "Epoch 36, Training Loss: 0.00286, Test Loss: 0.00354\n",
            "Epoch 37, Training Loss: 0.00285, Test Loss: 0.00350\n",
            "Epoch 38, Training Loss: 0.00284, Test Loss: 0.00354\n",
            "Epoch 39, Training Loss: 0.00283, Test Loss: 0.00349\n",
            "Epoch 40, Training Loss: 0.00282, Test Loss: 0.00353\n",
            "Epoch 41, Training Loss: 0.00280, Test Loss: 0.00352\n",
            "Epoch 42, Training Loss: 0.00279, Test Loss: 0.00346\n",
            "Epoch 43, Training Loss: 0.00279, Test Loss: 0.00346\n",
            "Epoch 44, Training Loss: 0.00277, Test Loss: 0.00345\n",
            "Epoch 45, Training Loss: 0.00275, Test Loss: 0.00343\n",
            "Epoch 46, Training Loss: 0.00275, Test Loss: 0.00346\n",
            "Epoch 47, Training Loss: 0.00273, Test Loss: 0.00338\n",
            "Epoch 48, Training Loss: 0.00271, Test Loss: 0.00341\n",
            "Epoch 49, Training Loss: 0.00271, Test Loss: 0.00338\n",
            "Epoch 50, Training Loss: 0.00270, Test Loss: 0.00338\n",
            "100%|██████████| 50/50 [10:17<00:00, 12.34s/it]\n",
            "Finished Training\n"
          ]
        }
      ]
    },
    {
      "cell_type": "code",
      "source": [
        "plot_losses_history(losses_history)"
      ],
      "metadata": {
        "colab": {
          "base_uri": "https://localhost:8080/",
          "height": 472
        },
        "id": "b_a39dvwfYLZ",
        "outputId": "4cabb7cc-1eec-4748-9228-9fd756fb815c"
      },
      "execution_count": null,
      "outputs": [
        {
          "output_type": "display_data",
          "data": {
            "text/plain": [
              "<Figure size 640x480 with 1 Axes>"
            ],
            "image/png": "[encoded data removed]"
          },
          "metadata": {}
        }
      ]
    },
    {
      "cell_type": "code",
      "source": [
        "torch.save(student_model.state_dict(), student_model_trained_encoder_checkpoint_filename)"
      ],
      "metadata": {
        "id": "ji7qCJzjV7k_"
      },
      "execution_count": null,
      "outputs": []
    },
    {
      "cell_type": "markdown",
      "source": [
        "## Test the reconstruction replacing only the Encoder\n",
        "Reconstruct the image using the teacher pre-trained model, but with the student Encoder"
      ],
      "metadata": {
        "id": "dLbFnG1PFqHJ"
      }
    },
    {
      "cell_type": "code",
      "source": [
        "test_model(encoder_model=student_model, decoder_model=teacher_vq_vae)"
      ],
      "metadata": {
        "colab": {
          "base_uri": "https://localhost:8080/",
          "height": 260
        },
        "id": "qSCzJEaZGqS6",
        "outputId": "5c8d2dfc-81c9-4725-9b04-c42bec0b12fa"
      },
      "execution_count": null,
      "outputs": [
        {
          "output_type": "stream",
          "name": "stdout",
          "text": [
            "Using encoder: DistilVectorQuantizedVAE\n",
            "Using decoder: VectorQuantizedVAE\n"
          ]
        },
        {
          "output_type": "display_data",
          "data": {
            "text/plain": [
              "<Figure size 640x480 with 3 Axes>"
            ],
            "image/png": "[encoded data removed]"
          },
          "metadata": {}
        },
        {
          "output_type": "stream",
          "name": "stdout",
          "text": [
            "L2 distance between teacher and student reconstructions: 0.0098\n"
          ]
        }
      ]
    },
    {
      "cell_type": "markdown",
      "source": [
        "## Train the student decoder\n",
        "Repeat what we did with the Encoder, this time with the Decoder.\n",
        "\n",
        "For now, the codebook will stay the same"
      ],
      "metadata": {
        "id": "rkSnWBpxL5xv"
      }
    },
    {
      "cell_type": "code",
      "source": [
        "# Restore the saved model\n",
        "student_model = DistilVectorQuantizedVAE(input_dim, dim, K).to(device)\n",
        "with open(student_model_trained_encoder_checkpoint_filename, 'rb') as f:\n",
        "  student_model.load_state_dict(torch.load(f, map_location=device))\n",
        "student_model.train()\n",
        "teacher_vq_vae.eval()\n",
        "\n",
        "student_model.decoder.apply(weights_init)\n",
        "\n",
        "optimizer = torch.optim.Adam(student_model.decoder.parameters(), lr=lr)\n",
        "early_stopper = EarlyStopper(patience=3, min_delta=0.001)\n",
        "\n",
        "losses_history = []\n",
        "\n",
        "\n",
        "def loop_forward_pass(inputs_batch):\n",
        "  inputs_batch = inputs_batch.to(device)\n",
        "\n",
        "  with torch.no_grad():\n",
        "    z_e_x = teacher_vq_vae.encoder(inputs_batch)\n",
        "    codes = teacher_vq_vae.codeBook(z_e_x)\n",
        "    latents = teacher_vq_vae.codes_to_latents(codes)\n",
        "    teacher_x_tilde = teacher_vq_vae.decode_latents(latents)\n",
        "\n",
        "  student_x_tilde = student_model.decoder(latents)\n",
        "\n",
        "  # Calculate the loss on the reconstructed image\n",
        "  return F.mse_loss(student_x_tilde, teacher_x_tilde)\n",
        "\n",
        "\n",
        "for epoch in tqdm(range(num_epochs), file=sys.stdout):\n",
        "  train_loss, test_loss = 0.0, 0.0\n",
        "\n",
        "  # Training loop\n",
        "  for i, (inputs_batch, _) in enumerate(trainloader):\n",
        "    # Calculate the loss as stated before\n",
        "    loss = loop_forward_pass(inputs_batch)\n",
        "\n",
        "    optimizer.zero_grad()\n",
        "    loss.backward()\n",
        "    optimizer.step()\n",
        "\n",
        "    train_loss += loss.item()\n",
        "\n",
        "  train_loss /= len(trainloader)\n",
        "\n",
        "  # Measure how's going with test data\n",
        "  with torch.no_grad():\n",
        "    for i, (inputs_batch, _) in enumerate(testloader):\n",
        "      test_loss += loop_forward_pass(inputs_batch).item()\n",
        "\n",
        "  test_loss /= len(testloader)\n",
        "\n",
        "  losses_history.append((train_loss, test_loss))\n",
        "\n",
        "  print(f'\\rEpoch {epoch + 1}, Training Loss: {train_loss:.5f}, Test Loss: {test_loss:.5f}', flush=True)\n",
        "\n",
        "  # Early stopping\n",
        "  if early_stopper.early_stop(test_loss):\n",
        "    print(\"Early stopping triggered\")\n",
        "    break\n",
        "\n",
        "print('Finished Training')"
      ],
      "metadata": {
        "colab": {
          "base_uri": "https://localhost:8080/"
        },
        "id": "XHLO4QuWMDP9",
        "outputId": "0083d2ff-f990-4e5b-d366-9776c36b54d3"
      },
      "execution_count": null,
      "outputs": [
        {
          "output_type": "stream",
          "name": "stdout",
          "text": [
            "Epoch 1, Training Loss: 0.03794, Test Loss: 0.01076\n",
            "Epoch 2, Training Loss: 0.00742, Test Loss: 0.00539\n",
            "Epoch 3, Training Loss: 0.00443, Test Loss: 0.00375\n",
            "Epoch 4, Training Loss: 0.00330, Test Loss: 0.00301\n",
            "Epoch 5, Training Loss: 0.00273, Test Loss: 0.00259\n",
            "Epoch 6, Training Loss: 0.00239, Test Loss: 0.00233\n",
            "Epoch 7, Training Loss: 0.00217, Test Loss: 0.00219\n",
            "Epoch 8, Training Loss: 0.00201, Test Loss: 0.00202\n",
            "Epoch 9, Training Loss: 0.00190, Test Loss: 0.00194\n",
            "Epoch 10, Training Loss: 0.00181, Test Loss: 0.00187\n",
            "Epoch 11, Training Loss: 0.00174, Test Loss: 0.00179\n",
            "Epoch 12, Training Loss: 0.00170, Test Loss: 0.00174\n",
            "Epoch 13, Training Loss: 0.00166, Test Loss: 0.00173\n",
            "Epoch 14, Training Loss: 0.00162, Test Loss: 0.00166\n",
            "Epoch 15, Training Loss: 0.00158, Test Loss: 0.00163\n",
            "Epoch 16, Training Loss: 0.00156, Test Loss: 0.00160\n",
            "Epoch 17, Training Loss: 0.00154, Test Loss: 0.00157\n",
            "Epoch 18, Training Loss: 0.00152, Test Loss: 0.00156\n",
            "Epoch 19, Training Loss: 0.00150, Test Loss: 0.00154\n",
            "Epoch 20, Training Loss: 0.00149, Test Loss: 0.00153\n",
            "Epoch 21, Training Loss: 0.00147, Test Loss: 0.00153\n",
            "Epoch 22, Training Loss: 0.00146, Test Loss: 0.00149\n",
            "Epoch 23, Training Loss: 0.00145, Test Loss: 0.00150\n",
            "Epoch 24, Training Loss: 0.00144, Test Loss: 0.00147\n",
            "Epoch 25, Training Loss: 0.00143, Test Loss: 0.00146\n",
            "Epoch 26, Training Loss: 0.00142, Test Loss: 0.00146\n",
            "Epoch 27, Training Loss: 0.00142, Test Loss: 0.00147\n",
            "Epoch 28, Training Loss: 0.00141, Test Loss: 0.00144\n",
            "Epoch 29, Training Loss: 0.00140, Test Loss: 0.00143\n",
            "Epoch 30, Training Loss: 0.00140, Test Loss: 0.00144\n",
            "Epoch 31, Training Loss: 0.00139, Test Loss: 0.00143\n",
            "Epoch 32, Training Loss: 0.00138, Test Loss: 0.00142\n",
            "Epoch 33, Training Loss: 0.00138, Test Loss: 0.00141\n",
            "Epoch 34, Training Loss: 0.00138, Test Loss: 0.00140\n",
            "Epoch 35, Training Loss: 0.00137, Test Loss: 0.00140\n",
            "Epoch 36, Training Loss: 0.00137, Test Loss: 0.00139\n",
            "Epoch 37, Training Loss: 0.00136, Test Loss: 0.00140\n",
            "Epoch 38, Training Loss: 0.00136, Test Loss: 0.00138\n",
            "Epoch 39, Training Loss: 0.00136, Test Loss: 0.00139\n",
            "Epoch 40, Training Loss: 0.00135, Test Loss: 0.00138\n",
            "Epoch 41, Training Loss: 0.00135, Test Loss: 0.00138\n",
            "Epoch 42, Training Loss: 0.00135, Test Loss: 0.00138\n",
            "Epoch 43, Training Loss: 0.00134, Test Loss: 0.00137\n",
            "Epoch 44, Training Loss: 0.00134, Test Loss: 0.00136\n",
            "Epoch 45, Training Loss: 0.00134, Test Loss: 0.00136\n",
            "Epoch 46, Training Loss: 0.00133, Test Loss: 0.00136\n",
            "Epoch 47, Training Loss: 0.00133, Test Loss: 0.00136\n",
            "Epoch 48, Training Loss: 0.00133, Test Loss: 0.00135\n",
            "Epoch 49, Training Loss: 0.00133, Test Loss: 0.00135\n",
            "Epoch 50, Training Loss: 0.00133, Test Loss: 0.00135\n",
            "100%|██████████| 50/50 [11:39<00:00, 13.99s/it]\n",
            "Finished Training\n"
          ]
        }
      ]
    },
    {
      "cell_type": "code",
      "source": [
        "plot_losses_history(losses_history)"
      ],
      "metadata": {
        "colab": {
          "base_uri": "https://localhost:8080/",
          "height": 472
        },
        "id": "7rQ6rp-upiUz",
        "outputId": "743b3b99-44b9-4143-e5ac-59ef48c31594"
      },
      "execution_count": null,
      "outputs": [
        {
          "output_type": "display_data",
          "data": {
            "text/plain": [
              "<Figure size 640x480 with 1 Axes>"
            ],
            "image/png": "[encoded data removed]"
          },
          "metadata": {}
        }
      ]
    },
    {
      "cell_type": "code",
      "source": [
        "torch.save(student_model.state_dict(), student_model_trained_enc_dec_checkpoint_filename)"
      ],
      "metadata": {
        "id": "UpSMJkJRfFO8"
      },
      "execution_count": null,
      "outputs": []
    },
    {
      "cell_type": "markdown",
      "source": [
        "## Test both encoder and decoder from the Student model\n"
      ],
      "metadata": {
        "id": "5jcmLdBgiMGO"
      }
    },
    {
      "cell_type": "code",
      "source": [
        "test_model(encoder_model=student_model, decoder_model=student_model)"
      ],
      "metadata": {
        "colab": {
          "base_uri": "https://localhost:8080/",
          "height": 260
        },
        "id": "nSTKAzbLp261",
        "outputId": "6c4b0802-b09e-4100-d1ff-3f6a36adfce0"
      },
      "execution_count": null,
      "outputs": [
        {
          "output_type": "stream",
          "name": "stdout",
          "text": [
            "Using encoder: DistilVectorQuantizedVAE\n",
            "Using decoder: DistilVectorQuantizedVAE\n"
          ]
        },
        {
          "output_type": "display_data",
          "data": {
            "text/plain": [
              "<Figure size 640x480 with 3 Axes>"
            ],
            "image/png": "[encoded data removed]"
          },
          "metadata": {}
        },
        {
          "output_type": "stream",
          "name": "stdout",
          "text": [
            "L2 distance between teacher and student reconstructions: 0.0088\n"
          ]
        }
      ]
    },
    {
      "cell_type": "markdown",
      "source": [
        "## Benchmark the performance improvement"
      ],
      "metadata": {
        "id": "38YEr8gYKiiN"
      }
    },
    {
      "cell_type": "code",
      "source": [
        "benchmark_batch_size = 128  #@param{type: 'integer', min: 1}\n",
        "benchmark_device = 'cpu'\n",
        "\n",
        "print('Benchmark on', benchmark_device)\n",
        "print('Using', benchmark_batch_size, 'items')\n",
        "\n",
        "# Load test images\n",
        "input_images = testset.data[:benchmark_batch_size]\n",
        "input_images = input_images.unsqueeze(1).float() / 255.0\n",
        "input_images = input_images.to(benchmark_device)\n",
        "print(input_images.dtype, input_images.shape, input_images.device)\n",
        "\n",
        "# Run the benchmark!\n",
        "@torch.no_grad()\n",
        "def _benchmark_model(model, measure_end_to_end=False):\n",
        "  z_e_x = model.encoder(input_images)\n",
        "  # Always use the teacher model for the codebook\n",
        "  codes = teacher_vq_vae.codeBook(z_e_x)\n",
        "  latents = teacher_vq_vae.codes_to_latents(codes)\n",
        "  student_x_tilde = model.decode_latents(latents)\n",
        "  return student_x_tilde[0, 0, 0, 0]\n",
        "\n",
        "# Move the models on the CPU\n",
        "student_model = student_model.to(benchmark_device)\n",
        "teacher_vq_vae = teacher_vq_vae.to(benchmark_device)"
      ],
      "metadata": {
        "colab": {
          "base_uri": "https://localhost:8080/"
        },
        "id": "xnI-LMfpIlIl",
        "outputId": "3ee07a33-4469-4b25-90e0-1d98e211c82c"
      },
      "execution_count": null,
      "outputs": [
        {
          "output_type": "stream",
          "name": "stdout",
          "text": [
            "Benchmark on cpu\n",
            "Using 128 items\n",
            "torch.float32 torch.Size([128, 1, 28, 28]) cpu\n"
          ]
        }
      ]
    },
    {
      "cell_type": "code",
      "source": [
        "print('Benchmark of teacher encoder only')\n",
        "%timeit _benchmark_model(teacher_vq_vae, measure_end_to_end=False)"
      ],
      "metadata": {
        "colab": {
          "base_uri": "https://localhost:8080/"
        },
        "id": "oEWGc03QKoz7",
        "outputId": "70549e36-28fa-4fb5-d94b-3429fabd8fab"
      },
      "execution_count": null,
      "outputs": [
        {
          "output_type": "stream",
          "name": "stdout",
          "text": [
            "Benchmark of teacher encoder only\n",
            "323 ms ± 9.21 ms per loop (mean ± std. dev. of 7 runs, 1 loop each)\n"
          ]
        }
      ]
    },
    {
      "cell_type": "code",
      "source": [
        "print('Benchmark of student encoder only')\n",
        "%timeit _benchmark_model(student_model, measure_end_to_end=False)"
      ],
      "metadata": {
        "colab": {
          "base_uri": "https://localhost:8080/"
        },
        "id": "ozR1f4AIKotm",
        "outputId": "ab2e6ad0-e40c-4285-ea3f-67336c702c59"
      },
      "execution_count": null,
      "outputs": [
        {
          "output_type": "stream",
          "name": "stdout",
          "text": [
            "Benchmark of student encoder only\n",
            "86.3 ms ± 19.7 ms per loop (mean ± std. dev. of 7 runs, 10 loops each)\n"
          ]
        }
      ]
    },
    {
      "cell_type": "code",
      "source": [
        "print('Benchmark of teacher VQ-VAE end-to-end')\n",
        "%timeit _benchmark_model(teacher_vq_vae, measure_end_to_end=True)"
      ],
      "metadata": {
        "colab": {
          "base_uri": "https://localhost:8080/"
        },
        "id": "iAe6RTkiKonf",
        "outputId": "6ba7a662-56ab-4ccb-85c2-03b007cc840e"
      },
      "execution_count": null,
      "outputs": [
        {
          "output_type": "stream",
          "name": "stdout",
          "text": [
            "Benchmark of teacher VQ-VAE end-to-end\n",
            "309 ms ± 4.93 ms per loop (mean ± std. dev. of 7 runs, 1 loop each)\n"
          ]
        }
      ]
    },
    {
      "cell_type": "code",
      "source": [
        "print('Benchmark of student VQ-VAE end-to-end, using the teacher decoder')\n",
        "%timeit _benchmark_model(student_model, measure_end_to_end=True)"
      ],
      "metadata": {
        "colab": {
          "base_uri": "https://localhost:8080/"
        },
        "id": "CGG2KDe6Kof-",
        "outputId": "d03b8151-94a7-4057-f87e-e300ad3c527c"
      },
      "execution_count": null,
      "outputs": [
        {
          "output_type": "stream",
          "name": "stdout",
          "text": [
            "Benchmark of student VQ-VAE end-to-end, using the teacher decoder\n",
            "93.3 ms ± 19.7 ms per loop (mean ± std. dev. of 7 runs, 10 loops each)\n"
          ]
        }
      ]
    },
    {
      "cell_type": "code",
      "source": [
        "# Restore everything on the standard device (presumably a CUDA GPU)\n",
        "student_model = student_model.to(device)\n",
        "teacher_vq_vae = teacher_vq_vae.to(device)"
      ],
      "metadata": {
        "id": "VrZbiMaeX1-h"
      },
      "execution_count": null,
      "outputs": []
    },
    {
      "cell_type": "markdown",
      "source": [
        "It reduced:\n",
        "- parameters by **72%**\n",
        "- execution time by **67%** (from $\\approx$ 300 ms to $\\approx$ 100 ms)\n",
        "\n",
        "**Tested on CPU**, with a batch, to have a stronger difference in execution time"
      ],
      "metadata": {
        "id": "s251LPagLRdY"
      }
    },
    {
      "cell_type": "markdown",
      "source": [
        "## Save the full Student model\n",
        "Copy the Teacher's embedding codebook"
      ],
      "metadata": {
        "id": "am33gsJr__sW"
      }
    },
    {
      "cell_type": "code",
      "source": [
        "student_model.codeBook = teacher_vq_vae.codeBook\n",
        "\n",
        "torch.save(student_model.state_dict(), student_model_trained_full_checkpoint_filename)"
      ],
      "metadata": {
        "id": "fafkNOOcAD67"
      },
      "execution_count": null,
      "outputs": []
    },
    {
      "cell_type": "markdown",
      "source": [
        "# Train Student model alone\n",
        "With no teacher available, and see its performance.\n",
        "\n",
        "It is the training of a standalone VQ-VAE.\n",
        "\n",
        "The **loss** is *NOT ONLY* the reconstruction loss, but it is actually composed of three components:\n",
        "1. reconstruction loss\n",
        "2. codebook loss\n",
        "3. commitment loss\n",
        "\n",
        "More resources on how to train a VQ-VAE: [here](https://github.com/zalandoresearch/pytorch-vq-vae/blob/master/vq-vae.ipynb) and [here](https://github.com/Vrushank264/VQVAE-PyTorch/blob/main/train.py)"
      ],
      "metadata": {
        "id": "Ee9HjQyQQ7tT"
      }
    },
    {
      "cell_type": "code",
      "source": [
        "#@title VQ-VAE loss\n",
        "def compute_vqvae_loss(model, input_batch, beta):\n",
        "  input_batch = input_batch.to(device)\n",
        "\n",
        "  x_tilde, z_e_x, z_q_x = model(input_batch)\n",
        "\n",
        "  # The final loss is composed of 3 components:\n",
        "  # 1. reconstruction loss\n",
        "  recon_loss = F.mse_loss(x_tilde, input_batch)\n",
        "  # 2. codebook loss\n",
        "  codebook_loss = F.mse_loss(z_q_x, z_e_x.detach())\n",
        "  # 3. commitment loss\n",
        "  commitment_loss = F.mse_loss(z_e_x, z_q_x.detach())\n",
        "\n",
        "  return recon_loss + codebook_loss + beta * commitment_loss"
      ],
      "metadata": {
        "id": "C8KgZ0aeRmwY"
      },
      "execution_count": null,
      "outputs": []
    },
    {
      "cell_type": "code",
      "source": [
        "#@title Training loop\n",
        "alone_student_model = DistilVectorQuantizedVAE(input_dim, dim, K).to(device)\n",
        "\n",
        "# Train the student model, but freeze the teacher model\n",
        "alone_student_model.train()\n",
        "\n",
        "optimizer = torch.optim.Adam(alone_student_model.parameters(), lr=lr)\n",
        "early_stopper = EarlyStopper(patience=3, min_delta=0.001)\n",
        "beta = 0.25  #@param {type: 'number', min:0.01, max:1.0}\n",
        "\n",
        "losses_history = []\n",
        "\n",
        "\n",
        "for epoch in tqdm(range(num_epochs), file=sys.stdout):\n",
        "  train_loss, test_loss = 0.0, 0.0\n",
        "\n",
        "  # Training loop\n",
        "  for i, (inputs_batch, _) in enumerate(trainloader):\n",
        "    # Calculate the loss as stated before\n",
        "    loss = compute_vqvae_loss(alone_student_model, inputs_batch, beta)\n",
        "\n",
        "    optimizer.zero_grad()\n",
        "    loss.backward()\n",
        "    optimizer.step()\n",
        "\n",
        "    train_loss += loss.item()\n",
        "\n",
        "  train_loss /= len(trainloader)\n",
        "\n",
        "  # Measure how's going with test data\n",
        "  with torch.no_grad():\n",
        "    for i, (inputs_batch, _) in enumerate(testloader):\n",
        "      test_loss += compute_vqvae_loss(alone_student_model, inputs_batch, beta).item\n",
        "\n",
        "  test_loss /= len(testloader)\n",
        "\n",
        "  losses_history.append((train_loss, test_loss))\n",
        "\n",
        "  print(f'\\rEpoch {epoch + 1}, Training Loss: {train_loss:.5f}, Test Loss: {test_loss:.5f}', flush=True)\n",
        "\n",
        "  # Early stopping\n",
        "  if early_stopper.early_stop(test_loss):\n",
        "    print(\"Early stopping triggered\")\n",
        "    break\n",
        "\n",
        "print('Finished Training')"
      ],
      "metadata": {
        "colab": {
          "base_uri": "https://localhost:8080/"
        },
        "id": "ED8IUOWpG0SD",
        "outputId": "01418c9f-aed5-483e-bd39-b974f8f3c262"
      },
      "execution_count": null,
      "outputs": [
        {
          "output_type": "stream",
          "name": "stdout",
          "text": [
            "Epoch 1, Training Loss: 1.80600, Test Loss: 1.34923\n",
            "Epoch 2, Training Loss: 1.12076, Test Loss: 0.92376\n",
            "Epoch 3, Training Loss: 0.74811, Test Loss: 0.57507\n",
            "Epoch 4, Training Loss: 0.45351, Test Loss: 0.35577\n",
            "Epoch 5, Training Loss: 0.28728, Test Loss: 0.23746\n",
            "Epoch 6, Training Loss: 0.19786, Test Loss: 0.16822\n",
            "Epoch 7, Training Loss: 0.14494, Test Loss: 0.12597\n",
            "Epoch 8, Training Loss: 0.11291, Test Loss: 0.10197\n",
            "Epoch 9, Training Loss: 0.09288, Test Loss: 0.08504\n",
            "Epoch 10, Training Loss: 0.07693, Test Loss: 0.07033\n",
            "Epoch 11, Training Loss: 0.06513, Test Loss: 0.06186\n",
            "Epoch 12, Training Loss: 0.05642, Test Loss: 0.05318\n",
            "Epoch 13, Training Loss: 0.04966, Test Loss: 0.04851\n",
            "Epoch 14, Training Loss: 0.04483, Test Loss: 0.04402\n",
            "Epoch 15, Training Loss: 0.04146, Test Loss: 0.04136\n",
            "Epoch 16, Training Loss: 0.03876, Test Loss: 0.03901\n",
            "Epoch 17, Training Loss: 0.03650, Test Loss: 0.03664\n",
            "Epoch 18, Training Loss: 0.03474, Test Loss: 0.03542\n",
            "Epoch 19, Training Loss: 0.03348, Test Loss: 0.03444\n",
            "Epoch 20, Training Loss: 0.03258, Test Loss: 0.03364\n",
            "Epoch 21, Training Loss: 0.03181, Test Loss: 0.03287\n",
            "Epoch 22, Training Loss: 0.03114, Test Loss: 0.03191\n",
            "Epoch 23, Training Loss: 0.03041, Test Loss: 0.03146\n",
            "Epoch 24, Training Loss: 0.02974, Test Loss: 0.03106\n",
            "Epoch 25, Training Loss: 0.02927, Test Loss: 0.03063\n",
            "Epoch 26, Training Loss: 0.02891, Test Loss: 0.02995\n",
            "Epoch 27, Training Loss: 0.02843, Test Loss: 0.02966\n",
            "Epoch 28, Training Loss: 0.02818, Test Loss: 0.02962\n",
            "Epoch 29, Training Loss: 0.02790, Test Loss: 0.02916\n",
            "Epoch 30, Training Loss: 0.02761, Test Loss: 0.02881\n",
            "Epoch 31, Training Loss: 0.02741, Test Loss: 0.02918\n",
            "Epoch 32, Training Loss: 0.02711, Test Loss: 0.02826\n",
            "Epoch 33, Training Loss: 0.02670, Test Loss: 0.02818\n",
            "Epoch 34, Training Loss: 0.02638, Test Loss: 0.02769\n",
            "Epoch 35, Training Loss: 0.02607, Test Loss: 0.02837\n",
            "Epoch 36, Training Loss: 0.02590, Test Loss: 0.02721\n",
            "Epoch 37, Training Loss: 0.02568, Test Loss: 0.02700\n",
            "Epoch 38, Training Loss: 0.02557, Test Loss: 0.02719\n",
            "Epoch 39, Training Loss: 0.02547, Test Loss: 0.02667\n",
            "Epoch 40, Training Loss: 0.02538, Test Loss: 0.02680\n",
            "Epoch 41, Training Loss: 0.02526, Test Loss: 0.02676\n",
            "Epoch 42, Training Loss: 0.02513, Test Loss: 0.02644\n",
            "Epoch 43, Training Loss: 0.02505, Test Loss: 0.02644\n",
            "Epoch 44, Training Loss: 0.02502, Test Loss: 0.02648\n",
            "Epoch 45, Training Loss: 0.02489, Test Loss: 0.02624\n",
            "Epoch 46, Training Loss: 0.02484, Test Loss: 0.02613\n",
            "Epoch 47, Training Loss: 0.02473, Test Loss: 0.02601\n",
            "Epoch 48, Training Loss: 0.02465, Test Loss: 0.02590\n",
            "Epoch 49, Training Loss: 0.02444, Test Loss: 0.02585\n",
            "Epoch 50, Training Loss: 0.02422, Test Loss: 0.02551\n",
            "100%|██████████| 50/50 [12:43<00:00, 15.27s/it]\n",
            "Finished Training\n"
          ]
        }
      ]
    },
    {
      "cell_type": "code",
      "source": [
        "plot_losses_history(losses_history)"
      ],
      "metadata": {
        "colab": {
          "base_uri": "https://localhost:8080/",
          "height": 472
        },
        "outputId": "de75fd12-453c-4597-a8a6-5b50a6f4bfb7",
        "id": "WxKAsAIAIKhJ"
      },
      "execution_count": null,
      "outputs": [
        {
          "output_type": "display_data",
          "data": {
            "text/plain": [
              "<Figure size 640x480 with 1 Axes>"
            ],
            "image/png": "[encoded data removed]"
          },
          "metadata": {}
        }
      ]
    },
    {
      "cell_type": "code",
      "source": [
        "torch.save(alone_student_model.state_dict(), alone_student_model_checkpoint_filename)"
      ],
      "metadata": {
        "id": "GUyf-07iIKhP"
      },
      "execution_count": null,
      "outputs": []
    },
    {
      "cell_type": "code",
      "source": [
        "#@title Show an example from this alone student\n",
        "\n",
        "# Pick a random image from MNIST dataset\n",
        "input_image, _ = testset[3]\n",
        "input_image = input_image[None, ...].to(device)\n",
        "input_image.dtype, input_image.shape\n",
        "\n",
        "with torch.no_grad():\n",
        "  alone_x_tilde, _, _ = alone_student_model(input_image)\n",
        "  student_x_tilde, _, _ = student_model(input_image)\n",
        "  teacher_x_tilde, _, _ = teacher_vq_vae(input_image)\n",
        "\n",
        "show_images([\n",
        "    (input_image, 'Input'),\n",
        "    (teacher_x_tilde, 'Teacher'),\n",
        "    (student_x_tilde, 'Student'),\n",
        "    (alone_x_tilde, 'Alone Student'),\n",
        "])"
      ],
      "metadata": {
        "colab": {
          "base_uri": "https://localhost:8080/",
          "height": 167
        },
        "id": "Rg-wUvF5IY3U",
        "outputId": "1eff5666-a075-4e0f-97c6-1a8fb1d8b313"
      },
      "execution_count": null,
      "outputs": [
        {
          "output_type": "display_data",
          "data": {
            "text/plain": [
              "<Figure size 640x480 with 4 Axes>"
            ],
            "image/png": "[encoded data removed]"
          },
          "metadata": {}
        }
      ]
    },
    {
      "cell_type": "markdown",
      "source": [
        "# Testing\n",
        "We want to test all 3 models on some metrics, on the whole dataset, and not just a simple visual example as in the cells so far."
      ],
      "metadata": {
        "id": "3IVkPb34K1gg"
      }
    },
    {
      "cell_type": "code",
      "source": [
        "#@title Reload all saved models\n",
        "def load_eval_model(filename) -> nn.Module:\n",
        "  model_class = VectorQuantizedVAE \\\n",
        "      if filename == teacher_model_checkpoint_filename \\\n",
        "      else DistilVectorQuantizedVAE\n",
        "\n",
        "  model = model_class(input_dim, dim, K).to(device)\n",
        "  with open(filename, 'rb') as f:\n",
        "    model.load_state_dict(torch.load(f, map_location=device))\n",
        "\n",
        "  model.eval()\n",
        "\n",
        "  # Freeze parameters\n",
        "  for param in model.parameters():\n",
        "    param.requires_grad = False\n",
        "\n",
        "  # A small check, just to be sure\n",
        "  assert not model.encoder.parameters().__next__().requires_grad\n",
        "  assert not model.decoder.parameters().__next__().requires_grad\n",
        "  assert not model.codeBook.parameters().__next__().requires_grad\n",
        "\n",
        "  return model\n",
        "\n",
        "\n",
        "teacher_model = load_eval_model(teacher_model_checkpoint_filename)\n",
        "student_model = load_eval_model(student_model_trained_full_checkpoint_filename)\n",
        "alone_student_model = load_eval_model(alone_student_model_checkpoint_filename)"
      ],
      "metadata": {
        "id": "wSkcvYi7LAb3"
      },
      "execution_count": 17,
      "outputs": []
    },
    {
      "cell_type": "markdown",
      "source": [
        "## Reconstruction Loss\n",
        "Measure how good these models reconstruct the original image."
      ],
      "metadata": {
        "id": "5IXdcOHVO-Kh"
      }
    },
    {
      "cell_type": "code",
      "source": [
        "@torch.no_grad()\n",
        "def measure_reconstruction(model, dataloader):\n",
        "  model = model.to(device)\n",
        "\n",
        "  def _compute_metrics(inputs_batch, reconstructed_batch, old_metrics=None):\n",
        "    # Use both L2 and PSNR, from the original LASS paper\n",
        "    new_l2 = F.mse_loss(inputs_batch, reconstructed_batch).item()\n",
        "\n",
        "    dims = list(range(1, len(inputs_batch.shape)))  # First dimension is Batch\n",
        "    new_psnr = torchmetrics.functional.peak_signal_noise_ratio(\n",
        "        inputs_batch,\n",
        "        reconstructed_batch,\n",
        "        dim=dims,\n",
        "        data_range=1.0,\n",
        "    ).item()\n",
        "\n",
        "    if old_metrics is not None:\n",
        "      old_l2, old_psnr = old_metrics['l2'], old_metrics['psnr']\n",
        "      new_l2, new_psnr = 0.5 * old_l2 + 0.5 * new_l2, 0.5 * old_psnr + 0.5 * new_psnr\n",
        "\n",
        "    return {\n",
        "        'l2': new_l2,\n",
        "        'psnr': new_psnr,\n",
        "    }\n",
        "\n",
        "\n",
        "  input_metrics, teacher_metrics = None, None\n",
        "\n",
        "  for i, (inputs_batch, _) in enumerate(dataloader):\n",
        "    inputs_batch = inputs_batch.to(device)\n",
        "\n",
        "    # Reconstruct the image\n",
        "    reconstructed_batch, _, _ = model(inputs_batch)\n",
        "    input_metrics = _compute_metrics(inputs_batch, reconstructed_batch, old_metrics=input_metrics)\n",
        "\n",
        "    # Also compare with teacher's output\n",
        "    teacher_batch, _, _ = teacher_model(inputs_batch)\n",
        "    teacher_metrics = _compute_metrics(teacher_batch, reconstructed_batch, old_metrics=teacher_metrics)\n",
        "\n",
        "\n",
        "  # Format metrics\n",
        "  def _format_metrics(metrics):\n",
        "    return { k: f'{v:.4f}' for k, v in metrics.items() }\n",
        "\n",
        "  return _format_metrics(input_metrics), _format_metrics(teacher_metrics)"
      ],
      "metadata": {
        "id": "9vP7eKiuPEnF"
      },
      "execution_count": 25,
      "outputs": []
    },
    {
      "cell_type": "markdown",
      "source": [
        "Remember that:\n",
        "- L2 = lower is better\n",
        "- PSNR = higher is better"
      ],
      "metadata": {
        "id": "P9eJdG4xWpXZ"
      }
    },
    {
      "cell_type": "code",
      "source": [
        "models = [\n",
        "    (teacher_model, 'Teacher'),\n",
        "    (student_model, 'Student'),\n",
        "    (alone_student_model, 'Alone Student'),\n",
        "]\n",
        "\n",
        "for model, model_name in models:\n",
        "  # Measure on training data\n",
        "  train_input_metrics, train_teacher_metrics = measure_reconstruction(model, trainloader)\n",
        "  # Measure on testing data\n",
        "  test_input_metrics, test_teacher_metrics = measure_reconstruction(model, testloader)\n",
        "\n",
        "  print(model_name)\n",
        "  print('\\tOn training data:')\n",
        "  print(f'\\t\\tOn input:', train_input_metrics)\n",
        "  print(f'\\t\\tOn teacher:', train_teacher_metrics)\n",
        "  print('\\tOn testing data:')\n",
        "  print(f'\\t\\tOn input:', test_input_metrics)\n",
        "  print(f'\\t\\tOn teacher:', test_teacher_metrics)\n",
        "  print()"
      ],
      "metadata": {
        "colab": {
          "base_uri": "https://localhost:8080/"
        },
        "id": "Xjb6Ep20XpSw",
        "outputId": "2bd8ef12-2124-4b77-a2d9-a4a5f6dc1fa3"
      },
      "execution_count": 26,
      "outputs": [
        {
          "output_type": "stream",
          "name": "stdout",
          "text": [
            "Teacher\n",
            "\tOn training data:\n",
            "\t\tOn input: {'l2': '0.0012', 'psnr': '29.9649'}\n",
            "\t\tOn teacher: {'l2': '0.0000', 'psnr': '145.5116'}\n",
            "\tOn testing data:\n",
            "\t\tOn input: {'l2': '0.0015', 'psnr': '29.1254'}\n",
            "\t\tOn teacher: {'l2': '0.0000', 'psnr': '155.7110'}\n",
            "\n",
            "Student\n",
            "\tOn training data:\n",
            "\t\tOn input: {'l2': '0.0041', 'psnr': '24.6423'}\n",
            "\t\tOn teacher: {'l2': '0.0036', 'psnr': '25.3042'}\n",
            "\tOn testing data:\n",
            "\t\tOn input: {'l2': '0.0041', 'psnr': '24.5385'}\n",
            "\t\tOn teacher: {'l2': '0.0037', 'psnr': '25.1832'}\n",
            "\n",
            "Alone Student\n",
            "\tOn training data:\n",
            "\t\tOn input: {'l2': '0.0039', 'psnr': '24.4860'}\n",
            "\t\tOn teacher: {'l2': '0.0036', 'psnr': '24.8556'}\n",
            "\tOn testing data:\n",
            "\t\tOn input: {'l2': '0.0038', 'psnr': '24.7428'}\n",
            "\t\tOn teacher: {'l2': '0.0037', 'psnr': '24.8593'}\n",
            "\n"
          ]
        }
      ]
    },
    {
      "cell_type": "markdown",
      "source": [
        "## LASS performance\n",
        "Measure how well these models perform in the context of the LASS task, and not simply as autoencoders."
      ],
      "metadata": {
        "id": "gojxZEDnPE3J"
      }
    },
    {
      "cell_type": "code",
      "source": [],
      "metadata": {
        "id": "W6_cstCGPUpM"
      },
      "execution_count": null,
      "outputs": []
    }
  ]
}