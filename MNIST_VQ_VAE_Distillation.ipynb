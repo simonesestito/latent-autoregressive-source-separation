{
  "nbformat": 4,
  "nbformat_minor": 0,
  "metadata": {
    "colab": {
      "provenance": [],
      "gpuType": "T4",
      "collapsed_sections": [
        "KLiORqLNEOZs"
      ],
      "toc_visible": true
    },
    "kernelspec": {
      "name": "python3",
      "display_name": "Python 3"
    },
    "language_info": {
      "name": "python"
    },
    "accelerator": "GPU"
  },
  "cells": [
    {
      "cell_type": "markdown",
      "source": [
        "# Imports and Drive mount"
      ],
      "metadata": {
        "id": "5wDWe09lE1mB"
      }
    },
    {
      "cell_type": "code",
      "source": [
        "!pip install torchmetrics"
      ],
      "metadata": {
        "colab": {
          "base_uri": "https://localhost:8080/"
        },
        "id": "6W2BMZq_VSzy",
        "outputId": "4dbccc62-c1a7-415a-9848-5eb64bcbed62"
      },
      "execution_count": 1,
      "outputs": [
        {
          "output_type": "stream",
          "name": "stdout",
          "text": [
            "Collecting torchmetrics\n",
            "  Downloading torchmetrics-1.4.1-py3-none-any.whl.metadata (20 kB)\n",
            "Requirement already satisfied: numpy>1.20.0 in /usr/local/lib/python3.10/dist-packages (from torchmetrics) (1.26.4)\n",
            "Requirement already satisfied: packaging>17.1 in /usr/local/lib/python3.10/dist-packages (from torchmetrics) (24.1)\n",
            "Requirement already satisfied: torch>=1.10.0 in /usr/local/lib/python3.10/dist-packages (from torchmetrics) (2.3.1+cu121)\n",
            "Collecting lightning-utilities>=0.8.0 (from torchmetrics)\n",
            "  Downloading lightning_utilities-0.11.6-py3-none-any.whl.metadata (5.2 kB)\n",
            "Requirement already satisfied: setuptools in /usr/local/lib/python3.10/dist-packages (from lightning-utilities>=0.8.0->torchmetrics) (71.0.4)\n",
            "Requirement already satisfied: typing-extensions in /usr/local/lib/python3.10/dist-packages (from lightning-utilities>=0.8.0->torchmetrics) (4.12.2)\n",
            "Requirement already satisfied: filelock in /usr/local/lib/python3.10/dist-packages (from torch>=1.10.0->torchmetrics) (3.15.4)\n",
            "Requirement already satisfied: sympy in /usr/local/lib/python3.10/dist-packages (from torch>=1.10.0->torchmetrics) (1.13.1)\n",
            "Requirement already satisfied: networkx in /usr/local/lib/python3.10/dist-packages (from torch>=1.10.0->torchmetrics) (3.3)\n",
            "Requirement already satisfied: jinja2 in /usr/local/lib/python3.10/dist-packages (from torch>=1.10.0->torchmetrics) (3.1.4)\n",
            "Requirement already satisfied: fsspec in /usr/local/lib/python3.10/dist-packages (from torch>=1.10.0->torchmetrics) (2024.6.1)\n",
            "Collecting nvidia-cuda-nvrtc-cu12==12.1.105 (from torch>=1.10.0->torchmetrics)\n",
            "  Using cached nvidia_cuda_nvrtc_cu12-12.1.105-py3-none-manylinux1_x86_64.whl.metadata (1.5 kB)\n",
            "Collecting nvidia-cuda-runtime-cu12==12.1.105 (from torch>=1.10.0->torchmetrics)\n",
            "  Using cached nvidia_cuda_runtime_cu12-12.1.105-py3-none-manylinux1_x86_64.whl.metadata (1.5 kB)\n",
            "Collecting nvidia-cuda-cupti-cu12==12.1.105 (from torch>=1.10.0->torchmetrics)\n",
            "  Using cached nvidia_cuda_cupti_cu12-12.1.105-py3-none-manylinux1_x86_64.whl.metadata (1.6 kB)\n",
            "Collecting nvidia-cudnn-cu12==8.9.2.26 (from torch>=1.10.0->torchmetrics)\n",
            "  Using cached nvidia_cudnn_cu12-8.9.2.26-py3-none-manylinux1_x86_64.whl.metadata (1.6 kB)\n",
            "Collecting nvidia-cublas-cu12==12.1.3.1 (from torch>=1.10.0->torchmetrics)\n",
            "  Using cached nvidia_cublas_cu12-12.1.3.1-py3-none-manylinux1_x86_64.whl.metadata (1.5 kB)\n",
            "Collecting nvidia-cufft-cu12==11.0.2.54 (from torch>=1.10.0->torchmetrics)\n",
            "  Using cached nvidia_cufft_cu12-11.0.2.54-py3-none-manylinux1_x86_64.whl.metadata (1.5 kB)\n",
            "Collecting nvidia-curand-cu12==10.3.2.106 (from torch>=1.10.0->torchmetrics)\n",
            "  Using cached nvidia_curand_cu12-10.3.2.106-py3-none-manylinux1_x86_64.whl.metadata (1.5 kB)\n",
            "Collecting nvidia-cusolver-cu12==11.4.5.107 (from torch>=1.10.0->torchmetrics)\n",
            "  Using cached nvidia_cusolver_cu12-11.4.5.107-py3-none-manylinux1_x86_64.whl.metadata (1.6 kB)\n",
            "Collecting nvidia-cusparse-cu12==12.1.0.106 (from torch>=1.10.0->torchmetrics)\n",
            "  Using cached nvidia_cusparse_cu12-12.1.0.106-py3-none-manylinux1_x86_64.whl.metadata (1.6 kB)\n",
            "Collecting nvidia-nccl-cu12==2.20.5 (from torch>=1.10.0->torchmetrics)\n",
            "  Using cached nvidia_nccl_cu12-2.20.5-py3-none-manylinux2014_x86_64.whl.metadata (1.8 kB)\n",
            "Collecting nvidia-nvtx-cu12==12.1.105 (from torch>=1.10.0->torchmetrics)\n",
            "  Using cached nvidia_nvtx_cu12-12.1.105-py3-none-manylinux1_x86_64.whl.metadata (1.7 kB)\n",
            "Requirement already satisfied: triton==2.3.1 in /usr/local/lib/python3.10/dist-packages (from torch>=1.10.0->torchmetrics) (2.3.1)\n",
            "Collecting nvidia-nvjitlink-cu12 (from nvidia-cusolver-cu12==11.4.5.107->torch>=1.10.0->torchmetrics)\n",
            "  Downloading nvidia_nvjitlink_cu12-12.6.20-py3-none-manylinux2014_x86_64.whl.metadata (1.5 kB)\n",
            "Requirement already satisfied: MarkupSafe>=2.0 in /usr/local/lib/python3.10/dist-packages (from jinja2->torch>=1.10.0->torchmetrics) (2.1.5)\n",
            "Requirement already satisfied: mpmath<1.4,>=1.1.0 in /usr/local/lib/python3.10/dist-packages (from sympy->torch>=1.10.0->torchmetrics) (1.3.0)\n",
            "Downloading torchmetrics-1.4.1-py3-none-any.whl (866 kB)\n",
            "\u001b[2K   \u001b[90m━━━━━━━━━━━━━━━━━━━━━━━━━━━━━━━━━━━━━━━━\u001b[0m \u001b[32m866.2/866.2 kB\u001b[0m \u001b[31m5.7 MB/s\u001b[0m eta \u001b[36m0:00:00\u001b[0m\n",
            "\u001b[?25hDownloading lightning_utilities-0.11.6-py3-none-any.whl (26 kB)\n",
            "Using cached nvidia_cublas_cu12-12.1.3.1-py3-none-manylinux1_x86_64.whl (410.6 MB)\n",
            "Using cached nvidia_cuda_cupti_cu12-12.1.105-py3-none-manylinux1_x86_64.whl (14.1 MB)\n",
            "Using cached nvidia_cuda_nvrtc_cu12-12.1.105-py3-none-manylinux1_x86_64.whl (23.7 MB)\n",
            "Using cached nvidia_cuda_runtime_cu12-12.1.105-py3-none-manylinux1_x86_64.whl (823 kB)\n",
            "Using cached nvidia_cudnn_cu12-8.9.2.26-py3-none-manylinux1_x86_64.whl (731.7 MB)\n",
            "Using cached nvidia_cufft_cu12-11.0.2.54-py3-none-manylinux1_x86_64.whl (121.6 MB)\n",
            "Using cached nvidia_curand_cu12-10.3.2.106-py3-none-manylinux1_x86_64.whl (56.5 MB)\n",
            "Using cached nvidia_cusolver_cu12-11.4.5.107-py3-none-manylinux1_x86_64.whl (124.2 MB)\n",
            "Using cached nvidia_cusparse_cu12-12.1.0.106-py3-none-manylinux1_x86_64.whl (196.0 MB)\n",
            "Using cached nvidia_nccl_cu12-2.20.5-py3-none-manylinux2014_x86_64.whl (176.2 MB)\n",
            "Using cached nvidia_nvtx_cu12-12.1.105-py3-none-manylinux1_x86_64.whl (99 kB)\n",
            "Downloading nvidia_nvjitlink_cu12-12.6.20-py3-none-manylinux2014_x86_64.whl (19.7 MB)\n",
            "\u001b[2K   \u001b[90m━━━━━━━━━━━━━━━━━━━━━━━━━━━━━━━━━━━━━━━━\u001b[0m \u001b[32m19.7/19.7 MB\u001b[0m \u001b[31m21.7 MB/s\u001b[0m eta \u001b[36m0:00:00\u001b[0m\n",
            "\u001b[?25hInstalling collected packages: nvidia-nvtx-cu12, nvidia-nvjitlink-cu12, nvidia-nccl-cu12, nvidia-curand-cu12, nvidia-cufft-cu12, nvidia-cuda-runtime-cu12, nvidia-cuda-nvrtc-cu12, nvidia-cuda-cupti-cu12, nvidia-cublas-cu12, lightning-utilities, nvidia-cusparse-cu12, nvidia-cudnn-cu12, nvidia-cusolver-cu12, torchmetrics\n",
            "Successfully installed lightning-utilities-0.11.6 nvidia-cublas-cu12-12.1.3.1 nvidia-cuda-cupti-cu12-12.1.105 nvidia-cuda-nvrtc-cu12-12.1.105 nvidia-cuda-runtime-cu12-12.1.105 nvidia-cudnn-cu12-8.9.2.26 nvidia-cufft-cu12-11.0.2.54 nvidia-curand-cu12-10.3.2.106 nvidia-cusolver-cu12-11.4.5.107 nvidia-cusparse-cu12-12.1.0.106 nvidia-nccl-cu12-2.20.5 nvidia-nvjitlink-cu12-12.6.20 nvidia-nvtx-cu12-12.1.105 torchmetrics-1.4.1\n"
          ]
        }
      ]
    },
    {
      "cell_type": "code",
      "source": [
        "import torch\n",
        "from torch import nn\n",
        "from torch.autograd import Function\n",
        "import torch.nn.functional as F\n",
        "import torchmetrics\n",
        "import torchvision\n",
        "import torchvision.transforms as transforms\n",
        "from tqdm import tqdm\n",
        "import matplotlib.pyplot as plt\n",
        "import sys"
      ],
      "metadata": {
        "id": "h1YbnEU4E4U2"
      },
      "execution_count": 52,
      "outputs": []
    },
    {
      "cell_type": "code",
      "source": [
        "# Google Drive will get mounted automatically\n",
        "# Then, cd into that directory\n",
        "%cd /content/drive/MyDrive/1s2/Deep Learning/Deep Project/checkpoints"
      ],
      "metadata": {
        "colab": {
          "base_uri": "https://localhost:8080/"
        },
        "id": "XzvmTdRaHB-9",
        "outputId": "62f0eff5-a205-4ee0-ae0a-7f65507f68cd"
      },
      "execution_count": 3,
      "outputs": [
        {
          "output_type": "stream",
          "name": "stdout",
          "text": [
            "/content/drive/MyDrive/1s2/Deep Learning/Deep Project/checkpoints\n"
          ]
        }
      ]
    },
    {
      "cell_type": "code",
      "source": [
        "#@title Checkpoints filename\n",
        "teacher_model_checkpoint_filename = './256-sigmoid-big.pt'\n",
        "student_model_trained_encoder_checkpoint_filename = 'student_model_trained_encoder.pt'\n",
        "student_model_trained_enc_dec_checkpoint_filename = 'student_model_trained_enc_dec.pt'\n",
        "student_model_trained_full_checkpoint_filename = 'student_model_trained_full.pt'\n",
        "alone_student_model_checkpoint_filename = 'alone_student_model.pt'\n",
        "e2e_student_model_checkpoint_filename = 'e2e_student_model.pt'"
      ],
      "metadata": {
        "id": "T94ekDQIZy86"
      },
      "execution_count": 4,
      "outputs": []
    },
    {
      "cell_type": "code",
      "source": [
        "#@title Utility functions\n",
        "def print_params(model: nn.Module):\n",
        "    print('Trainable parameters:', sum(p.numel() for p in model.parameters() if p.requires_grad))\n",
        "    print('Frozen parameters:', sum(p.numel() for p in model.parameters() if not p.requires_grad))\n",
        "    print('Parameters type:', model.parameters().__next__().dtype)\n",
        "    print('Parameters device:', model.parameters().__next__().device)\n",
        "    print()\n",
        "\n",
        "\n",
        "# Function to initialize the weights of our network\n",
        "def weights_init(m):\n",
        "    className = m.__class__.__name__\n",
        "    if className.find('Conv') != -1:\n",
        "        try:\n",
        "            nn.init.xavier_uniform_(m.weight.data)\n",
        "            m.bias.data.fill_(0)\n",
        "        except AttributeError:\n",
        "            print(\"Skipping initialization of \", className)\n",
        "\n",
        "\n",
        "def print_outputs(outputs):\n",
        "  if type(outputs) is list or type(outputs) is tuple:\n",
        "    for i in outputs:\n",
        "      print_outputs(i)\n",
        "  elif type(outputs) is torch.Tensor:\n",
        "    print(outputs.dtype, outputs.shape)\n",
        "  else:\n",
        "    print(outputs)\n",
        "\n",
        "\n",
        "def plot_losses_history(losses_history):\n",
        "  train_losses, test_losses = zip(*losses_history)\n",
        "\n",
        "  plt.plot(train_losses, label='Training Loss')\n",
        "  plt.plot(test_losses, label='Test Loss')\n",
        "  plt.xlabel('Epoch')\n",
        "  plt.ylabel('Loss')\n",
        "  plt.legend()\n",
        "  plt.title('Training and Test Losses')\n",
        "  plt.show()\n",
        "\n",
        "\n",
        "def show_image(image, title=None):\n",
        "  image = image.cpu()\n",
        "\n",
        "  if len(image.shape) == 4:\n",
        "    image = image.squeeze()\n",
        "\n",
        "  plt.imshow(image, cmap='gray')\n",
        "\n",
        "  if title is not None:\n",
        "    plt.title(title)\n",
        "\n",
        "  plt.axis('off')\n",
        "\n",
        "\n",
        "def show_images(images):\n",
        "  plt.figure()\n",
        "  for i, image in enumerate(images):\n",
        "    plt.subplot(1, len(images), i + 1)\n",
        "    if type(image) is tuple:\n",
        "      image, title = image\n",
        "      show_image(image, title)\n",
        "    else:\n",
        "      show_image(image)\n",
        "  plt.show()\n",
        "\n",
        "\n",
        "def test_model(encoder_model, decoder_model, embeddings_model=None):\n",
        "  if embeddings_model is None:\n",
        "    embeddings_model = teacher_vq_vae\n",
        "\n",
        "  # Pick a random image from MNIST dataset\n",
        "  input_image, _ = testset[3]\n",
        "  input_image = input_image[None, ...].to(device)\n",
        "  input_image.dtype, input_image.shape\n",
        "\n",
        "  print('Using encoder:', encoder_model.__class__.__name__)\n",
        "  print('Using decoder:', decoder_model.__class__.__name__)\n",
        "\n",
        "  with torch.no_grad():\n",
        "    teacher_x_tilde, _, _ = teacher_vq_vae(input_image)\n",
        "\n",
        "    z_e_x = encoder_model.encoder(input_image)\n",
        "    codes = embeddings_model.codeBook(z_e_x)\n",
        "    latents = embeddings_model.codes_to_latents(codes)\n",
        "    student_x_tilde = decoder_model.decode_latents(latents)\n",
        "\n",
        "  show_images([\n",
        "      (input_image, 'Original image'),\n",
        "      (teacher_x_tilde, 'Teacher model'),\n",
        "      (student_x_tilde, 'Student model'),\n",
        "  ])\n",
        "\n",
        "  teacher_student_image_l2 = F.mse_loss(teacher_x_tilde, student_x_tilde)\n",
        "  print(f'L2 distance between teacher and student reconstructions: {teacher_student_image_l2:.4f}')"
      ],
      "metadata": {
        "id": "acG4jpStgsPQ",
        "cellView": "form"
      },
      "execution_count": 5,
      "outputs": []
    },
    {
      "cell_type": "markdown",
      "source": [
        "# Define teacher model"
      ],
      "metadata": {
        "id": "KLiORqLNEOZs"
      }
    },
    {
      "cell_type": "code",
      "source": [
        "# finding the z_e_q given x (by comparing with z_e_x)\n",
        "class VectorQuantization(Function):\n",
        "\n",
        "    @staticmethod\n",
        "    def forward(ctx, inputs, codeBook):\n",
        "        with torch.no_grad():\n",
        "            # assigning the dimension of our embedding\n",
        "            embedding_size = codeBook.size(1)\n",
        "\n",
        "            inputs_size = inputs.size()\n",
        "            # Flatten input\n",
        "            inputs_flatten = inputs.view(-1, embedding_size)\n",
        "\n",
        "            codeBook_sqr = torch.sum(codeBook ** 2, dim=1)\n",
        "            inputs_sqr = torch.sum(inputs_flatten ** 2, dim=1, keepdim=True)\n",
        "\n",
        "            # Compute the distances of the inputs to the codeBook\n",
        "            distances = torch.addmm(codeBook_sqr + inputs_sqr,\n",
        "                                    inputs_flatten, codeBook.t(), alpha=-2.0, beta=1.0)\n",
        "\n",
        "            _, indices_flatten = torch.min(distances, dim=1)\n",
        "            indices = indices_flatten.view(*inputs_size[:-1])\n",
        "            ctx.mark_non_differentiable(indices)\n",
        "\n",
        "            return indices\n",
        "\n",
        "    @staticmethod\n",
        "    def backward(ctx, grad_output):\n",
        "        raise RuntimeError('Trying to call `.grad()` on graph containing '\n",
        "                           '`VectorQuantization`. The function `VectorQuantization` '\n",
        "                           'is not differentiable. Use `VectorQuantizationStraightThrough` '\n",
        "                           'if you want a straight-through estimator of the gradient.')\n",
        "\n",
        "\n",
        "# Required to pass gradients received by z_e_q to z_e_x as torch.min function makes the back-propagation gradient\n",
        "# impossible\n",
        "class VectorQuantizationStraightThrough(Function):\n",
        "    @staticmethod\n",
        "    def forward(ctx, inputs, codeBook):\n",
        "\n",
        "        # evaluating the indices with the least distance between inputs and codeBook\n",
        "        indices = vq(inputs, codeBook)\n",
        "        indices_flatten = indices.view(-1)\n",
        "        # saving indices for backward pass\n",
        "        ctx.save_for_backward(indices_flatten, codeBook)\n",
        "        ctx.mark_non_differentiable(indices_flatten)\n",
        "        codes_flatten = torch.index_select(codeBook, dim=0,\n",
        "                                           index=indices_flatten)\n",
        "        # get embedding corresponding to the inputs\n",
        "        codes = codes_flatten.view_as(inputs)\n",
        "\n",
        "        return codes, indices_flatten\n",
        "\n",
        "    @staticmethod\n",
        "    def backward(ctx, grad_output, grad_indices):\n",
        "        grad_inputs, grad_codeBook = None, None\n",
        "\n",
        "        if ctx.needs_input_grad[0]:\n",
        "            # Straight-through estimator\n",
        "            grad_inputs = grad_output.clone()\n",
        "        if ctx.needs_input_grad[1]:\n",
        "            # Gradient with respect to the codeBook\n",
        "            indices, codeBook = ctx.saved_tensors\n",
        "            embedding_size = codeBook.size(1)\n",
        "\n",
        "            grad_output_flatten = (grad_output.contiguous()\n",
        "                                   .view(-1, embedding_size))\n",
        "\n",
        "            # for passing gradient backwards\n",
        "            grad_codeBook = torch.zeros_like(codeBook)\n",
        "            grad_codeBook.index_add_(0, indices, grad_output_flatten)\n",
        "\n",
        "        return grad_inputs, grad_codeBook\n",
        "\n",
        "\n",
        "vq = VectorQuantization.apply\n",
        "vq_st = VectorQuantizationStraightThrough.apply"
      ],
      "metadata": {
        "id": "vGcE6IRVEuMI"
      },
      "execution_count": 6,
      "outputs": []
    },
    {
      "cell_type": "code",
      "source": [
        "# Structure of the residual block\n",
        "\n",
        "class ResBlock(nn.Module):\n",
        "    def __init__(self, dim):\n",
        "        super().__init__()\n",
        "        self.block = nn.Sequential(\n",
        "            nn.LeakyReLU(),\n",
        "            nn.Conv2d(dim, dim, 3, 1, 1),\n",
        "            nn.BatchNorm2d(dim),\n",
        "            nn.LeakyReLU(),\n",
        "            nn.Conv2d(dim, dim, 1),\n",
        "            nn.BatchNorm2d(dim)\n",
        "        )\n",
        "\n",
        "    def forward(self, x):\n",
        "        return x + self.block(x)"
      ],
      "metadata": {
        "id": "Uq39dADfEweI"
      },
      "execution_count": 7,
      "outputs": []
    },
    {
      "cell_type": "code",
      "source": [
        "# Structure of the embedding layer\n",
        "class VQEmbedding(nn.Module):\n",
        "    def __init__(self, K, D):\n",
        "        super().__init__()\n",
        "        # creating the embedding\n",
        "        self.embedding = nn.Embedding(K, D)\n",
        "        # weights belong to a uniform distribution\n",
        "        self.embedding.weight.data.uniform_(-1. / K, 1. / K)\n",
        "\n",
        "    # z_e_x --> latent code for the input image\n",
        "    def forward(self, z_e_x):\n",
        "        # converting BCHW --> BHWC\n",
        "        z_e_x_ = z_e_x.permute(0, 2, 3, 1).contiguous()\n",
        "        # Retrieving the indices corresponding to the input\n",
        "        latents = vq(z_e_x_, self.embedding.weight)\n",
        "        return latents\n",
        "\n",
        "    # z_e_x --> latent code for the input image\n",
        "    def straight_through(self, z_e_x):\n",
        "        # converting BCHW --> BHWC\n",
        "        z_e_x_ = z_e_x.permute(0, 2, 3, 1).contiguous()\n",
        "\n",
        "        # z_q_x --> latent code from the embedding nearest to the input code\n",
        "        z_q_x_, indices = vq_st(z_e_x_, self.embedding.weight.detach())\n",
        "        z_q_x = z_q_x_.permute(0, 3, 1, 2).contiguous()\n",
        "\n",
        "        # z_q_x_bar --> backprop possible\n",
        "        z_q_x_bar_flatten = torch.index_select(self.embedding.weight,\n",
        "                                               dim=0, index=indices)\n",
        "        z_q_x_bar_ = z_q_x_bar_flatten.view_as(z_e_x_)\n",
        "        z_q_x_bar = z_q_x_bar_.permute(0, 3, 1, 2).contiguous()\n",
        "\n",
        "        # used for generating the image (decoding)\n",
        "        return z_q_x, z_q_x_bar"
      ],
      "metadata": {
        "id": "FmnQpwGsEyV5"
      },
      "execution_count": 8,
      "outputs": []
    },
    {
      "cell_type": "code",
      "source": [
        "# Architecture of VQ-VAE\n",
        "class VectorQuantizedVAE(nn.Module):\n",
        "    def __init__(self, input_dim, dim, K=512):\n",
        "        super().__init__()\n",
        "        self.encoder = nn.Sequential(\n",
        "            nn.Conv2d(input_dim, dim, 4, 2, 1),\n",
        "            nn.BatchNorm2d(dim),\n",
        "            nn.LeakyReLU(),\n",
        "            nn.Conv2d(dim, dim, 4, 2, 1),\n",
        "            ResBlock(dim),\n",
        "            ResBlock(dim),\n",
        "        )\n",
        "\n",
        "        self.codeBook = VQEmbedding(K, dim)\n",
        "\n",
        "        self.decoder = nn.Sequential(\n",
        "            ResBlock(dim),\n",
        "            ResBlock(dim),\n",
        "            nn.LeakyReLU(),\n",
        "            nn.ConvTranspose2d(dim, dim, 4, 2, 1),\n",
        "            nn.BatchNorm2d(dim),\n",
        "            nn.LeakyReLU(),\n",
        "            nn.ConvTranspose2d(dim, input_dim, 4, 2, 1),\n",
        "            nn.Sigmoid()\n",
        "        )\n",
        "\n",
        "        self.apply(weights_init)\n",
        "\n",
        "    def encode(self, x):\n",
        "        z_e_x = self.encoder(x)\n",
        "        codes = self.codeBook(z_e_x)\n",
        "        return codes\n",
        "\n",
        "    def decode(self, codes):\n",
        "        z_q_x = self.codeBook.embedding(codes).permute(0, 3, 1, 2)  # (B, C, H, W)\n",
        "        x_tilde = self.decoder(z_q_x)\n",
        "        return x_tilde\n",
        "\n",
        "    def codes_to_latents(self,codes):\n",
        "        return self.codeBook.embedding(codes).permute(0, 3, 1, 2)  # (B, C, H, W)\n",
        "\n",
        "    def decode_latents(self, z_q_x):\n",
        "        x_tilde = self.decoder(z_q_x)\n",
        "        return x_tilde\n",
        "\n",
        "    def forward(self, x):\n",
        "        z_e_x = self.encoder(x)\n",
        "        z_q_x_st, z_q_x = self.codeBook.straight_through(z_e_x)\n",
        "        x_tilde = self.decoder(z_q_x_st)\n",
        "        return x_tilde, z_e_x, z_q_x"
      ],
      "metadata": {
        "id": "bUq9dS5pEQYu"
      },
      "execution_count": 9,
      "outputs": []
    },
    {
      "cell_type": "code",
      "source": [
        "# Parameters from EvaluateSeparationConfig.vqvae\n",
        "input_dim, dim, K, device = 1, 128, 256, \"cuda\" if torch.cuda.is_available() else \"cpu\"\n",
        "print('Using device:', device)\n",
        "\n",
        "teacher_vq_vae = VectorQuantizedVAE(input_dim, dim, K).to(device)\n",
        "with open(teacher_model_checkpoint_filename, 'rb') as f:\n",
        "        teacher_vq_vae.load_state_dict(torch.load(f, map_location=device))\n",
        "\n",
        "print_params(teacher_vq_vae)"
      ],
      "metadata": {
        "colab": {
          "base_uri": "https://localhost:8080/"
        },
        "id": "r7v0Gst7FOGZ",
        "outputId": "ce006c8a-275f-4e0d-fac0-e331c37b7c82"
      },
      "execution_count": 10,
      "outputs": [
        {
          "output_type": "stream",
          "name": "stdout",
          "text": [
            "Using device: cuda\n",
            "Trainable parameters: 1220481\n",
            "Frozen parameters: 0\n",
            "Parameters type: torch.float32\n",
            "Parameters device: cuda:0\n",
            "\n"
          ]
        }
      ]
    },
    {
      "cell_type": "markdown",
      "source": [
        "# Define a smaller student model\n",
        "It still has to follow a similar architecture as the teacher model,\n",
        "but drastically reducing the number of parameters involved."
      ],
      "metadata": {
        "id": "9ZqWy5XTH3k4"
      }
    },
    {
      "cell_type": "code",
      "source": [
        "class DistilResBlock(nn.Module):\n",
        "    def __init__(self, dim):\n",
        "        super().__init__()\n",
        "        self.block = nn.Sequential(\n",
        "            nn.LeakyReLU(),\n",
        "            nn.Conv2d(dim, dim, 3, 1, 1),  # Since it is a resblock, dimensionality of the output of self.block MUST be the same as the input X\n",
        "            nn.BatchNorm2d(dim),\n",
        "            # nn.LeakyReLU(),\n",
        "            # nn.Conv2d(dim, dim, 1),\n",
        "            # nn.BatchNorm2d(dim)\n",
        "        )\n",
        "\n",
        "    def forward(self, x):\n",
        "        return x + self.block(x)"
      ],
      "metadata": {
        "id": "LitUAI-OIu1-"
      },
      "execution_count": 11,
      "outputs": []
    },
    {
      "cell_type": "code",
      "source": [
        "class DistilVectorQuantizedVAE(nn.Module):\n",
        "    def __init__(self, input_dim, _dim, K=512):\n",
        "        super().__init__()\n",
        "\n",
        "        kernel_size, stride, padding = 6, 4, 1  # Match the output size 28x28\n",
        "\n",
        "        self.encoder = nn.Sequential(\n",
        "            nn.Conv2d(input_dim, dim, kernel_size, stride, padding),\n",
        "            nn.BatchNorm2d(dim),\n",
        "            nn.LeakyReLU(),\n",
        "\n",
        "            # Use only 1 ResBlock instead of 2\n",
        "            DistilResBlock(dim),\n",
        "        )\n",
        "\n",
        "        # Still, keep K the same (determining the output shape)\n",
        "        self.codeBook = VQEmbedding(K, dim)\n",
        "\n",
        "        self.decoder = nn.Sequential(\n",
        "            # Use only 1 ResBlock instead of 2\n",
        "            DistilResBlock(dim),\n",
        "            nn.LeakyReLU(),\n",
        "\n",
        "            nn.ConvTranspose2d(dim, input_dim, kernel_size, stride, padding),\n",
        "            nn.Sigmoid()\n",
        "        )\n",
        "\n",
        "        self.apply(weights_init)\n",
        "\n",
        "    def encode(self, x):\n",
        "        z_e_x = self.encoder(x)\n",
        "        codes = self.codeBook(z_e_x)\n",
        "        return codes\n",
        "\n",
        "    def decode(self, codes):\n",
        "        z_q_x = self.codeBook.embedding(codes).permute(0, 3, 1, 2)  # (B, C, H, W)\n",
        "        x_tilde = self.decoder(z_q_x)\n",
        "        return x_tilde\n",
        "\n",
        "    def codes_to_latents(self,codes):\n",
        "        return self.codeBook.embedding(codes).permute(0, 3, 1, 2)  # (B, C, H, W)\n",
        "\n",
        "    def decode_latents(self, z_q_x):\n",
        "        x_tilde = self.decoder(z_q_x)\n",
        "        return x_tilde\n",
        "\n",
        "    def forward(self, x):\n",
        "        z_e_x = self.encoder(x)\n",
        "        z_q_x_st, z_q_x = self.codeBook.straight_through(z_e_x)\n",
        "        x_tilde = self.decoder(z_q_x_st)\n",
        "        return x_tilde, z_e_x, z_q_x"
      ],
      "metadata": {
        "id": "mc0vYpCxHdkt"
      },
      "execution_count": 12,
      "outputs": []
    },
    {
      "cell_type": "code",
      "source": [
        "student_model = DistilVectorQuantizedVAE(input_dim, dim, K).to(device)\n",
        "print_params(student_model)"
      ],
      "metadata": {
        "colab": {
          "base_uri": "https://localhost:8080/"
        },
        "id": "p38gf6YqKFiW",
        "outputId": "7e2fcb97-5d77-4d64-a0c9-48da20b2b83a"
      },
      "execution_count": null,
      "outputs": [
        {
          "output_type": "stream",
          "name": "stdout",
          "text": [
            "Trainable parameters: 338049\n",
            "Frozen parameters: 0\n",
            "Parameters type: torch.float32\n",
            "Parameters device: cuda:0\n",
            "\n"
          ]
        }
      ]
    },
    {
      "cell_type": "code",
      "source": [
        "student_model"
      ],
      "metadata": {
        "colab": {
          "base_uri": "https://localhost:8080/"
        },
        "id": "EuNatcfGS1iD",
        "outputId": "cfe696b1-98f2-43b4-ed67-de73c67556dc"
      },
      "execution_count": null,
      "outputs": [
        {
          "output_type": "execute_result",
          "data": {
            "text/plain": [
              "DistilVectorQuantizedVAE(\n",
              "  (encoder): Sequential(\n",
              "    (0): Conv2d(1, 128, kernel_size=(6, 6), stride=(4, 4), padding=(1, 1))\n",
              "    (1): BatchNorm2d(128, eps=1e-05, momentum=0.1, affine=True, track_running_stats=True)\n",
              "    (2): LeakyReLU(negative_slope=0.01)\n",
              "    (3): DistilResBlock(\n",
              "      (block): Sequential(\n",
              "        (0): LeakyReLU(negative_slope=0.01)\n",
              "        (1): Conv2d(128, 128, kernel_size=(3, 3), stride=(1, 1), padding=(1, 1))\n",
              "        (2): BatchNorm2d(128, eps=1e-05, momentum=0.1, affine=True, track_running_stats=True)\n",
              "      )\n",
              "    )\n",
              "  )\n",
              "  (codeBook): VQEmbedding(\n",
              "    (embedding): Embedding(256, 128)\n",
              "  )\n",
              "  (decoder): Sequential(\n",
              "    (0): DistilResBlock(\n",
              "      (block): Sequential(\n",
              "        (0): LeakyReLU(negative_slope=0.01)\n",
              "        (1): Conv2d(128, 128, kernel_size=(3, 3), stride=(1, 1), padding=(1, 1))\n",
              "        (2): BatchNorm2d(128, eps=1e-05, momentum=0.1, affine=True, track_running_stats=True)\n",
              "      )\n",
              "    )\n",
              "    (1): LeakyReLU(negative_slope=0.01)\n",
              "    (2): ConvTranspose2d(128, 1, kernel_size=(6, 6), stride=(4, 4), padding=(1, 1))\n",
              "    (3): Sigmoid()\n",
              "  )\n",
              ")"
            ]
          },
          "metadata": {},
          "execution_count": 14
        }
      ]
    },
    {
      "cell_type": "code",
      "source": [
        "teacher_vq_vae"
      ],
      "metadata": {
        "colab": {
          "base_uri": "https://localhost:8080/"
        },
        "id": "9L3h4pB3S1gT",
        "outputId": "2c05bc52-18be-4876-ea42-44d4b15c0c64"
      },
      "execution_count": null,
      "outputs": [
        {
          "output_type": "execute_result",
          "data": {
            "text/plain": [
              "VectorQuantizedVAE(\n",
              "  (encoder): Sequential(\n",
              "    (0): Conv2d(1, 128, kernel_size=(4, 4), stride=(2, 2), padding=(1, 1))\n",
              "    (1): BatchNorm2d(128, eps=1e-05, momentum=0.1, affine=True, track_running_stats=True)\n",
              "    (2): LeakyReLU(negative_slope=0.01)\n",
              "    (3): Conv2d(128, 128, kernel_size=(4, 4), stride=(2, 2), padding=(1, 1))\n",
              "    (4): ResBlock(\n",
              "      (block): Sequential(\n",
              "        (0): LeakyReLU(negative_slope=0.01)\n",
              "        (1): Conv2d(128, 128, kernel_size=(3, 3), stride=(1, 1), padding=(1, 1))\n",
              "        (2): BatchNorm2d(128, eps=1e-05, momentum=0.1, affine=True, track_running_stats=True)\n",
              "        (3): LeakyReLU(negative_slope=0.01)\n",
              "        (4): Conv2d(128, 128, kernel_size=(1, 1), stride=(1, 1))\n",
              "        (5): BatchNorm2d(128, eps=1e-05, momentum=0.1, affine=True, track_running_stats=True)\n",
              "      )\n",
              "    )\n",
              "    (5): ResBlock(\n",
              "      (block): Sequential(\n",
              "        (0): LeakyReLU(negative_slope=0.01)\n",
              "        (1): Conv2d(128, 128, kernel_size=(3, 3), stride=(1, 1), padding=(1, 1))\n",
              "        (2): BatchNorm2d(128, eps=1e-05, momentum=0.1, affine=True, track_running_stats=True)\n",
              "        (3): LeakyReLU(negative_slope=0.01)\n",
              "        (4): Conv2d(128, 128, kernel_size=(1, 1), stride=(1, 1))\n",
              "        (5): BatchNorm2d(128, eps=1e-05, momentum=0.1, affine=True, track_running_stats=True)\n",
              "      )\n",
              "    )\n",
              "  )\n",
              "  (codeBook): VQEmbedding(\n",
              "    (embedding): Embedding(256, 128)\n",
              "  )\n",
              "  (decoder): Sequential(\n",
              "    (0): ResBlock(\n",
              "      (block): Sequential(\n",
              "        (0): LeakyReLU(negative_slope=0.01)\n",
              "        (1): Conv2d(128, 128, kernel_size=(3, 3), stride=(1, 1), padding=(1, 1))\n",
              "        (2): BatchNorm2d(128, eps=1e-05, momentum=0.1, affine=True, track_running_stats=True)\n",
              "        (3): LeakyReLU(negative_slope=0.01)\n",
              "        (4): Conv2d(128, 128, kernel_size=(1, 1), stride=(1, 1))\n",
              "        (5): BatchNorm2d(128, eps=1e-05, momentum=0.1, affine=True, track_running_stats=True)\n",
              "      )\n",
              "    )\n",
              "    (1): ResBlock(\n",
              "      (block): Sequential(\n",
              "        (0): LeakyReLU(negative_slope=0.01)\n",
              "        (1): Conv2d(128, 128, kernel_size=(3, 3), stride=(1, 1), padding=(1, 1))\n",
              "        (2): BatchNorm2d(128, eps=1e-05, momentum=0.1, affine=True, track_running_stats=True)\n",
              "        (3): LeakyReLU(negative_slope=0.01)\n",
              "        (4): Conv2d(128, 128, kernel_size=(1, 1), stride=(1, 1))\n",
              "        (5): BatchNorm2d(128, eps=1e-05, momentum=0.1, affine=True, track_running_stats=True)\n",
              "      )\n",
              "    )\n",
              "    (2): LeakyReLU(negative_slope=0.01)\n",
              "    (3): ConvTranspose2d(128, 128, kernel_size=(4, 4), stride=(2, 2), padding=(1, 1))\n",
              "    (4): BatchNorm2d(128, eps=1e-05, momentum=0.1, affine=True, track_running_stats=True)\n",
              "    (5): LeakyReLU(negative_slope=0.01)\n",
              "    (6): ConvTranspose2d(128, 1, kernel_size=(4, 4), stride=(2, 2), padding=(1, 1))\n",
              "    (7): Sigmoid()\n",
              "  )\n",
              ")"
            ]
          },
          "metadata": {},
          "execution_count": 15
        }
      ]
    },
    {
      "cell_type": "markdown",
      "source": [
        "## Check the output size of the 2 models\n",
        "They must match, so that we can enforce the outputs logits similarity in the loss function"
      ],
      "metadata": {
        "id": "YOgppCfhhSl-"
      }
    },
    {
      "cell_type": "code",
      "source": [
        "# Do some sanity checks on the outputs dimensionality\n",
        "x = torch.rand((1, 1, 28, 28)).to(device)\n",
        "\n",
        "z_e_x = student_model.encoder(x)\n",
        "assert z_e_x.shape == (1, 128, 7, 7), f'Expected (1, 128, 7, 7), got {z_e_x.shape}'\n",
        "\n",
        "codes = student_model.codeBook(z_e_x)\n",
        "assert codes.shape == (1, 7, 7), f'Expected (1, 7, 7), got {codes.shape}'\n",
        "\n",
        "z_q_x = student_model.codeBook.embedding(codes).permute(0, 3, 1, 2)  # (B, C, H, W)\n",
        "assert z_q_x.shape == (1, 128, 7, 7), f'Expected (1, 128, 7, 7), got {z_q_x.shape}'\n",
        "\n",
        "x_tilde = student_model.decoder(z_q_x)\n",
        "assert x_tilde.shape == (1, 1, 28, 28), f'Expected (1, 1, 28, 28), got {x_tilde.shape}'"
      ],
      "metadata": {
        "id": "N3goi-v_N9TX"
      },
      "execution_count": null,
      "outputs": []
    },
    {
      "cell_type": "code",
      "source": [
        "teacher_model_params_no = sum(p.numel() for p in teacher_vq_vae.parameters())\n",
        "student_model_params_no = sum(p.numel() for p in student_model.parameters())\n",
        "f'Parameters reduced of approx. {(teacher_model_params_no - student_model_params_no)/teacher_model_params_no*100:.0f}%'"
      ],
      "metadata": {
        "colab": {
          "base_uri": "https://localhost:8080/",
          "height": 35
        },
        "id": "1S5gQcW5KQVZ",
        "outputId": "7b99b640-1c4c-4767-cc9b-52aa24782b4e"
      },
      "execution_count": null,
      "outputs": [
        {
          "output_type": "execute_result",
          "data": {
            "text/plain": [
              "'Parameters reduced of approx. 72%'"
            ],
            "application/vnd.google.colaboratory.intrinsic+json": {
              "type": "string"
            }
          },
          "metadata": {},
          "execution_count": 17
        }
      ]
    },
    {
      "cell_type": "code",
      "source": [
        "min_latent_code, max_latent_code = codes.min(), codes.max()\n",
        "assert min_latent_code >= 0, f'Expected min_latent_code >= 0, got {min_latent_code}'\n",
        "assert max_latent_code <= 255, f'Expected max_latent_code <= 255, got {max_latent_code}'\n",
        "f'For this random input batch, latent codes go from {min_latent_code.item()} to {max_latent_code.item()}. They are the indexes for the Embedding codebook!'"
      ],
      "metadata": {
        "colab": {
          "base_uri": "https://localhost:8080/",
          "height": 70
        },
        "id": "kGXY3AYaPVIN",
        "outputId": "4dcf9dfd-9736-4c0f-a2a4-5f9d3091ec2c"
      },
      "execution_count": null,
      "outputs": [
        {
          "output_type": "execute_result",
          "data": {
            "text/plain": [
              "'For this random input batch, latent codes go from 4 to 253. They are the indexes for the Embedding codebook!'"
            ],
            "application/vnd.google.colaboratory.intrinsic+json": {
              "type": "string"
            }
          },
          "metadata": {},
          "execution_count": 18
        }
      ]
    },
    {
      "cell_type": "markdown",
      "source": [
        "## Next steps overview (Student Encoder)\n",
        "Train the student model on the MNIST dataset, with a loss function that aims to minimize the L2-distance between the float32 logits of the teacher model, before the codebook.\n",
        "\n",
        "We decided not to add to the loss also the reconstruction loss: we just want to mimic the teacher model's latent code, which is what LASS is built upon.\n",
        "\n",
        "To train the student, use the same parameters as the teacher:\n",
        "- batch_size: 64\n",
        "- lr: 1e-4\n",
        "- torchvision.datasets.MNIST(train=True)\n",
        "\n",
        "Parameters obtained from *configs/vqvae_training/mnist.yaml*"
      ],
      "metadata": {
        "id": "eKxUts-GR9mG"
      }
    },
    {
      "cell_type": "markdown",
      "source": [
        "Understand `P` training code [here](https://github.com/simonesestito/latent-autoregressive-source-separation/blob/main/lass_mnist/lass/train_sums.py#L24)\n",
        "    \n",
        "    Images mixture: torch.Size([32, 1, 28, 28])\n",
        "    Z_e_x1: torch.Size([32, 128, 7, 7])\n",
        "    Z_e_x2: torch.Size([32, 128, 7, 7])\n",
        "    Z_e_x_mixture: torch.Size([32, 128, 7, 7])\n",
        "    Codes1: torch.Size([32, 7, 7])\n",
        "    Codes2: torch.Size([32, 7, 7])\n",
        "    Codes mixture: torch.Size([32, 7, 7])\n",
        "    Codes1: torch.Size([1568])\n",
        "    Codes2: torch.Size([1568])\n",
        "    Codes mixture: torch.Size([1568])\n",
        "    Sums: torch.Size([256, 256, 256])"
      ],
      "metadata": {
        "id": "5RVbXT9RYSUO"
      }
    },
    {
      "cell_type": "code",
      "source": [
        "sums = torch.rand((256, 256, 256))\n",
        "codes1 = torch.randint(0, 100, (1568,), dtype=torch.int64)\n",
        "codes2 = torch.randint_like(codes1, 0, 100)\n",
        "codes_mix = torch.randint_like(codes1, 0, 100)\n",
        "\n",
        "print_outputs(sums[codes1, codes2, codes_mix])  # Pick indexes [i, j, k] for i, j, k in zip(codes1, codes2, codes_mix)"
      ],
      "metadata": {
        "colab": {
          "base_uri": "https://localhost:8080/"
        },
        "id": "W7CDMbioRwdB",
        "outputId": "e902859d-4012-4d00-a08d-38cb4fbaa62d"
      },
      "execution_count": null,
      "outputs": [
        {
          "output_type": "stream",
          "name": "stdout",
          "text": [
            "torch.float32 torch.Size([1568])\n"
          ]
        }
      ]
    },
    {
      "cell_type": "code",
      "source": [
        "#@title Add Early Stopping in training\n",
        "class EarlyStopper:\n",
        "    def __init__(self, patience=1, min_delta=0):\n",
        "        self.patience = patience\n",
        "        self.min_delta = min_delta\n",
        "        self.counter = 0\n",
        "        self.min_validation_loss = float('inf')\n",
        "\n",
        "    def early_stop(self, validation_loss):\n",
        "        if validation_loss < self.min_validation_loss:\n",
        "            self.min_validation_loss = validation_loss\n",
        "            self.counter = 0\n",
        "        elif validation_loss > (self.min_validation_loss + self.min_delta):\n",
        "            self.counter += 1\n",
        "            if self.counter >= self.patience:\n",
        "                return True\n",
        "        return False"
      ],
      "metadata": {
        "id": "nGg000cDCPXQ"
      },
      "execution_count": 13,
      "outputs": []
    },
    {
      "cell_type": "code",
      "source": [
        "#@title Training parameters\n",
        "\n",
        "batch_size = 64\n",
        "num_epochs = 50  # Instead of 500\n",
        "lr = 1e-4\n",
        "\n",
        "# Load MNIST dataset\n",
        "transform = transforms.Compose([transforms.ToTensor()])\n",
        "\n",
        "!mkdir -p /content/mnist/data\n",
        "\n",
        "trainset = torchvision.datasets.MNIST(root='/content/mnist/data', train=True,\n",
        "                                        download=True, transform=transform)\n",
        "trainloader = torch.utils.data.DataLoader(trainset, batch_size=batch_size,\n",
        "                                          shuffle=True, num_workers=2)\n",
        "\n",
        "testset = torchvision.datasets.MNIST(root='/content/mnist/data', train=False,\n",
        "                                       download=True, transform=transform)\n",
        "testloader = torch.utils.data.DataLoader(testset, batch_size=batch_size,\n",
        "                                         shuffle=False, num_workers=2)"
      ],
      "metadata": {
        "id": "uWYQY9GOi4Je",
        "colab": {
          "base_uri": "https://localhost:8080/"
        },
        "outputId": "74f59789-7e61-4cb2-9b8b-9e1237e73a21"
      },
      "execution_count": 14,
      "outputs": [
        {
          "output_type": "stream",
          "name": "stdout",
          "text": [
            "Downloading http://yann.lecun.com/exdb/mnist/train-images-idx3-ubyte.gz\n",
            "Failed to download (trying next):\n",
            "HTTP Error 403: Forbidden\n",
            "\n",
            "Downloading https://ossci-datasets.s3.amazonaws.com/mnist/train-images-idx3-ubyte.gz\n",
            "Downloading https://ossci-datasets.s3.amazonaws.com/mnist/train-images-idx3-ubyte.gz to /content/mnist/data/MNIST/raw/train-images-idx3-ubyte.gz\n"
          ]
        },
        {
          "output_type": "stream",
          "name": "stderr",
          "text": [
            "100%|██████████| 9912422/9912422 [00:02<00:00, 4314910.45it/s]\n"
          ]
        },
        {
          "output_type": "stream",
          "name": "stdout",
          "text": [
            "Extracting /content/mnist/data/MNIST/raw/train-images-idx3-ubyte.gz to /content/mnist/data/MNIST/raw\n",
            "\n",
            "Downloading http://yann.lecun.com/exdb/mnist/train-labels-idx1-ubyte.gz\n",
            "Failed to download (trying next):\n",
            "HTTP Error 403: Forbidden\n",
            "\n",
            "Downloading https://ossci-datasets.s3.amazonaws.com/mnist/train-labels-idx1-ubyte.gz\n",
            "Downloading https://ossci-datasets.s3.amazonaws.com/mnist/train-labels-idx1-ubyte.gz to /content/mnist/data/MNIST/raw/train-labels-idx1-ubyte.gz\n"
          ]
        },
        {
          "output_type": "stream",
          "name": "stderr",
          "text": [
            "100%|██████████| 28881/28881 [00:00<00:00, 55428.26it/s]\n"
          ]
        },
        {
          "output_type": "stream",
          "name": "stdout",
          "text": [
            "Extracting /content/mnist/data/MNIST/raw/train-labels-idx1-ubyte.gz to /content/mnist/data/MNIST/raw\n",
            "\n",
            "Downloading http://yann.lecun.com/exdb/mnist/t10k-images-idx3-ubyte.gz\n",
            "Failed to download (trying next):\n",
            "HTTP Error 403: Forbidden\n",
            "\n",
            "Downloading https://ossci-datasets.s3.amazonaws.com/mnist/t10k-images-idx3-ubyte.gz\n",
            "Downloading https://ossci-datasets.s3.amazonaws.com/mnist/t10k-images-idx3-ubyte.gz to /content/mnist/data/MNIST/raw/t10k-images-idx3-ubyte.gz\n"
          ]
        },
        {
          "output_type": "stream",
          "name": "stderr",
          "text": [
            "100%|██████████| 1648877/1648877 [00:06<00:00, 271966.89it/s]\n"
          ]
        },
        {
          "output_type": "stream",
          "name": "stdout",
          "text": [
            "Extracting /content/mnist/data/MNIST/raw/t10k-images-idx3-ubyte.gz to /content/mnist/data/MNIST/raw\n",
            "\n",
            "Downloading http://yann.lecun.com/exdb/mnist/t10k-labels-idx1-ubyte.gz\n",
            "Failed to download (trying next):\n",
            "HTTP Error 403: Forbidden\n",
            "\n",
            "Downloading https://ossci-datasets.s3.amazonaws.com/mnist/t10k-labels-idx1-ubyte.gz\n",
            "Downloading https://ossci-datasets.s3.amazonaws.com/mnist/t10k-labels-idx1-ubyte.gz to /content/mnist/data/MNIST/raw/t10k-labels-idx1-ubyte.gz\n"
          ]
        },
        {
          "output_type": "stream",
          "name": "stderr",
          "text": [
            "100%|██████████| 4542/4542 [00:00<00:00, 10297583.12it/s]\n"
          ]
        },
        {
          "output_type": "stream",
          "name": "stdout",
          "text": [
            "Extracting /content/mnist/data/MNIST/raw/t10k-labels-idx1-ubyte.gz to /content/mnist/data/MNIST/raw\n",
            "\n"
          ]
        }
      ]
    },
    {
      "cell_type": "code",
      "source": [
        "#@title Student model training loop\n",
        "student_model = DistilVectorQuantizedVAE(input_dim, dim, K).to(device)\n",
        "\n",
        "# Train the student model, but freeze the teacher model\n",
        "student_model.train()\n",
        "teacher_vq_vae.eval()\n",
        "\n",
        "optimizer = torch.optim.Adam(student_model.encoder.parameters(), lr=lr)\n",
        "early_stopper = EarlyStopper(patience=3, min_delta=0.001)\n",
        "\n",
        "losses_history = []\n",
        "\n",
        "\n",
        "def loop_forward_pass(inputs_batch):\n",
        "  inputs_batch = inputs_batch.to(device)\n",
        "\n",
        "  with torch.no_grad():\n",
        "    teacher_z_e_x_mixture = teacher_vq_vae.encoder(inputs_batch)\n",
        "  assert teacher_z_e_x_mixture.grad is None\n",
        "\n",
        "  student_z_e_x_mixture = student_model.encoder(inputs_batch)\n",
        "\n",
        "  # Calculate the loss as stated before\n",
        "  return F.mse_loss(student_z_e_x_mixture, teacher_z_e_x_mixture)\n",
        "\n",
        "\n",
        "for epoch in tqdm(range(num_epochs), file=sys.stdout):\n",
        "  train_loss, test_loss = 0.0, 0.0\n",
        "\n",
        "  # Training loop\n",
        "  for i, (inputs_batch, _) in enumerate(trainloader):\n",
        "    # Calculate the loss as stated before\n",
        "    loss = loop_forward_pass(inputs_batch)\n",
        "\n",
        "    optimizer.zero_grad()\n",
        "    loss.backward()\n",
        "    optimizer.step()\n",
        "\n",
        "    train_loss += loss.item()\n",
        "\n",
        "  train_loss /= len(trainloader)\n",
        "\n",
        "  # Measure how's going with test data\n",
        "  with torch.no_grad():\n",
        "    for i, (inputs_batch, _) in enumerate(testloader):\n",
        "      test_loss += loop_forward_pass(inputs_batch).item()\n",
        "\n",
        "  test_loss /= len(testloader)\n",
        "\n",
        "  losses_history.append((train_loss, test_loss))\n",
        "\n",
        "  print(f'\\rEpoch {epoch + 1}, Training Loss: {train_loss:.5f}, Test Loss: {test_loss:.5f}', flush=True)\n",
        "\n",
        "  # Early stopping\n",
        "  if early_stopper.early_stop(test_loss):\n",
        "    print(\"Early stopping triggered\")\n",
        "    break\n",
        "\n",
        "print('Finished Training')"
      ],
      "metadata": {
        "colab": {
          "base_uri": "https://localhost:8080/"
        },
        "id": "CoC79Miua3uK",
        "outputId": "7d26bc69-0bb6-4790-c7a6-12f1c0344fcf"
      },
      "execution_count": null,
      "outputs": [
        {
          "output_type": "stream",
          "name": "stdout",
          "text": [
            "Epoch 1, Training Loss: 0.36399, Test Loss: 0.25525\n",
            "Epoch 2, Training Loss: 0.20685, Test Loss: 0.16399\n",
            "Epoch 3, Training Loss: 0.12410, Test Loss: 0.09769\n",
            "Epoch 4, Training Loss: 0.08233, Test Loss: 0.07473\n",
            "Epoch 5, Training Loss: 0.06613, Test Loss: 0.06296\n",
            "Epoch 6, Training Loss: 0.05604, Test Loss: 0.05430\n",
            "Epoch 7, Training Loss: 0.04792, Test Loss: 0.04721\n",
            "Epoch 8, Training Loss: 0.04169, Test Loss: 0.04206\n",
            "Epoch 9, Training Loss: 0.03759, Test Loss: 0.03917\n",
            "Epoch 10, Training Loss: 0.03555, Test Loss: 0.03782\n",
            "Epoch 11, Training Loss: 0.03436, Test Loss: 0.03685\n",
            "Epoch 12, Training Loss: 0.03351, Test Loss: 0.03614\n",
            "Epoch 13, Training Loss: 0.03305, Test Loss: 0.03599\n",
            "Epoch 14, Training Loss: 0.03272, Test Loss: 0.03565\n",
            "Epoch 15, Training Loss: 0.03250, Test Loss: 0.03547\n",
            "Epoch 16, Training Loss: 0.03232, Test Loss: 0.03540\n",
            "Epoch 17, Training Loss: 0.03218, Test Loss: 0.03532\n",
            "Epoch 18, Training Loss: 0.03200, Test Loss: 0.03497\n",
            "Epoch 19, Training Loss: 0.03191, Test Loss: 0.03490\n",
            "Epoch 20, Training Loss: 0.03179, Test Loss: 0.03475\n",
            "Epoch 21, Training Loss: 0.03171, Test Loss: 0.03466\n",
            "Epoch 22, Training Loss: 0.03168, Test Loss: 0.03453\n",
            "Epoch 23, Training Loss: 0.03156, Test Loss: 0.03452\n",
            "Epoch 24, Training Loss: 0.03143, Test Loss: 0.03456\n",
            "Epoch 25, Training Loss: 0.03126, Test Loss: 0.03437\n",
            "Epoch 26, Training Loss: 0.03120, Test Loss: 0.03421\n",
            "Epoch 27, Training Loss: 0.03116, Test Loss: 0.03425\n",
            "Epoch 28, Training Loss: 0.03112, Test Loss: 0.03404\n",
            "Epoch 29, Training Loss: 0.03104, Test Loss: 0.03389\n",
            "Epoch 30, Training Loss: 0.03088, Test Loss: 0.03399\n",
            "Epoch 31, Training Loss: 0.03079, Test Loss: 0.03387\n",
            "Epoch 32, Training Loss: 0.03082, Test Loss: 0.03389\n",
            "Epoch 33, Training Loss: 0.03080, Test Loss: 0.03364\n",
            "Epoch 34, Training Loss: 0.03061, Test Loss: 0.03351\n",
            "Epoch 35, Training Loss: 0.03059, Test Loss: 0.03351\n",
            "Epoch 36, Training Loss: 0.03047, Test Loss: 0.03350\n",
            "Epoch 37, Training Loss: 0.03047, Test Loss: 0.03331\n",
            "Epoch 38, Training Loss: 0.03046, Test Loss: 0.03331\n",
            "Epoch 39, Training Loss: 0.03034, Test Loss: 0.03326\n",
            "Epoch 40, Training Loss: 0.03026, Test Loss: 0.03324\n",
            "Epoch 41, Training Loss: 0.03025, Test Loss: 0.03343\n",
            "Epoch 42, Training Loss: 0.03018, Test Loss: 0.03310\n",
            "Epoch 43, Training Loss: 0.03003, Test Loss: 0.03292\n",
            "Epoch 44, Training Loss: 0.02997, Test Loss: 0.03295\n",
            "Epoch 45, Training Loss: 0.03002, Test Loss: 0.03278\n",
            "Epoch 46, Training Loss: 0.02994, Test Loss: 0.03272\n",
            "Epoch 47, Training Loss: 0.02982, Test Loss: 0.03279\n",
            "Epoch 48, Training Loss: 0.02979, Test Loss: 0.03264\n",
            "Epoch 49, Training Loss: 0.02974, Test Loss: 0.03263\n",
            "Epoch 50, Training Loss: 0.02968, Test Loss: 0.03262\n",
            "100%|██████████| 50/50 [10:30<00:00, 12.61s/it]\n",
            "Finished Training\n"
          ]
        }
      ]
    },
    {
      "cell_type": "code",
      "source": [
        "plot_losses_history(losses_history)"
      ],
      "metadata": {
        "colab": {
          "base_uri": "https://localhost:8080/",
          "height": 273
        },
        "id": "b_a39dvwfYLZ",
        "outputId": "36a45570-2381-49df-acae-823faefcac7a"
      },
      "execution_count": null,
      "outputs": [
        {
          "output_type": "display_data",
          "data": {
            "text/plain": [
              "<Figure size 640x480 with 1 Axes>"
            ],
            "image/png": "[encoded data removed]"
          },
          "metadata": {}
        }
      ]
    },
    {
      "cell_type": "code",
      "source": [
        "torch.save(student_model.state_dict(), student_model_trained_encoder_checkpoint_filename)"
      ],
      "metadata": {
        "id": "ji7qCJzjV7k_"
      },
      "execution_count": null,
      "outputs": []
    },
    {
      "cell_type": "markdown",
      "source": [
        "## Test the reconstruction replacing only the Encoder\n",
        "Reconstruct the image using the teacher pre-trained model, but with the student Encoder"
      ],
      "metadata": {
        "id": "dLbFnG1PFqHJ"
      }
    },
    {
      "cell_type": "code",
      "source": [
        "test_model(encoder_model=student_model, decoder_model=teacher_vq_vae)"
      ],
      "metadata": {
        "colab": {
          "base_uri": "https://localhost:8080/",
          "height": 207
        },
        "id": "qSCzJEaZGqS6",
        "outputId": "9e58bc84-228e-4836-8bc7-734836724aff"
      },
      "execution_count": null,
      "outputs": [
        {
          "output_type": "stream",
          "name": "stdout",
          "text": [
            "Using encoder: DistilVectorQuantizedVAE\n",
            "Using decoder: VectorQuantizedVAE\n"
          ]
        },
        {
          "output_type": "display_data",
          "data": {
            "text/plain": [
              "<Figure size 640x480 with 3 Axes>"
            ],
            "image/png": "[encoded data removed]"
          },
          "metadata": {}
        },
        {
          "output_type": "stream",
          "name": "stdout",
          "text": [
            "L2 distance between teacher and student reconstructions: 0.0094\n"
          ]
        }
      ]
    },
    {
      "cell_type": "markdown",
      "source": [
        "## Train the student decoder\n",
        "Repeat what we did with the Encoder, this time with the Decoder.\n",
        "\n",
        "For now, the codebook will stay the same"
      ],
      "metadata": {
        "id": "rkSnWBpxL5xv"
      }
    },
    {
      "cell_type": "code",
      "source": [
        "# Restore the saved model\n",
        "student_model = DistilVectorQuantizedVAE(input_dim, dim, K).to(device)\n",
        "with open(student_model_trained_encoder_checkpoint_filename, 'rb') as f:\n",
        "  student_model.load_state_dict(torch.load(f, map_location=device))\n",
        "student_model.train()\n",
        "teacher_vq_vae.eval()\n",
        "\n",
        "student_model.decoder.apply(weights_init)\n",
        "\n",
        "optimizer = torch.optim.Adam(student_model.decoder.parameters(), lr=lr)\n",
        "early_stopper = EarlyStopper(patience=3, min_delta=0.001)\n",
        "\n",
        "losses_history = []\n",
        "\n",
        "\n",
        "def loop_forward_pass(inputs_batch):\n",
        "  inputs_batch = inputs_batch.to(device)\n",
        "\n",
        "  with torch.no_grad():\n",
        "    z_e_x = teacher_vq_vae.encoder(inputs_batch)\n",
        "    codes = teacher_vq_vae.codeBook(z_e_x)\n",
        "    latents = teacher_vq_vae.codes_to_latents(codes)\n",
        "    teacher_x_tilde = teacher_vq_vae.decode_latents(latents)\n",
        "\n",
        "  student_x_tilde = student_model.decoder(latents)\n",
        "\n",
        "  # Calculate the loss on the reconstructed image\n",
        "  return F.mse_loss(student_x_tilde, teacher_x_tilde)\n",
        "\n",
        "\n",
        "for epoch in tqdm(range(num_epochs), file=sys.stdout):\n",
        "  train_loss, test_loss = 0.0, 0.0\n",
        "\n",
        "  # Training loop\n",
        "  for i, (inputs_batch, _) in enumerate(trainloader):\n",
        "    # Calculate the loss as stated before\n",
        "    loss = loop_forward_pass(inputs_batch)\n",
        "\n",
        "    optimizer.zero_grad()\n",
        "    loss.backward()\n",
        "    optimizer.step()\n",
        "\n",
        "    train_loss += loss.item()\n",
        "\n",
        "  train_loss /= len(trainloader)\n",
        "\n",
        "  # Measure how's going with test data\n",
        "  with torch.no_grad():\n",
        "    for i, (inputs_batch, _) in enumerate(testloader):\n",
        "      test_loss += loop_forward_pass(inputs_batch).item()\n",
        "\n",
        "  test_loss /= len(testloader)\n",
        "\n",
        "  losses_history.append((train_loss, test_loss))\n",
        "\n",
        "  print(f'\\rEpoch {epoch + 1}, Training Loss: {train_loss:.5f}, Test Loss: {test_loss:.5f}', flush=True)\n",
        "\n",
        "  # Early stopping\n",
        "  if early_stopper.early_stop(test_loss):\n",
        "    print(\"Early stopping triggered\")\n",
        "    break\n",
        "\n",
        "print('Finished Training')"
      ],
      "metadata": {
        "colab": {
          "base_uri": "https://localhost:8080/"
        },
        "id": "XHLO4QuWMDP9",
        "outputId": "0083d2ff-f990-4e5b-d366-9776c36b54d3"
      },
      "execution_count": null,
      "outputs": [
        {
          "output_type": "stream",
          "name": "stdout",
          "text": [
            "Epoch 1, Training Loss: 0.03794, Test Loss: 0.01076\n",
            "Epoch 2, Training Loss: 0.00742, Test Loss: 0.00539\n",
            "Epoch 3, Training Loss: 0.00443, Test Loss: 0.00375\n",
            "Epoch 4, Training Loss: 0.00330, Test Loss: 0.00301\n",
            "Epoch 5, Training Loss: 0.00273, Test Loss: 0.00259\n",
            "Epoch 6, Training Loss: 0.00239, Test Loss: 0.00233\n",
            "Epoch 7, Training Loss: 0.00217, Test Loss: 0.00219\n",
            "Epoch 8, Training Loss: 0.00201, Test Loss: 0.00202\n",
            "Epoch 9, Training Loss: 0.00190, Test Loss: 0.00194\n",
            "Epoch 10, Training Loss: 0.00181, Test Loss: 0.00187\n",
            "Epoch 11, Training Loss: 0.00174, Test Loss: 0.00179\n",
            "Epoch 12, Training Loss: 0.00170, Test Loss: 0.00174\n",
            "Epoch 13, Training Loss: 0.00166, Test Loss: 0.00173\n",
            "Epoch 14, Training Loss: 0.00162, Test Loss: 0.00166\n",
            "Epoch 15, Training Loss: 0.00158, Test Loss: 0.00163\n",
            "Epoch 16, Training Loss: 0.00156, Test Loss: 0.00160\n",
            "Epoch 17, Training Loss: 0.00154, Test Loss: 0.00157\n",
            "Epoch 18, Training Loss: 0.00152, Test Loss: 0.00156\n",
            "Epoch 19, Training Loss: 0.00150, Test Loss: 0.00154\n",
            "Epoch 20, Training Loss: 0.00149, Test Loss: 0.00153\n",
            "Epoch 21, Training Loss: 0.00147, Test Loss: 0.00153\n",
            "Epoch 22, Training Loss: 0.00146, Test Loss: 0.00149\n",
            "Epoch 23, Training Loss: 0.00145, Test Loss: 0.00150\n",
            "Epoch 24, Training Loss: 0.00144, Test Loss: 0.00147\n",
            "Epoch 25, Training Loss: 0.00143, Test Loss: 0.00146\n",
            "Epoch 26, Training Loss: 0.00142, Test Loss: 0.00146\n",
            "Epoch 27, Training Loss: 0.00142, Test Loss: 0.00147\n",
            "Epoch 28, Training Loss: 0.00141, Test Loss: 0.00144\n",
            "Epoch 29, Training Loss: 0.00140, Test Loss: 0.00143\n",
            "Epoch 30, Training Loss: 0.00140, Test Loss: 0.00144\n",
            "Epoch 31, Training Loss: 0.00139, Test Loss: 0.00143\n",
            "Epoch 32, Training Loss: 0.00138, Test Loss: 0.00142\n",
            "Epoch 33, Training Loss: 0.00138, Test Loss: 0.00141\n",
            "Epoch 34, Training Loss: 0.00138, Test Loss: 0.00140\n",
            "Epoch 35, Training Loss: 0.00137, Test Loss: 0.00140\n",
            "Epoch 36, Training Loss: 0.00137, Test Loss: 0.00139\n",
            "Epoch 37, Training Loss: 0.00136, Test Loss: 0.00140\n",
            "Epoch 38, Training Loss: 0.00136, Test Loss: 0.00138\n",
            "Epoch 39, Training Loss: 0.00136, Test Loss: 0.00139\n",
            "Epoch 40, Training Loss: 0.00135, Test Loss: 0.00138\n",
            "Epoch 41, Training Loss: 0.00135, Test Loss: 0.00138\n",
            "Epoch 42, Training Loss: 0.00135, Test Loss: 0.00138\n",
            "Epoch 43, Training Loss: 0.00134, Test Loss: 0.00137\n",
            "Epoch 44, Training Loss: 0.00134, Test Loss: 0.00136\n",
            "Epoch 45, Training Loss: 0.00134, Test Loss: 0.00136\n",
            "Epoch 46, Training Loss: 0.00133, Test Loss: 0.00136\n",
            "Epoch 47, Training Loss: 0.00133, Test Loss: 0.00136\n",
            "Epoch 48, Training Loss: 0.00133, Test Loss: 0.00135\n",
            "Epoch 49, Training Loss: 0.00133, Test Loss: 0.00135\n",
            "Epoch 50, Training Loss: 0.00133, Test Loss: 0.00135\n",
            "100%|██████████| 50/50 [11:39<00:00, 13.99s/it]\n",
            "Finished Training\n"
          ]
        }
      ]
    },
    {
      "cell_type": "code",
      "source": [
        "plot_losses_history(losses_history)"
      ],
      "metadata": {
        "colab": {
          "base_uri": "https://localhost:8080/",
          "height": 472
        },
        "id": "7rQ6rp-upiUz",
        "outputId": "743b3b99-44b9-4143-e5ac-59ef48c31594"
      },
      "execution_count": null,
      "outputs": [
        {
          "output_type": "display_data",
          "data": {
            "text/plain": [
              "<Figure size 640x480 with 1 Axes>"
            ],
            "image/png": "[encoded data removed]"
          },
          "metadata": {}
        }
      ]
    },
    {
      "cell_type": "code",
      "source": [
        "torch.save(student_model.state_dict(), student_model_trained_enc_dec_checkpoint_filename)"
      ],
      "metadata": {
        "id": "UpSMJkJRfFO8"
      },
      "execution_count": null,
      "outputs": []
    },
    {
      "cell_type": "markdown",
      "source": [
        "## Test both encoder and decoder from the Student model\n"
      ],
      "metadata": {
        "id": "5jcmLdBgiMGO"
      }
    },
    {
      "cell_type": "code",
      "source": [
        "test_model(encoder_model=student_model, decoder_model=student_model)"
      ],
      "metadata": {
        "colab": {
          "base_uri": "https://localhost:8080/",
          "height": 260
        },
        "id": "nSTKAzbLp261",
        "outputId": "6c4b0802-b09e-4100-d1ff-3f6a36adfce0"
      },
      "execution_count": null,
      "outputs": [
        {
          "output_type": "stream",
          "name": "stdout",
          "text": [
            "Using encoder: DistilVectorQuantizedVAE\n",
            "Using decoder: DistilVectorQuantizedVAE\n"
          ]
        },
        {
          "output_type": "display_data",
          "data": {
            "text/plain": [
              "<Figure size 640x480 with 3 Axes>"
            ],
            "image/png": "[encoded data removed]"
          },
          "metadata": {}
        },
        {
          "output_type": "stream",
          "name": "stdout",
          "text": [
            "L2 distance between teacher and student reconstructions: 0.0088\n"
          ]
        }
      ]
    },
    {
      "cell_type": "markdown",
      "source": [
        "## Benchmark the performance improvement"
      ],
      "metadata": {
        "id": "38YEr8gYKiiN"
      }
    },
    {
      "cell_type": "code",
      "source": [
        "benchmark_batch_size = 128  #@param{type: 'integer', min: 1}\n",
        "benchmark_device = 'cpu'\n",
        "\n",
        "print('Benchmark on', benchmark_device)\n",
        "print('Using', benchmark_batch_size, 'items')\n",
        "\n",
        "# Load test images\n",
        "input_images = testset.data[:benchmark_batch_size]\n",
        "input_images = input_images.unsqueeze(1).float() / 255.0\n",
        "input_images = input_images.to(benchmark_device)\n",
        "print(input_images.dtype, input_images.shape, input_images.device)\n",
        "\n",
        "# Run the benchmark!\n",
        "@torch.no_grad()\n",
        "def _benchmark_model(model, measure_end_to_end=False):\n",
        "  z_e_x = model.encoder(input_images)\n",
        "  # Always use the teacher model for the codebook\n",
        "  codes = teacher_vq_vae.codeBook(z_e_x)\n",
        "  latents = teacher_vq_vae.codes_to_latents(codes)\n",
        "  student_x_tilde = model.decode_latents(latents)\n",
        "  return student_x_tilde[0, 0, 0, 0]\n",
        "\n",
        "# Move the models on the CPU\n",
        "student_model = student_model.to(benchmark_device)\n",
        "teacher_vq_vae = teacher_vq_vae.to(benchmark_device)"
      ],
      "metadata": {
        "colab": {
          "base_uri": "https://localhost:8080/"
        },
        "id": "xnI-LMfpIlIl",
        "outputId": "3ee07a33-4469-4b25-90e0-1d98e211c82c"
      },
      "execution_count": null,
      "outputs": [
        {
          "output_type": "stream",
          "name": "stdout",
          "text": [
            "Benchmark on cpu\n",
            "Using 128 items\n",
            "torch.float32 torch.Size([128, 1, 28, 28]) cpu\n"
          ]
        }
      ]
    },
    {
      "cell_type": "code",
      "source": [
        "print('Benchmark of teacher encoder only')\n",
        "%timeit _benchmark_model(teacher_vq_vae, measure_end_to_end=False)"
      ],
      "metadata": {
        "colab": {
          "base_uri": "https://localhost:8080/"
        },
        "id": "oEWGc03QKoz7",
        "outputId": "70549e36-28fa-4fb5-d94b-3429fabd8fab"
      },
      "execution_count": null,
      "outputs": [
        {
          "output_type": "stream",
          "name": "stdout",
          "text": [
            "Benchmark of teacher encoder only\n",
            "323 ms ± 9.21 ms per loop (mean ± std. dev. of 7 runs, 1 loop each)\n"
          ]
        }
      ]
    },
    {
      "cell_type": "code",
      "source": [
        "print('Benchmark of student encoder only')\n",
        "%timeit _benchmark_model(student_model, measure_end_to_end=False)"
      ],
      "metadata": {
        "colab": {
          "base_uri": "https://localhost:8080/"
        },
        "id": "ozR1f4AIKotm",
        "outputId": "ab2e6ad0-e40c-4285-ea3f-67336c702c59"
      },
      "execution_count": null,
      "outputs": [
        {
          "output_type": "stream",
          "name": "stdout",
          "text": [
            "Benchmark of student encoder only\n",
            "86.3 ms ± 19.7 ms per loop (mean ± std. dev. of 7 runs, 10 loops each)\n"
          ]
        }
      ]
    },
    {
      "cell_type": "code",
      "source": [
        "print('Benchmark of teacher VQ-VAE end-to-end')\n",
        "%timeit _benchmark_model(teacher_vq_vae, measure_end_to_end=True)"
      ],
      "metadata": {
        "colab": {
          "base_uri": "https://localhost:8080/"
        },
        "id": "iAe6RTkiKonf",
        "outputId": "6ba7a662-56ab-4ccb-85c2-03b007cc840e"
      },
      "execution_count": null,
      "outputs": [
        {
          "output_type": "stream",
          "name": "stdout",
          "text": [
            "Benchmark of teacher VQ-VAE end-to-end\n",
            "309 ms ± 4.93 ms per loop (mean ± std. dev. of 7 runs, 1 loop each)\n"
          ]
        }
      ]
    },
    {
      "cell_type": "code",
      "source": [
        "print('Benchmark of student VQ-VAE end-to-end, using the teacher decoder')\n",
        "%timeit _benchmark_model(student_model, measure_end_to_end=True)"
      ],
      "metadata": {
        "colab": {
          "base_uri": "https://localhost:8080/"
        },
        "id": "CGG2KDe6Kof-",
        "outputId": "d03b8151-94a7-4057-f87e-e300ad3c527c"
      },
      "execution_count": null,
      "outputs": [
        {
          "output_type": "stream",
          "name": "stdout",
          "text": [
            "Benchmark of student VQ-VAE end-to-end, using the teacher decoder\n",
            "93.3 ms ± 19.7 ms per loop (mean ± std. dev. of 7 runs, 10 loops each)\n"
          ]
        }
      ]
    },
    {
      "cell_type": "code",
      "source": [
        "# Restore everything on the standard device (presumably a CUDA GPU)\n",
        "student_model = student_model.to(device)\n",
        "teacher_vq_vae = teacher_vq_vae.to(device)"
      ],
      "metadata": {
        "id": "VrZbiMaeX1-h"
      },
      "execution_count": null,
      "outputs": []
    },
    {
      "cell_type": "markdown",
      "source": [
        "It reduced:\n",
        "- parameters by **72%**\n",
        "- execution time by **67%** (from $\\approx$ 300 ms to $\\approx$ 100 ms)\n",
        "\n",
        "**Tested on CPU**, with a batch, to have a stronger difference in execution time"
      ],
      "metadata": {
        "id": "s251LPagLRdY"
      }
    },
    {
      "cell_type": "markdown",
      "source": [
        "## Save the full Student model\n",
        "Copy the Teacher's embedding codebook"
      ],
      "metadata": {
        "id": "am33gsJr__sW"
      }
    },
    {
      "cell_type": "code",
      "source": [
        "student_model.codeBook = teacher_vq_vae.codeBook\n",
        "\n",
        "torch.save(student_model.state_dict(), student_model_trained_full_checkpoint_filename)"
      ],
      "metadata": {
        "id": "fafkNOOcAD67"
      },
      "execution_count": null,
      "outputs": []
    },
    {
      "cell_type": "markdown",
      "source": [
        "# Train Student model alone\n",
        "With no teacher available, and see its performance.\n",
        "\n",
        "It is the training of a standalone VQ-VAE.\n",
        "\n",
        "The **loss** is *NOT ONLY* the reconstruction loss, but it is actually composed of three components:\n",
        "1. reconstruction loss\n",
        "2. codebook loss\n",
        "3. commitment loss\n",
        "\n",
        "More resources on how to train a VQ-VAE: [here](https://github.com/zalandoresearch/pytorch-vq-vae/blob/master/vq-vae.ipynb) and [here](https://github.com/Vrushank264/VQVAE-PyTorch/blob/main/train.py)"
      ],
      "metadata": {
        "id": "Ee9HjQyQQ7tT"
      }
    },
    {
      "cell_type": "code",
      "source": [
        "#@title VQ-VAE loss\n",
        "def compute_vqvae_loss(model, input_batch, beta):\n",
        "  input_batch = input_batch.to(device)\n",
        "\n",
        "  x_tilde, z_e_x, z_q_x = model(input_batch)\n",
        "\n",
        "  # The final loss is composed of 3 components:\n",
        "  # 1. reconstruction loss\n",
        "  recon_loss = F.mse_loss(x_tilde, input_batch)\n",
        "  # 2. codebook loss\n",
        "  codebook_loss = F.mse_loss(z_q_x, z_e_x.detach())\n",
        "  # 3. commitment loss\n",
        "  commitment_loss = F.mse_loss(z_e_x, z_q_x.detach())\n",
        "\n",
        "  return recon_loss + codebook_loss + beta * commitment_loss"
      ],
      "metadata": {
        "id": "C8KgZ0aeRmwY"
      },
      "execution_count": 17,
      "outputs": []
    },
    {
      "cell_type": "code",
      "source": [
        "beta = 0.25  #@param {type: 'number', min:0.01, max:1.0}"
      ],
      "metadata": {
        "id": "fR9hM25-pZFw"
      },
      "execution_count": 15,
      "outputs": []
    },
    {
      "cell_type": "code",
      "source": [
        "#@title Training loop\n",
        "alone_student_model = DistilVectorQuantizedVAE(input_dim, dim, K).to(device)\n",
        "\n",
        "# Train the student model, but freeze the teacher model\n",
        "alone_student_model.train()\n",
        "\n",
        "optimizer = torch.optim.Adam(alone_student_model.parameters(), lr=lr)\n",
        "early_stopper = EarlyStopper(patience=3, min_delta=0.001)\n",
        "\n",
        "losses_history = []\n",
        "\n",
        "\n",
        "for epoch in tqdm(range(num_epochs), file=sys.stdout):\n",
        "  train_loss, test_loss = 0.0, 0.0\n",
        "\n",
        "  # Training loop\n",
        "  for i, (inputs_batch, _) in enumerate(trainloader):\n",
        "    # Calculate the loss as stated before\n",
        "    loss = compute_vqvae_loss(alone_student_model, inputs_batch, beta)\n",
        "\n",
        "    optimizer.zero_grad()\n",
        "    loss.backward()\n",
        "    optimizer.step()\n",
        "\n",
        "    train_loss += loss.item()\n",
        "\n",
        "  train_loss /= len(trainloader)\n",
        "\n",
        "  # Measure how's going with test data\n",
        "  with torch.no_grad():\n",
        "    for i, (inputs_batch, _) in enumerate(testloader):\n",
        "      test_loss += compute_vqvae_loss(alone_student_model, inputs_batch, beta).item\n",
        "\n",
        "  test_loss /= len(testloader)\n",
        "\n",
        "  losses_history.append((train_loss, test_loss))\n",
        "\n",
        "  print(f'\\rEpoch {epoch + 1}, Training Loss: {train_loss:.5f}, Test Loss: {test_loss:.5f}', flush=True)\n",
        "\n",
        "  # Early stopping\n",
        "  if early_stopper.early_stop(test_loss):\n",
        "    print(\"Early stopping triggered\")\n",
        "    break\n",
        "\n",
        "print('Finished Training')"
      ],
      "metadata": {
        "colab": {
          "base_uri": "https://localhost:8080/"
        },
        "id": "ED8IUOWpG0SD",
        "outputId": "01418c9f-aed5-483e-bd39-b974f8f3c262"
      },
      "execution_count": null,
      "outputs": [
        {
          "output_type": "stream",
          "name": "stdout",
          "text": [
            "Epoch 1, Training Loss: 1.80600, Test Loss: 1.34923\n",
            "Epoch 2, Training Loss: 1.12076, Test Loss: 0.92376\n",
            "Epoch 3, Training Loss: 0.74811, Test Loss: 0.57507\n",
            "Epoch 4, Training Loss: 0.45351, Test Loss: 0.35577\n",
            "Epoch 5, Training Loss: 0.28728, Test Loss: 0.23746\n",
            "Epoch 6, Training Loss: 0.19786, Test Loss: 0.16822\n",
            "Epoch 7, Training Loss: 0.14494, Test Loss: 0.12597\n",
            "Epoch 8, Training Loss: 0.11291, Test Loss: 0.10197\n",
            "Epoch 9, Training Loss: 0.09288, Test Loss: 0.08504\n",
            "Epoch 10, Training Loss: 0.07693, Test Loss: 0.07033\n",
            "Epoch 11, Training Loss: 0.06513, Test Loss: 0.06186\n",
            "Epoch 12, Training Loss: 0.05642, Test Loss: 0.05318\n",
            "Epoch 13, Training Loss: 0.04966, Test Loss: 0.04851\n",
            "Epoch 14, Training Loss: 0.04483, Test Loss: 0.04402\n",
            "Epoch 15, Training Loss: 0.04146, Test Loss: 0.04136\n",
            "Epoch 16, Training Loss: 0.03876, Test Loss: 0.03901\n",
            "Epoch 17, Training Loss: 0.03650, Test Loss: 0.03664\n",
            "Epoch 18, Training Loss: 0.03474, Test Loss: 0.03542\n",
            "Epoch 19, Training Loss: 0.03348, Test Loss: 0.03444\n",
            "Epoch 20, Training Loss: 0.03258, Test Loss: 0.03364\n",
            "Epoch 21, Training Loss: 0.03181, Test Loss: 0.03287\n",
            "Epoch 22, Training Loss: 0.03114, Test Loss: 0.03191\n",
            "Epoch 23, Training Loss: 0.03041, Test Loss: 0.03146\n",
            "Epoch 24, Training Loss: 0.02974, Test Loss: 0.03106\n",
            "Epoch 25, Training Loss: 0.02927, Test Loss: 0.03063\n",
            "Epoch 26, Training Loss: 0.02891, Test Loss: 0.02995\n",
            "Epoch 27, Training Loss: 0.02843, Test Loss: 0.02966\n",
            "Epoch 28, Training Loss: 0.02818, Test Loss: 0.02962\n",
            "Epoch 29, Training Loss: 0.02790, Test Loss: 0.02916\n",
            "Epoch 30, Training Loss: 0.02761, Test Loss: 0.02881\n",
            "Epoch 31, Training Loss: 0.02741, Test Loss: 0.02918\n",
            "Epoch 32, Training Loss: 0.02711, Test Loss: 0.02826\n",
            "Epoch 33, Training Loss: 0.02670, Test Loss: 0.02818\n",
            "Epoch 34, Training Loss: 0.02638, Test Loss: 0.02769\n",
            "Epoch 35, Training Loss: 0.02607, Test Loss: 0.02837\n",
            "Epoch 36, Training Loss: 0.02590, Test Loss: 0.02721\n",
            "Epoch 37, Training Loss: 0.02568, Test Loss: 0.02700\n",
            "Epoch 38, Training Loss: 0.02557, Test Loss: 0.02719\n",
            "Epoch 39, Training Loss: 0.02547, Test Loss: 0.02667\n",
            "Epoch 40, Training Loss: 0.02538, Test Loss: 0.02680\n",
            "Epoch 41, Training Loss: 0.02526, Test Loss: 0.02676\n",
            "Epoch 42, Training Loss: 0.02513, Test Loss: 0.02644\n",
            "Epoch 43, Training Loss: 0.02505, Test Loss: 0.02644\n",
            "Epoch 44, Training Loss: 0.02502, Test Loss: 0.02648\n",
            "Epoch 45, Training Loss: 0.02489, Test Loss: 0.02624\n",
            "Epoch 46, Training Loss: 0.02484, Test Loss: 0.02613\n",
            "Epoch 47, Training Loss: 0.02473, Test Loss: 0.02601\n",
            "Epoch 48, Training Loss: 0.02465, Test Loss: 0.02590\n",
            "Epoch 49, Training Loss: 0.02444, Test Loss: 0.02585\n",
            "Epoch 50, Training Loss: 0.02422, Test Loss: 0.02551\n",
            "100%|██████████| 50/50 [12:43<00:00, 15.27s/it]\n",
            "Finished Training\n"
          ]
        }
      ]
    },
    {
      "cell_type": "code",
      "source": [
        "plot_losses_history(losses_history)"
      ],
      "metadata": {
        "colab": {
          "base_uri": "https://localhost:8080/",
          "height": 472
        },
        "outputId": "de75fd12-453c-4597-a8a6-5b50a6f4bfb7",
        "id": "WxKAsAIAIKhJ"
      },
      "execution_count": null,
      "outputs": [
        {
          "output_type": "display_data",
          "data": {
            "text/plain": [
              "<Figure size 640x480 with 1 Axes>"
            ],
            "image/png": "[encoded data removed]"
          },
          "metadata": {}
        }
      ]
    },
    {
      "cell_type": "code",
      "source": [
        "torch.save(alone_student_model.state_dict(), alone_student_model_checkpoint_filename)"
      ],
      "metadata": {
        "id": "GUyf-07iIKhP"
      },
      "execution_count": null,
      "outputs": []
    },
    {
      "cell_type": "code",
      "source": [
        "#@title Show an example from this alone student\n",
        "\n",
        "# Pick a random image from MNIST dataset\n",
        "input_image, _ = testset[3]\n",
        "input_image = input_image[None, ...].to(device)\n",
        "input_image.dtype, input_image.shape\n",
        "\n",
        "with torch.no_grad():\n",
        "  alone_x_tilde, _, _ = alone_student_model(input_image)\n",
        "  student_x_tilde, _, _ = student_model(input_image)\n",
        "  teacher_x_tilde, _, _ = teacher_vq_vae(input_image)\n",
        "\n",
        "show_images([\n",
        "    (input_image, 'Input'),\n",
        "    (teacher_x_tilde, 'Teacher'),\n",
        "    (student_x_tilde, 'Student'),\n",
        "    (alone_x_tilde, 'Alone Student'),\n",
        "])"
      ],
      "metadata": {
        "colab": {
          "base_uri": "https://localhost:8080/",
          "height": 167
        },
        "id": "Rg-wUvF5IY3U",
        "outputId": "1eff5666-a075-4e0f-97c6-1a8fb1d8b313"
      },
      "execution_count": null,
      "outputs": [
        {
          "output_type": "display_data",
          "data": {
            "text/plain": [
              "<Figure size 640x480 with 4 Axes>"
            ],
            "image/png": "[encoded data removed]"
          },
          "metadata": {}
        }
      ]
    },
    {
      "cell_type": "markdown",
      "source": [
        "# End-to-End Student\n",
        "Train the student model end-to-end, as the alone student, but freeze the embeddings"
      ],
      "metadata": {
        "id": "BiapaxNrnml3"
      }
    },
    {
      "cell_type": "code",
      "source": [
        "#@title Training loop\n",
        "e2e_student_model = DistilVectorQuantizedVAE(input_dim, dim, K).to(device)\n",
        "e2e_student_model.train()\n",
        "\n",
        "optimizer = torch.optim.Adam(e2e_student_model.parameters(), lr=lr)\n",
        "early_stopper = EarlyStopper(patience=3, min_delta=0.005)\n",
        "\n",
        "losses_history = []\n",
        "\n",
        "# Use teacher codeBook\n",
        "e2e_student_model.codeBook.load_state_dict(teacher_vq_vae.codeBook.state_dict())\n",
        "for p in e2e_student_model.codeBook.parameters():\n",
        "  p.requires_grad = False\n",
        "\n",
        "\n",
        "for epoch in tqdm(range(num_epochs), file=sys.stdout):\n",
        "  train_loss, test_loss = 0.0, 0.0\n",
        "\n",
        "  # Training loop\n",
        "  for i, (inputs_batch, _) in enumerate(trainloader):\n",
        "    # Calculate the loss as stated before\n",
        "    loss = compute_vqvae_loss(e2e_student_model, inputs_batch, beta)\n",
        "\n",
        "    optimizer.zero_grad()\n",
        "    loss.backward()\n",
        "    optimizer.step()\n",
        "\n",
        "    train_loss += loss.item()\n",
        "\n",
        "  train_loss /= len(trainloader)\n",
        "\n",
        "  # Measure how's going with test data\n",
        "  with torch.no_grad():\n",
        "    for i, (inputs_batch, _) in enumerate(testloader):\n",
        "      test_loss += compute_vqvae_loss(e2e_student_model, inputs_batch, beta).item()\n",
        "\n",
        "  test_loss /= len(testloader)\n",
        "\n",
        "  losses_history.append((train_loss, test_loss))\n",
        "\n",
        "  print(f'\\rEpoch {epoch + 1}, Training Loss: {train_loss:.5f}, Test Loss: {test_loss:.5f}', flush=True)\n",
        "\n",
        "  # Early stopping\n",
        "  if early_stopper.early_stop(test_loss):\n",
        "    print(\"Early stopping triggered\")\n",
        "    break\n",
        "\n",
        "print('Finished Training')"
      ],
      "metadata": {
        "colab": {
          "base_uri": "https://localhost:8080/"
        },
        "id": "RY1OhnPTn3Gv",
        "outputId": "2c170563-fd73-4153-8cb9-08a8b13c5f75"
      },
      "execution_count": 40,
      "outputs": [
        {
          "output_type": "stream",
          "name": "stdout",
          "text": [
            "Epoch 1, Training Loss: 0.58710, Test Loss: 0.50054\n",
            "Epoch 2, Training Loss: 0.58412, Test Loss: 0.66199\n",
            "Epoch 3, Training Loss: 0.72075, Test Loss: 0.78347\n",
            "Epoch 4, Training Loss: 0.81791, Test Loss: 0.85778\n",
            "Early stopping triggered\n",
            "  6%|▌         | 3/50 [00:52<13:35, 17.35s/it]\n",
            "Finished Training\n"
          ]
        }
      ]
    },
    {
      "cell_type": "code",
      "source": [
        "plot_losses_history(losses_history)"
      ],
      "metadata": {
        "colab": {
          "base_uri": "https://localhost:8080/",
          "height": 472
        },
        "outputId": "3cf4041d-676a-468f-dc05-55bc6b7513dd",
        "id": "NfMgTJkvn839"
      },
      "execution_count": 28,
      "outputs": [
        {
          "output_type": "display_data",
          "data": {
            "text/plain": [
              "<Figure size 640x480 with 1 Axes>"
            ],
            "image/png": "[encoded data removed]"
          },
          "metadata": {}
        }
      ]
    },
    {
      "cell_type": "code",
      "source": [
        "torch.save(e2e_student_model.state_dict(), e2e_student_model_checkpoint_filename)"
      ],
      "metadata": {
        "id": "A2ZDOhcOn83-"
      },
      "execution_count": 29,
      "outputs": []
    },
    {
      "cell_type": "markdown",
      "source": [
        "# Testing\n",
        "We want to test all models on some metrics, on the whole dataset, and not just a simple visual example as in the cells so far."
      ],
      "metadata": {
        "id": "3IVkPb34K1gg"
      }
    },
    {
      "cell_type": "code",
      "source": [
        "#@title Reload all saved models\n",
        "def load_eval_model(filename) -> nn.Module:\n",
        "  model_class = VectorQuantizedVAE \\\n",
        "      if filename == teacher_model_checkpoint_filename \\\n",
        "      else DistilVectorQuantizedVAE\n",
        "\n",
        "  model = model_class(input_dim, dim, K).to(device)\n",
        "  with open(filename, 'rb') as f:\n",
        "    model.load_state_dict(torch.load(f, map_location=device))\n",
        "\n",
        "  model.eval()\n",
        "\n",
        "  # Freeze parameters\n",
        "  for param in model.parameters():\n",
        "    param.requires_grad = False\n",
        "\n",
        "  # A small check, just to be sure\n",
        "  assert not model.encoder.parameters().__next__().requires_grad\n",
        "  assert not model.decoder.parameters().__next__().requires_grad\n",
        "  assert not model.codeBook.parameters().__next__().requires_grad\n",
        "\n",
        "  return model\n",
        "\n",
        "\n",
        "teacher_model = load_eval_model(teacher_model_checkpoint_filename)\n",
        "student_model = load_eval_model(student_model_trained_full_checkpoint_filename)\n",
        "alone_student_model = load_eval_model(alone_student_model_checkpoint_filename)\n",
        "e2e_student_model = load_eval_model(e2e_student_model_checkpoint_filename)"
      ],
      "metadata": {
        "id": "wSkcvYi7LAb3"
      },
      "execution_count": 47,
      "outputs": []
    },
    {
      "cell_type": "markdown",
      "source": [
        "## Reconstruction Loss\n",
        "Measure how good these models reconstruct the original image."
      ],
      "metadata": {
        "id": "5IXdcOHVO-Kh"
      }
    },
    {
      "cell_type": "code",
      "source": [
        "@torch.no_grad()\n",
        "def measure_reconstruction(model, dataloader):\n",
        "  model = model.to(device)\n",
        "\n",
        "  def _compute_metrics(inputs_batch, reconstructed_batch, old_metrics=None):\n",
        "    # Use both L2 and PSNR, from the original LASS paper\n",
        "    new_l2 = F.mse_loss(inputs_batch, reconstructed_batch).item()\n",
        "\n",
        "    dims = list(range(1, len(inputs_batch.shape)))  # First dimension is Batch\n",
        "    new_psnr = torchmetrics.functional.peak_signal_noise_ratio(\n",
        "        inputs_batch,\n",
        "        reconstructed_batch,\n",
        "        dim=dims,\n",
        "        data_range=1.0,\n",
        "    ).item()\n",
        "\n",
        "    if old_metrics is not None:\n",
        "      old_l2, old_psnr = old_metrics['l2'], old_metrics['psnr']\n",
        "      new_l2, new_psnr = 0.5 * old_l2 + 0.5 * new_l2, 0.5 * old_psnr + 0.5 * new_psnr\n",
        "\n",
        "    return {\n",
        "        'l2': new_l2,\n",
        "        'psnr': new_psnr,\n",
        "    }\n",
        "\n",
        "\n",
        "  input_metrics, teacher_metrics = None, None\n",
        "\n",
        "  for i, (inputs_batch, _) in enumerate(dataloader):\n",
        "    inputs_batch = inputs_batch.to(device)\n",
        "\n",
        "    # Reconstruct the image\n",
        "    reconstructed_batch, _, _ = model(inputs_batch)\n",
        "    input_metrics = _compute_metrics(inputs_batch, reconstructed_batch, old_metrics=input_metrics)\n",
        "\n",
        "    if type(model) == DistilVectorQuantizedVAE:\n",
        "      # Also compare with teacher's output\n",
        "      teacher_batch, _, _ = teacher_model(inputs_batch)\n",
        "      teacher_metrics = _compute_metrics(teacher_batch, reconstructed_batch, old_metrics=teacher_metrics)\n",
        "\n",
        "\n",
        "  # Format metrics\n",
        "  def _format_metrics(metrics):\n",
        "    if metrics is None:\n",
        "      return metrics\n",
        "    return { k: f'{v:.4f}' for k, v in metrics.items() }\n",
        "\n",
        "  return _format_metrics(input_metrics), _format_metrics(teacher_metrics)"
      ],
      "metadata": {
        "id": "9vP7eKiuPEnF"
      },
      "execution_count": 53,
      "outputs": []
    },
    {
      "cell_type": "markdown",
      "source": [
        "Remember that:\n",
        "- L2 = lower is better\n",
        "- PSNR = higher is better"
      ],
      "metadata": {
        "id": "P9eJdG4xWpXZ"
      }
    },
    {
      "cell_type": "code",
      "source": [
        "models = [\n",
        "    (teacher_model, 'Teacher'),\n",
        "    (student_model, 'Student Enc-Dec'),\n",
        "    (alone_student_model, 'Alone Student'),\n",
        "    (e2e_student_model, 'E2E Student'),\n",
        "]\n",
        "\n",
        "for model, model_name in models:\n",
        "  # Measure on training data\n",
        "  train_input_metrics, train_teacher_metrics = measure_reconstruction(model, trainloader)\n",
        "  # Measure on testing data\n",
        "  test_input_metrics, test_teacher_metrics = measure_reconstruction(model, testloader)\n",
        "\n",
        "  print(model_name)\n",
        "  print('\\tOn training data:')\n",
        "  print(f'\\t\\tOn input:', train_input_metrics)\n",
        "  print(f'\\t\\tOn teacher:', train_teacher_metrics)\n",
        "  print('\\tOn testing data:')\n",
        "  print(f'\\t\\tOn input:', test_input_metrics)\n",
        "  print(f'\\t\\tOn teacher:', test_teacher_metrics)\n",
        "  print()"
      ],
      "metadata": {
        "colab": {
          "base_uri": "https://localhost:8080/"
        },
        "id": "Xjb6Ep20XpSw",
        "outputId": "647ab337-1bca-4115-ac5f-fe1d53214e0e"
      },
      "execution_count": 54,
      "outputs": [
        {
          "output_type": "stream",
          "name": "stderr",
          "text": [
            "/usr/local/lib/python3.10/dist-packages/torchmetrics/utilities/prints.py:70: FutureWarning: Importing `peak_signal_noise_ratio` from `torchmetrics.functional` was deprecated and will be removed in 2.0. Import `peak_signal_noise_ratio` from `torchmetrics.image` instead.\n",
            "  _future_warning(\n"
          ]
        },
        {
          "output_type": "stream",
          "name": "stdout",
          "text": [
            "Teacher\n",
            "\tOn training data:\n",
            "\t\tOn input: {'l2': '0.0012', 'psnr': '29.8255'}\n",
            "\t\tOn teacher: None\n",
            "\tOn testing data:\n",
            "\t\tOn input: {'l2': '0.0015', 'psnr': '29.1254'}\n",
            "\t\tOn teacher: None\n",
            "\n",
            "Student Enc-Dec\n",
            "\tOn training data:\n",
            "\t\tOn input: {'l2': '0.0047', 'psnr': '23.9728'}\n",
            "\t\tOn teacher: {'l2': '0.0041', 'psnr': '24.6110'}\n",
            "\tOn testing data:\n",
            "\t\tOn input: {'l2': '0.0041', 'psnr': '24.5385'}\n",
            "\t\tOn teacher: {'l2': '0.0037', 'psnr': '25.1832'}\n",
            "\n",
            "Alone Student\n",
            "\tOn training data:\n",
            "\t\tOn input: {'l2': '0.0039', 'psnr': '24.4886'}\n",
            "\t\tOn teacher: {'l2': '0.0036', 'psnr': '24.7860'}\n",
            "\tOn testing data:\n",
            "\t\tOn input: {'l2': '0.0038', 'psnr': '24.7428'}\n",
            "\t\tOn teacher: {'l2': '0.0037', 'psnr': '24.8593'}\n",
            "\n",
            "E2E Student\n",
            "\tOn training data:\n",
            "\t\tOn input: {'l2': '0.0042', 'psnr': '24.2214'}\n",
            "\t\tOn teacher: {'l2': '0.0040', 'psnr': '24.5008'}\n",
            "\tOn testing data:\n",
            "\t\tOn input: {'l2': '0.0044', 'psnr': '24.0527'}\n",
            "\t\tOn teacher: {'l2': '0.0041', 'psnr': '24.3795'}\n",
            "\n"
          ]
        }
      ]
    },
    {
      "cell_type": "markdown",
      "source": [
        "We can observe that:\n",
        "1. The Teacher model is still, by far, the best one among all of them\n",
        "2. The Student Enc-Dec model performs better than the \"alone student\" when compared to the teacher's output, but a little worse on reconstructing the input\n",
        "3. The e2e student works worse than the others; we also observe that, on the contrary of the other 2 students, it has better scores on training data than on test ones.\n",
        "\n",
        "Purely on input data reconstruction, the alone student performed better"
      ],
      "metadata": {
        "id": "9_vuheqV0nWT"
      }
    },
    {
      "cell_type": "markdown",
      "source": [
        "## LASS performance\n",
        "Measure how well these models perform in the context of the LASS task, and not simply as autoencoders."
      ],
      "metadata": {
        "id": "gojxZEDnPE3J"
      }
    },
    {
      "cell_type": "code",
      "source": [
        "# Clone the repository\n",
        "%cd /content/\n",
        "!rm -rf /content/latent-autoregressive-source-separation\n",
        "!git clone https://github.com/simonesestito/latent-autoregressive-source-separation.git\n",
        "\n",
        "# Copy the models checkpoints\n",
        "%cd /content/latent-autoregressive-source-separation/lass_mnist/checkpoints/\n",
        "!tar -xvf '/content/drive/MyDrive/1s2/Deep Learning/Deep Project/lass-mnist-ckpts.tar'\n",
        "!cp '/content/drive/MyDrive/1s2/Deep Learning/Deep Project/checkpoints/student_model_trained_full.pt' ./vqvae/\n",
        "\n",
        "# CD into main project directory\n",
        "%cd /content/latent-autoregressive-source-separation/lass_mnist/"
      ],
      "metadata": {
        "id": "W6_cstCGPUpM",
        "colab": {
          "base_uri": "https://localhost:8080/"
        },
        "outputId": "cde1df0a-1b3f-4e2d-ff9f-f79e43d368af"
      },
      "execution_count": null,
      "outputs": [
        {
          "output_type": "stream",
          "name": "stdout",
          "text": [
            "/content\n",
            "Cloning into 'latent-autoregressive-source-separation'...\n",
            "remote: Enumerating objects: 374, done.\u001b[K\n",
            "remote: Counting objects: 100% (374/374), done.\u001b[K\n",
            "remote: Compressing objects: 100% (301/301), done.\u001b[K\n",
            "remote: Total 374 (delta 69), reused 346 (delta 45), pack-reused 0\u001b[K\n",
            "Receiving objects: 100% (374/374), 540.71 KiB | 12.57 MiB/s, done.\n",
            "Resolving deltas: 100% (69/69), done.\n",
            "/content/latent-autoregressive-source-separation/lass_mnist/checkpoints\n",
            "./sum/256-sigmoid-big.pt\n",
            "./unconditioned/256-sigmoid-big.pt\n",
            "./vqvae/256-sigmoid-big.pt\n",
            "/content/latent-autoregressive-source-separation/lass_mnist\n"
          ]
        }
      ]
    },
    {
      "cell_type": "code",
      "source": [
        "!pip install -r requirements.txt"
      ],
      "metadata": {
        "colab": {
          "base_uri": "https://localhost:8080/"
        },
        "id": "yEBAuTbacjxM",
        "outputId": "f2f903cc-1852-4ba2-ad96-a12ef997e95e"
      },
      "execution_count": null,
      "outputs": [
        {
          "output_type": "stream",
          "name": "stdout",
          "text": [
            "Requirement already satisfied: matplotlib in /usr/local/lib/python3.10/dist-packages (from -r requirements.txt (line 1)) (3.7.1)\n",
            "Requirement already satisfied: tqdm in /usr/local/lib/python3.10/dist-packages (from -r requirements.txt (line 2)) (4.66.4)\n",
            "Requirement already satisfied: typer==0.4.* in /usr/local/lib/python3.10/dist-packages (from -r requirements.txt (line 3)) (0.4.2)\n",
            "Requirement already satisfied: transformers==4.20.* in /usr/local/lib/python3.10/dist-packages (from -r requirements.txt (line 4)) (4.20.1)\n",
            "Requirement already satisfied: wandb==0.12.* in /usr/local/lib/python3.10/dist-packages (from -r requirements.txt (line 5)) (0.12.21)\n",
            "Requirement already satisfied: hydra-core==1.2.0 in /usr/local/lib/python3.10/dist-packages (from -r requirements.txt (line 6)) (1.2.0)\n",
            "Requirement already satisfied: torchmetrics in /usr/local/lib/python3.10/dist-packages (from -r requirements.txt (line 7)) (1.4.1)\n",
            "Requirement already satisfied: click<9.0.0,>=7.1.1 in /usr/local/lib/python3.10/dist-packages (from typer==0.4.*->-r requirements.txt (line 3)) (8.1.7)\n",
            "Requirement already satisfied: filelock in /usr/local/lib/python3.10/dist-packages (from transformers==4.20.*->-r requirements.txt (line 4)) (3.15.4)\n",
            "Requirement already satisfied: huggingface-hub<1.0,>=0.1.0 in /usr/local/lib/python3.10/dist-packages (from transformers==4.20.*->-r requirements.txt (line 4)) (0.23.5)\n",
            "Requirement already satisfied: numpy>=1.17 in /usr/local/lib/python3.10/dist-packages (from transformers==4.20.*->-r requirements.txt (line 4)) (1.26.4)\n",
            "Requirement already satisfied: packaging>=20.0 in /usr/local/lib/python3.10/dist-packages (from transformers==4.20.*->-r requirements.txt (line 4)) (24.1)\n",
            "Requirement already satisfied: pyyaml>=5.1 in /usr/local/lib/python3.10/dist-packages (from transformers==4.20.*->-r requirements.txt (line 4)) (6.0.1)\n",
            "Requirement already satisfied: regex!=2019.12.17 in /usr/local/lib/python3.10/dist-packages (from transformers==4.20.*->-r requirements.txt (line 4)) (2024.5.15)\n",
            "Requirement already satisfied: requests in /usr/local/lib/python3.10/dist-packages (from transformers==4.20.*->-r requirements.txt (line 4)) (2.31.0)\n",
            "Requirement already satisfied: tokenizers!=0.11.3,<0.13,>=0.11.1 in /usr/local/lib/python3.10/dist-packages (from transformers==4.20.*->-r requirements.txt (line 4)) (0.12.1)\n",
            "Requirement already satisfied: GitPython>=1.0.0 in /usr/local/lib/python3.10/dist-packages (from wandb==0.12.*->-r requirements.txt (line 5)) (3.1.43)\n",
            "Requirement already satisfied: promise<3,>=2.0 in /usr/local/lib/python3.10/dist-packages (from wandb==0.12.*->-r requirements.txt (line 5)) (2.3)\n",
            "Requirement already satisfied: shortuuid>=0.5.0 in /usr/local/lib/python3.10/dist-packages (from wandb==0.12.*->-r requirements.txt (line 5)) (1.0.13)\n",
            "Requirement already satisfied: psutil>=5.0.0 in /usr/local/lib/python3.10/dist-packages (from wandb==0.12.*->-r requirements.txt (line 5)) (5.9.5)\n",
            "Requirement already satisfied: sentry-sdk>=1.0.0 in /usr/local/lib/python3.10/dist-packages (from wandb==0.12.*->-r requirements.txt (line 5)) (2.12.0)\n",
            "Requirement already satisfied: six>=1.13.0 in /usr/local/lib/python3.10/dist-packages (from wandb==0.12.*->-r requirements.txt (line 5)) (1.16.0)\n",
            "Requirement already satisfied: docker-pycreds>=0.4.0 in /usr/local/lib/python3.10/dist-packages (from wandb==0.12.*->-r requirements.txt (line 5)) (0.4.0)\n",
            "Requirement already satisfied: protobuf<4.0dev,>=3.12.0 in /usr/local/lib/python3.10/dist-packages (from wandb==0.12.*->-r requirements.txt (line 5)) (3.20.3)\n",
            "Requirement already satisfied: pathtools in /usr/local/lib/python3.10/dist-packages (from wandb==0.12.*->-r requirements.txt (line 5)) (0.1.2)\n",
            "Requirement already satisfied: setproctitle in /usr/local/lib/python3.10/dist-packages (from wandb==0.12.*->-r requirements.txt (line 5)) (1.3.3)\n",
            "Requirement already satisfied: setuptools in /usr/local/lib/python3.10/dist-packages (from wandb==0.12.*->-r requirements.txt (line 5)) (71.0.4)\n",
            "Requirement already satisfied: omegaconf~=2.2 in /usr/local/lib/python3.10/dist-packages (from hydra-core==1.2.0->-r requirements.txt (line 6)) (2.3.0)\n",
            "Requirement already satisfied: antlr4-python3-runtime==4.9.* in /usr/local/lib/python3.10/dist-packages (from hydra-core==1.2.0->-r requirements.txt (line 6)) (4.9.3)\n",
            "Requirement already satisfied: contourpy>=1.0.1 in /usr/local/lib/python3.10/dist-packages (from matplotlib->-r requirements.txt (line 1)) (1.2.1)\n",
            "Requirement already satisfied: cycler>=0.10 in /usr/local/lib/python3.10/dist-packages (from matplotlib->-r requirements.txt (line 1)) (0.12.1)\n",
            "Requirement already satisfied: fonttools>=4.22.0 in /usr/local/lib/python3.10/dist-packages (from matplotlib->-r requirements.txt (line 1)) (4.53.1)\n",
            "Requirement already satisfied: kiwisolver>=1.0.1 in /usr/local/lib/python3.10/dist-packages (from matplotlib->-r requirements.txt (line 1)) (1.4.5)\n",
            "Requirement already satisfied: pillow>=6.2.0 in /usr/local/lib/python3.10/dist-packages (from matplotlib->-r requirements.txt (line 1)) (9.4.0)\n",
            "Requirement already satisfied: pyparsing>=2.3.1 in /usr/local/lib/python3.10/dist-packages (from matplotlib->-r requirements.txt (line 1)) (3.1.2)\n",
            "Requirement already satisfied: python-dateutil>=2.7 in /usr/local/lib/python3.10/dist-packages (from matplotlib->-r requirements.txt (line 1)) (2.8.2)\n",
            "Requirement already satisfied: torch>=1.10.0 in /usr/local/lib/python3.10/dist-packages (from torchmetrics->-r requirements.txt (line 7)) (2.3.1+cu121)\n",
            "Requirement already satisfied: lightning-utilities>=0.8.0 in /usr/local/lib/python3.10/dist-packages (from torchmetrics->-r requirements.txt (line 7)) (0.11.6)\n",
            "Requirement already satisfied: gitdb<5,>=4.0.1 in /usr/local/lib/python3.10/dist-packages (from GitPython>=1.0.0->wandb==0.12.*->-r requirements.txt (line 5)) (4.0.11)\n",
            "Requirement already satisfied: fsspec>=2023.5.0 in /usr/local/lib/python3.10/dist-packages (from huggingface-hub<1.0,>=0.1.0->transformers==4.20.*->-r requirements.txt (line 4)) (2024.6.1)\n",
            "Requirement already satisfied: typing-extensions>=3.7.4.3 in /usr/local/lib/python3.10/dist-packages (from huggingface-hub<1.0,>=0.1.0->transformers==4.20.*->-r requirements.txt (line 4)) (4.12.2)\n",
            "Requirement already satisfied: charset-normalizer<4,>=2 in /usr/local/lib/python3.10/dist-packages (from requests->transformers==4.20.*->-r requirements.txt (line 4)) (3.3.2)\n",
            "Requirement already satisfied: idna<4,>=2.5 in /usr/local/lib/python3.10/dist-packages (from requests->transformers==4.20.*->-r requirements.txt (line 4)) (3.7)\n",
            "Requirement already satisfied: urllib3<3,>=1.21.1 in /usr/local/lib/python3.10/dist-packages (from requests->transformers==4.20.*->-r requirements.txt (line 4)) (2.0.7)\n",
            "Requirement already satisfied: certifi>=2017.4.17 in /usr/local/lib/python3.10/dist-packages (from requests->transformers==4.20.*->-r requirements.txt (line 4)) (2024.7.4)\n",
            "Requirement already satisfied: sympy in /usr/local/lib/python3.10/dist-packages (from torch>=1.10.0->torchmetrics->-r requirements.txt (line 7)) (1.13.1)\n",
            "Requirement already satisfied: networkx in /usr/local/lib/python3.10/dist-packages (from torch>=1.10.0->torchmetrics->-r requirements.txt (line 7)) (3.3)\n",
            "Requirement already satisfied: jinja2 in /usr/local/lib/python3.10/dist-packages (from torch>=1.10.0->torchmetrics->-r requirements.txt (line 7)) (3.1.4)\n",
            "Requirement already satisfied: nvidia-cuda-nvrtc-cu12==12.1.105 in /usr/local/lib/python3.10/dist-packages (from torch>=1.10.0->torchmetrics->-r requirements.txt (line 7)) (12.1.105)\n",
            "Requirement already satisfied: nvidia-cuda-runtime-cu12==12.1.105 in /usr/local/lib/python3.10/dist-packages (from torch>=1.10.0->torchmetrics->-r requirements.txt (line 7)) (12.1.105)\n",
            "Requirement already satisfied: nvidia-cuda-cupti-cu12==12.1.105 in /usr/local/lib/python3.10/dist-packages (from torch>=1.10.0->torchmetrics->-r requirements.txt (line 7)) (12.1.105)\n",
            "Requirement already satisfied: nvidia-cudnn-cu12==8.9.2.26 in /usr/local/lib/python3.10/dist-packages (from torch>=1.10.0->torchmetrics->-r requirements.txt (line 7)) (8.9.2.26)\n",
            "Requirement already satisfied: nvidia-cublas-cu12==12.1.3.1 in /usr/local/lib/python3.10/dist-packages (from torch>=1.10.0->torchmetrics->-r requirements.txt (line 7)) (12.1.3.1)\n",
            "Requirement already satisfied: nvidia-cufft-cu12==11.0.2.54 in /usr/local/lib/python3.10/dist-packages (from torch>=1.10.0->torchmetrics->-r requirements.txt (line 7)) (11.0.2.54)\n",
            "Requirement already satisfied: nvidia-curand-cu12==10.3.2.106 in /usr/local/lib/python3.10/dist-packages (from torch>=1.10.0->torchmetrics->-r requirements.txt (line 7)) (10.3.2.106)\n",
            "Requirement already satisfied: nvidia-cusolver-cu12==11.4.5.107 in /usr/local/lib/python3.10/dist-packages (from torch>=1.10.0->torchmetrics->-r requirements.txt (line 7)) (11.4.5.107)\n",
            "Requirement already satisfied: nvidia-cusparse-cu12==12.1.0.106 in /usr/local/lib/python3.10/dist-packages (from torch>=1.10.0->torchmetrics->-r requirements.txt (line 7)) (12.1.0.106)\n",
            "Requirement already satisfied: nvidia-nccl-cu12==2.20.5 in /usr/local/lib/python3.10/dist-packages (from torch>=1.10.0->torchmetrics->-r requirements.txt (line 7)) (2.20.5)\n",
            "Requirement already satisfied: nvidia-nvtx-cu12==12.1.105 in /usr/local/lib/python3.10/dist-packages (from torch>=1.10.0->torchmetrics->-r requirements.txt (line 7)) (12.1.105)\n",
            "Requirement already satisfied: triton==2.3.1 in /usr/local/lib/python3.10/dist-packages (from torch>=1.10.0->torchmetrics->-r requirements.txt (line 7)) (2.3.1)\n",
            "Requirement already satisfied: nvidia-nvjitlink-cu12 in /usr/local/lib/python3.10/dist-packages (from nvidia-cusolver-cu12==11.4.5.107->torch>=1.10.0->torchmetrics->-r requirements.txt (line 7)) (12.6.20)\n",
            "Requirement already satisfied: smmap<6,>=3.0.1 in /usr/local/lib/python3.10/dist-packages (from gitdb<5,>=4.0.1->GitPython>=1.0.0->wandb==0.12.*->-r requirements.txt (line 5)) (5.0.1)\n",
            "Requirement already satisfied: MarkupSafe>=2.0 in /usr/local/lib/python3.10/dist-packages (from jinja2->torch>=1.10.0->torchmetrics->-r requirements.txt (line 7)) (2.1.5)\n",
            "Requirement already satisfied: mpmath<1.4,>=1.1.0 in /usr/local/lib/python3.10/dist-packages (from sympy->torch>=1.10.0->torchmetrics->-r requirements.txt (line 7)) (1.3.0)\n"
          ]
        }
      ]
    },
    {
      "cell_type": "code",
      "source": [
        "!pip install -e /content/latent-autoregressive-source-separation/diba"
      ],
      "metadata": {
        "colab": {
          "base_uri": "https://localhost:8080/"
        },
        "id": "dPVKXRUYdDLu",
        "outputId": "5e43cec8-3f6f-42c1-90d6-fcbe09d9b953"
      },
      "execution_count": null,
      "outputs": [
        {
          "output_type": "stream",
          "name": "stdout",
          "text": [
            "Obtaining file:///content/latent-autoregressive-source-separation/diba\n",
            "  Preparing metadata (setup.py) ... \u001b[?25l\u001b[?25hdone\n",
            "Requirement already satisfied: Click>=7.0 in /usr/local/lib/python3.10/dist-packages (from diba==0.1.0) (8.1.7)\n",
            "Requirement already satisfied: tqdm>=4.0 in /usr/local/lib/python3.10/dist-packages (from diba==0.1.0) (4.66.4)\n",
            "Requirement already satisfied: numpy>=1.20.0 in /usr/local/lib/python3.10/dist-packages (from diba==0.1.0) (1.26.4)\n",
            "Requirement already satisfied: transformers>=4.19.2 in /usr/local/lib/python3.10/dist-packages (from diba==0.1.0) (4.20.1)\n",
            "Requirement already satisfied: filelock in /usr/local/lib/python3.10/dist-packages (from transformers>=4.19.2->diba==0.1.0) (3.15.4)\n",
            "Requirement already satisfied: huggingface-hub<1.0,>=0.1.0 in /usr/local/lib/python3.10/dist-packages (from transformers>=4.19.2->diba==0.1.0) (0.23.5)\n",
            "Requirement already satisfied: packaging>=20.0 in /usr/local/lib/python3.10/dist-packages (from transformers>=4.19.2->diba==0.1.0) (24.1)\n",
            "Requirement already satisfied: pyyaml>=5.1 in /usr/local/lib/python3.10/dist-packages (from transformers>=4.19.2->diba==0.1.0) (6.0.1)\n",
            "Requirement already satisfied: regex!=2019.12.17 in /usr/local/lib/python3.10/dist-packages (from transformers>=4.19.2->diba==0.1.0) (2024.5.15)\n",
            "Requirement already satisfied: requests in /usr/local/lib/python3.10/dist-packages (from transformers>=4.19.2->diba==0.1.0) (2.31.0)\n",
            "Requirement already satisfied: tokenizers!=0.11.3,<0.13,>=0.11.1 in /usr/local/lib/python3.10/dist-packages (from transformers>=4.19.2->diba==0.1.0) (0.12.1)\n",
            "Requirement already satisfied: fsspec>=2023.5.0 in /usr/local/lib/python3.10/dist-packages (from huggingface-hub<1.0,>=0.1.0->transformers>=4.19.2->diba==0.1.0) (2024.6.1)\n",
            "Requirement already satisfied: typing-extensions>=3.7.4.3 in /usr/local/lib/python3.10/dist-packages (from huggingface-hub<1.0,>=0.1.0->transformers>=4.19.2->diba==0.1.0) (4.12.2)\n",
            "Requirement already satisfied: charset-normalizer<4,>=2 in /usr/local/lib/python3.10/dist-packages (from requests->transformers>=4.19.2->diba==0.1.0) (3.3.2)\n",
            "Requirement already satisfied: idna<4,>=2.5 in /usr/local/lib/python3.10/dist-packages (from requests->transformers>=4.19.2->diba==0.1.0) (3.7)\n",
            "Requirement already satisfied: urllib3<3,>=1.21.1 in /usr/local/lib/python3.10/dist-packages (from requests->transformers>=4.19.2->diba==0.1.0) (2.0.7)\n",
            "Requirement already satisfied: certifi>=2017.4.17 in /usr/local/lib/python3.10/dist-packages (from requests->transformers>=4.19.2->diba==0.1.0) (2024.7.4)\n",
            "Installing collected packages: diba\n",
            "  Running setup.py develop for diba\n",
            "Successfully installed diba-0.1.0\n"
          ]
        }
      ]
    },
    {
      "cell_type": "markdown",
      "source": [
        "We still have to **re-train likelihood**, or a specific Code may be unknown\n",
        "\n",
        "Example of error:\n",
        "```\n",
        "Traceback (most recent call last):\n",
        "  File \"/content/latent-autoregressive-source-separation/lass_mnist/lass/separate.py\", line 288, in main\n",
        "    (gen1, gen2), (gen1lat, gen2lat) = generate_samples(\n",
        "  File \"/usr/local/lib/python3.10/dist-packages/torch/utils/_contextlib.py\", line 115, in decorate_context\n",
        "    return func(*args, **kwargs)\n",
        "  File \"/content/latent-autoregressive-source-separation/lass_mnist/lass/separate.py\", line 114, in generate_samples\n",
        "    r0, r1 = separation_method(\n",
        "  File \"/content/latent-autoregressive-source-separation/diba/diba/diba.py\", line 169, in separate\n",
        "    result = sep_model.generate(\n",
        "  File \"/usr/local/lib/python3.10/dist-packages/torch/utils/_contextlib.py\", line 115, in decorate_context\n",
        "    return func(*args, **kwargs)\n",
        "  File \"/usr/local/lib/python3.10/dist-packages/transformers/generation_utils.py\", line 1288, in generate\n",
        "    return self.greedy_search(\n",
        "  File \"/usr/local/lib/python3.10/dist-packages/transformers/generation_utils.py\", line 1683, in greedy_search\n",
        "    outputs = self(\n",
        "  File \"/usr/local/lib/python3.10/dist-packages/torch/nn/modules/module.py\", line 1532, in _wrapped_call_impl\n",
        "    return self._call_impl(*args, **kwargs)\n",
        "  File \"/usr/local/lib/python3.10/dist-packages/torch/nn/modules/module.py\", line 1541, in _call_impl\n",
        "    return forward_call(*args, **kwargs)\n",
        "  File \"/content/latent-autoregressive-source-separation/diba/diba/diba.py\", line 116, in forward\n",
        "    raise RuntimeError(f\"Code {self.mixture[self.sample_t]} is not available in likelihood!\")\n",
        "RuntimeError: Code 83 is not available in likelihood!\n",
        "```\n",
        "\n",
        "Code that raised the exception:\n",
        "```python\n",
        "# compute log posterior\n",
        "if ll_coords.numel() == 0:\n",
        "    raise RuntimeError(f\"Code {self.mixture[self.sample_t]} is not available in likelihood!\")\n",
        "```"
      ],
      "metadata": {
        "id": "V5fQRMMig4D7"
      }
    },
    {
      "cell_type": "code",
      "source": [
        "!PYTHONPATH=. python lass/train_sums.py"
      ],
      "metadata": {
        "colab": {
          "base_uri": "https://localhost:8080/"
        },
        "id": "vJ079j_ihU2u",
        "outputId": "4cdfcaff-d0fa-4224-a10c-f41e84b7220a"
      },
      "execution_count": null,
      "outputs": [
        {
          "output_type": "stream",
          "name": "stdout",
          "text": [
            "2024-08-03 13:58:55.929826: E external/local_xla/xla/stream_executor/cuda/cuda_fft.cc:485] Unable to register cuFFT factory: Attempting to register factory for plugin cuFFT when one has already been registered\n",
            "2024-08-03 13:58:55.949952: E external/local_xla/xla/stream_executor/cuda/cuda_dnn.cc:8454] Unable to register cuDNN factory: Attempting to register factory for plugin cuDNN when one has already been registered\n",
            "2024-08-03 13:58:55.956095: E external/local_xla/xla/stream_executor/cuda/cuda_blas.cc:1452] Unable to register cuBLAS factory: Attempting to register factory for plugin cuBLAS when one has already been registered\n",
            "2024-08-03 13:58:55.971226: I tensorflow/core/platform/cpu_feature_guard.cc:210] This TensorFlow binary is optimized to use available CPU instructions in performance-critical operations.\n",
            "To enable the following instructions: AVX2 AVX512F FMA, in other operations, rebuild TensorFlow with the appropriate compiler flags.\n",
            "2024-08-03 13:58:57.076116: W tensorflow/compiler/tf2tensorrt/utils/py_utils.cc:38] TF-TRT Warning: Could not find TensorRT\n",
            "/usr/local/lib/python3.10/dist-packages/hydra/_internal/defaults_list.py:251: UserWarning: In 'sums_estimation/mnist.yaml': Defaults list is missing `_self_`. See https://hydra.cc/docs/upgrades/1.0_to_1.1/default_composition_order for more information\n",
            "  warnings.warn(msg, UserWarning)\n",
            "Start Time = 13:58:59\n",
            "Downloading http://yann.lecun.com/exdb/mnist/train-images-idx3-ubyte.gz\n",
            "Failed to download (trying next):\n",
            "HTTP Error 403: Forbidden\n",
            "\n",
            "Downloading https://ossci-datasets.s3.amazonaws.com/mnist/train-images-idx3-ubyte.gz\n",
            "Downloading https://ossci-datasets.s3.amazonaws.com/mnist/train-images-idx3-ubyte.gz to data/MNIST/MNIST/raw/train-images-idx3-ubyte.gz\n",
            "100% 9912422/9912422 [00:00<00:00, 12651318.36it/s]\n",
            "Extracting data/MNIST/MNIST/raw/train-images-idx3-ubyte.gz to data/MNIST/MNIST/raw\n",
            "\n",
            "Downloading http://yann.lecun.com/exdb/mnist/train-labels-idx1-ubyte.gz\n",
            "Failed to download (trying next):\n",
            "HTTP Error 403: Forbidden\n",
            "\n",
            "Downloading https://ossci-datasets.s3.amazonaws.com/mnist/train-labels-idx1-ubyte.gz\n",
            "Downloading https://ossci-datasets.s3.amazonaws.com/mnist/train-labels-idx1-ubyte.gz to data/MNIST/MNIST/raw/train-labels-idx1-ubyte.gz\n",
            "100% 28881/28881 [00:00<00:00, 336701.28it/s]\n",
            "Extracting data/MNIST/MNIST/raw/train-labels-idx1-ubyte.gz to data/MNIST/MNIST/raw\n",
            "\n",
            "Downloading http://yann.lecun.com/exdb/mnist/t10k-images-idx3-ubyte.gz\n",
            "Failed to download (trying next):\n",
            "HTTP Error 403: Forbidden\n",
            "\n",
            "Downloading https://ossci-datasets.s3.amazonaws.com/mnist/t10k-images-idx3-ubyte.gz\n",
            "Downloading https://ossci-datasets.s3.amazonaws.com/mnist/t10k-images-idx3-ubyte.gz to data/MNIST/MNIST/raw/t10k-images-idx3-ubyte.gz\n",
            "100% 1648877/1648877 [00:00<00:00, 3186515.15it/s]\n",
            "Extracting data/MNIST/MNIST/raw/t10k-images-idx3-ubyte.gz to data/MNIST/MNIST/raw\n",
            "\n",
            "Downloading http://yann.lecun.com/exdb/mnist/t10k-labels-idx1-ubyte.gz\n",
            "Failed to download (trying next):\n",
            "HTTP Error 403: Forbidden\n",
            "\n",
            "Downloading https://ossci-datasets.s3.amazonaws.com/mnist/t10k-labels-idx1-ubyte.gz\n",
            "Downloading https://ossci-datasets.s3.amazonaws.com/mnist/t10k-labels-idx1-ubyte.gz to data/MNIST/MNIST/raw/t10k-labels-idx1-ubyte.gz\n",
            "100% 4542/4542 [00:00<00:00, 17704952.39it/s]\n",
            "Extracting data/MNIST/MNIST/raw/t10k-labels-idx1-ubyte.gz to data/MNIST/MNIST/raw\n",
            "\n",
            "torch.float32 torch.Size([256, 256, 256])\n",
            "/usr/lib/python3.10/multiprocessing/popen_fork.py:66: RuntimeWarning: os.fork() was called. os.fork() is incompatible with multithreaded code, and JAX is multithreaded, so this will likely lead to a deadlock.\n",
            "  self.pid = os.fork()\n",
            "loss = 9.449708 at epoch 1.000000\n",
            "loss = 9.220898 at epoch 2.000000\n",
            "loss = 9.140940 at epoch 3.000000\n",
            "loss = 9.100164 at epoch 4.000000\n",
            "loss = 9.072097 at epoch 5.000000\n",
            "loss = 9.054565 at epoch 6.000000\n",
            "loss = 9.040950 at epoch 7.000000\n",
            "loss = 9.030777 at epoch 8.000000\n",
            "loss = 9.023601 at epoch 9.000000\n",
            "loss = 9.016833 at epoch 10.000000\n",
            "loss = 9.012288 at epoch 11.000000\n",
            "loss = 9.008406 at epoch 12.000000\n",
            "loss = 9.005053 at epoch 13.000000\n",
            "loss = 9.002732 at epoch 14.000000\n",
            "loss = 9.000537 at epoch 15.000000\n",
            "Traceback (most recent call last):\n",
            "  File \"/content/latent-autoregressive-source-separation/lass_mnist/lass/train_sums.py\", line 29, in train\n",
            "    _, z_e_x2, _ = model(images2)\n",
            "  File \"/usr/local/lib/python3.10/dist-packages/torch/nn/modules/module.py\", line 1532, in _wrapped_call_impl\n",
            "    return self._call_impl(*args, **kwargs)\n",
            "  File \"/usr/local/lib/python3.10/dist-packages/torch/nn/modules/module.py\", line 1541, in _call_impl\n",
            "    return forward_call(*args, **kwargs)\n",
            "  File \"/content/latent-autoregressive-source-separation/lass_mnist/modules.py\", line 198, in forward\n",
            "    z_e_x = self.encoder(x)\n",
            "  File \"/usr/local/lib/python3.10/dist-packages/torch/nn/modules/module.py\", line 1532, in _wrapped_call_impl\n",
            "    return self._call_impl(*args, **kwargs)\n",
            "  File \"/usr/local/lib/python3.10/dist-packages/torch/nn/modules/module.py\", line 1541, in _call_impl\n",
            "    return forward_call(*args, **kwargs)\n",
            "  File \"/usr/local/lib/python3.10/dist-packages/torch/nn/modules/container.py\", line 217, in forward\n",
            "    input = module(input)\n",
            "  File \"/usr/local/lib/python3.10/dist-packages/torch/nn/modules/module.py\", line 1532, in _wrapped_call_impl\n",
            "    return self._call_impl(*args, **kwargs)\n",
            "  File \"/usr/local/lib/python3.10/dist-packages/torch/nn/modules/module.py\", line 1541, in _call_impl\n",
            "    return forward_call(*args, **kwargs)\n",
            "  File \"/usr/local/lib/python3.10/dist-packages/torch/nn/modules/batchnorm.py\", line 175, in forward\n",
            "    return F.batch_norm(\n",
            "  File \"/usr/local/lib/python3.10/dist-packages/torch/nn/functional.py\", line 2509, in batch_norm\n",
            "    return torch.batch_norm(\n",
            "KeyboardInterrupt\n",
            "\n",
            "During handling of the above exception, another exception occurred:\n",
            "\n",
            "Traceback (most recent call last):\n",
            "  File \"/content/latent-autoregressive-source-separation/lass_mnist/lass/train_sums.py\", line 172, in <module>\n",
            "    main()\n",
            "  File \"/usr/local/lib/python3.10/dist-packages/hydra/main.py\", line 90, in decorated_main\n",
            "    _run_hydra(\n",
            "  File \"/usr/local/lib/python3.10/dist-packages/hydra/_internal/utils.py\", line 389, in _run_hydra\n",
            "    _run_app(\n",
            "  File \"/usr/local/lib/python3.10/dist-packages/hydra/_internal/utils.py\", line 452, in _run_app\n",
            "    run_and_report(\n",
            "  File \"/usr/local/lib/python3.10/dist-packages/hydra/_internal/utils.py\", line 213, in run_and_report\n",
            "    return func()\n",
            "  File \"/usr/local/lib/python3.10/dist-packages/hydra/_internal/utils.py\", line 453, in <lambda>\n",
            "    lambda: hydra.run(\n",
            "  File \"/usr/local/lib/python3.10/dist-packages/hydra/_internal/hydra.py\", line 119, in run\n",
            "    ret = run_job(\n",
            "  File \"/usr/local/lib/python3.10/dist-packages/hydra/core/utils.py\", line 186, in run_job\n",
            "    ret.return_value = task_function(task_cfg)\n",
            "  File \"/content/latent-autoregressive-source-separation/lass_mnist/lass/train_sums.py\", line 155, in main\n",
            "    step = train(train_loader, sums, model, cfg, writer, step)\n",
            "  File \"/content/latent-autoregressive-source-separation/lass_mnist/lass/train_sums.py\", line 26, in train\n",
            "    with torch.no_grad():\n",
            "  File \"/usr/local/lib/python3.10/dist-packages/torch/autograd/grad_mode.py\", line 84, in __exit__\n",
            "    torch.set_grad_enabled(self.prev)\n",
            "  File \"/usr/local/lib/python3.10/dist-packages/torch/autograd/grad_mode.py\", line 186, in __init__\n",
            "    torch._C._set_grad_enabled(mode)\n",
            "KeyboardInterrupt\n"
          ]
        }
      ]
    },
    {
      "cell_type": "code",
      "source": [
        "!cp models/sums-MNIST/best.pt checkpoints/sum/256-sigmoid-big.pt\n",
        "!cp models/sums-MNIST/best.pt '/content/drive/MyDrive/1s2/Deep Learning/Deep Project/checkpoints/new_sum_256-sigmoid-big.pt'"
      ],
      "metadata": {
        "id": "sjoLW1zgjXwB"
      },
      "execution_count": null,
      "outputs": []
    },
    {
      "cell_type": "code",
      "source": [
        "!PYTHONPATH=. python lass/separate.py"
      ],
      "metadata": {
        "id": "3WjHOohibCBn"
      },
      "execution_count": null,
      "outputs": []
    }
  ]
}